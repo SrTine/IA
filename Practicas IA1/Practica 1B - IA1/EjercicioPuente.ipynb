{
 "cells": [
  {
   "cell_type": "markdown",
   "metadata": {},
   "source": [
    "EJERCICIO PUENTES - PABLO MARTINEZ"
   ]
  },
  {
   "cell_type": "code",
   "execution_count": 78,
   "metadata": {},
   "outputs": [
    {
     "name": "stdout",
     "output_type": "stream",
     "text": [
      "C:\\Users\\Tine\n"
     ]
    }
   ],
   "source": [
    "cd"
   ]
  },
  {
   "cell_type": "code",
   "execution_count": 79,
   "metadata": {},
   "outputs": [],
   "source": [
    "# Cargamos el módulo con los algoritmos de búsqueda.\n",
    "from search import *"
   ]
  },
  {
   "cell_type": "markdown",
   "metadata": {},
   "source": [
    "Utilizamos la clase problem de la que heredara la clase que resuelve el ejercicio"
   ]
  },
  {
   "cell_type": "code",
   "execution_count": 80,
   "metadata": {},
   "outputs": [],
   "source": [
    "class Problem(object):\n",
    "\n",
    "    \"\"\"The abstract class for a formal problem. You should subclass\n",
    "    this and implement the methods actions and result, and possibly\n",
    "    __init__, goal_test, and path_cost. Then you will create instances\n",
    "    of your subclass and solve them with the various search functions.\"\"\"\n",
    "\n",
    "    def __init__(self, initial, goal=None):\n",
    "        \"\"\"The constructor specifies the initial state, and possibly a goal\n",
    "        state, if there is a unique goal. Your subclass's constructor can add\n",
    "        other arguments.\"\"\"\n",
    "        self.initial = initial\n",
    "        self.goal = goal\n",
    "\n",
    "    def actions(self, state):\n",
    "        \"\"\"Dado un estado, devuelve las posibles acciones de ese estado ?¿?¿?¿? no se si es asi 100%\"\"\"\n",
    "        \"\"\"donde vamos a tener las acciones\"\"\"\n",
    "        \"\"\"Return the actions that can be executed in the given\n",
    "        state. The result would typically be a list, but if there are\n",
    "        many actions, consider yielding them one at a time in an\n",
    "        iterator, rather than building them all at once.\"\"\"\n",
    "        raise NotImplementedError\n",
    "\n",
    "    def result(self, state, action):\n",
    "        \"\"\"dado una accion y un estado ejecuta l accion y devuelve el estado siguiente\"\"\"\n",
    "        \"\"\"Return the state that results from executing the given\n",
    "        action in the given state. The action must be one of\n",
    "        self.actions(state).\"\"\"\n",
    "        raise NotImplementedError\n",
    "\n",
    "    def goal_test(self, state):\n",
    "        \"\"\"Return True if the state is a goal. The default method compares the\n",
    "        state to self.goal or checks for state in self.goal if it is a\n",
    "        list, as specified in the constructor. Override this method if\n",
    "        checking against a single self.goal is not enough.\"\"\"\n",
    "        if isinstance(self.goal, list):\n",
    "            return is_in(state, self.goal)\n",
    "        else:\n",
    "            return state == self.goal\n",
    "\n",
    "    def path_cost(self, c, state1, action, state2):\n",
    "        \"\"\"Return the cost of a solution path that arrives at state2 from\n",
    "        state1 via action, assuming cost c to get up to state1. If the problem\n",
    "        is such that the path doesn't matter, this function will only look at\n",
    "        state2.  If the path does matter, it will consider c and maybe state1\n",
    "        and action. The default method costs 1 for every step in the path.\"\"\"\n",
    "        return c + 1\n",
    "\n",
    "    def value(self, state):\n",
    "        \"\"\"For optimization problems, each state has a value.  Hill-climbing\n",
    "        and related algorithms try to maximize this value.\"\"\"\n",
    "        raise NotImplementedError\n",
    "\n",
    "    def coste_de_aplicar_accion(self, estado, accion):\n",
    "        \"\"\"Hemos incluido está función que devuelve el coste de un único operador (aplicar accion a estado). Por defecto, este\n",
    "        coste es 1. Reimplementar si el problema define otro coste \"\"\" \n",
    "        return 1"
   ]
  },
  {
   "cell_type": "markdown",
   "metadata": {},
   "source": [
    "Tenemos que tener e cuenta que vamos a pasar como atributos:\n",
    "\n",
    "    una lista con los tiempos de cada persona (n)\n",
    "    una lista con:\n",
    "        1er elemento el tiempo de la linterna\n",
    "        n elementos booleanos con las posiciones de las personas (False: izquierda  True:derecha)\n",
    "        1 elemento booleano con la posicion de la linterna (False: izquierda  True:derecha)\n",
    "    el goal, que es una lista con n elementos booleanos a True (que es el lado objetivo)"
   ]
  },
  {
   "cell_type": "code",
   "execution_count": 81,
   "metadata": {},
   "outputs": [],
   "source": [
    "class Puente(Problem):\n",
    "    \n",
    "    personas = list()\n",
    "    \n",
    "    def __init__(self,personas,initial,goal):\n",
    "        self.personas = personas\n",
    "        Problem.__init__(self,initial,goal)\n",
    "        \n",
    "    #funcion que devuelve una tupla con las personas que estan en el lado de la linterna\n",
    "    #la necesitamos para devolver todas las posibles acciones de un estado (depende de la linterna)\n",
    "    def devuelvePersonas(self,state):\n",
    "        size = len(list(state))\n",
    "        lista = list()\n",
    "        posLinterna = state[size-1]\n",
    "        \n",
    "        for i in range(size-2):#porque el primero es el tiempo y el ultimo la pos de la linterna\n",
    "            if(state[i+1] == posLinterna):\n",
    "                lista.append(i+1)\n",
    "        \n",
    "        return tuple(lista)\n",
    "        \n",
    "    def actions(self, state):\n",
    "        accs=list()\n",
    "        tupla = tuple(self.devuelvePersonas(state))\n",
    "        \n",
    "        if(state[0] > 0):#si el tiempo de la linterna se ha consumido\n",
    "            for i in tupla:\n",
    "                for j in tupla:\n",
    "                    accs.append((i,j))#todas las posibles combinaciones de las personas que estan en el lado de la linterna\n",
    "            \n",
    "        return tuple(accs)#lo devolvemos en formato tupla para que no sea mofificable\n",
    "    \n",
    "    def result(self,state,action):\n",
    "        listaA = list(action) #parseamos a lista la accion porque es una tupla (persona1,persona2)\n",
    "        listaE = list(state)#parseamos a lista porque el estado contiene varios argumentos (tiempo,personas,linterna)\n",
    "        \n",
    "        persona1 = self.personas[listaA[0]-1]#restamos uno porque en las acciones el primer valor de persona es 1 y no 0\n",
    "        persona2 = self.personas[listaA[1]-1]#el contenido de la accion representa las posiciones en la lista personas\n",
    "        \n",
    "        listaE[0] -= max(persona1,persona2)#restamos al tiempo de la linterna el máximo tiempo de las dos personas\n",
    "        \n",
    "        listaE[len(listaE)-1] = not listaE[len(listaE)-1] #cambiamos la posicion de la linterna\n",
    "        listaE[listaA[1]] = listaE[len(listaE)-1]#añadimos a las dos persnas al otro lado del puente\n",
    "        listaE[listaA[0]] = listaE[len(listaE)-1]#asignamos el valor de la linterna para cambiar de lado\n",
    "        \n",
    "        self.state = list(listaE)#guardamos el estado resultante\n",
    "        \n",
    "        return list(listaE)\n",
    "        \n",
    "    def goal_test(self,state):\n",
    "        result = True\n",
    "        for i in range(len(state) -1):#comprobamos que todas las personas y la linterna esten en el lado derecho(True)\n",
    "            if(state[i+1] == False):\n",
    "                result = False\n",
    "            \n",
    "        return result\n",
    "        "
   ]
  },
  {
   "cell_type": "code",
   "execution_count": 85,
   "metadata": {},
   "outputs": [],
   "source": [
    "puente1 = Puente((5,10),(50,False,False,False),(True,True))"
   ]
  },
  {
   "cell_type": "code",
   "execution_count": 86,
   "metadata": {},
   "outputs": [
    {
     "data": {
      "text/plain": [
       "((1, 1), (1, 2), (2, 1), (2, 2))"
      ]
     },
     "execution_count": 86,
     "metadata": {},
     "output_type": "execute_result"
    }
   ],
   "source": [
    "puente1.actions(puente1.initial)"
   ]
  },
  {
   "cell_type": "code",
   "execution_count": 87,
   "metadata": {},
   "outputs": [
    {
     "data": {
      "text/plain": [
       "True"
      ]
     },
     "execution_count": 87,
     "metadata": {},
     "output_type": "execute_result"
    }
   ],
   "source": [
    "puente1.goal_test((50,True,True,True))"
   ]
  },
  {
   "cell_type": "code",
   "execution_count": 88,
   "metadata": {},
   "outputs": [],
   "source": [
    "puente2 = Puente((5,10,15),(50,False,False,False,False),(True,True,True))"
   ]
  },
  {
   "cell_type": "code",
   "execution_count": 89,
   "metadata": {},
   "outputs": [],
   "source": [
    "puente3 = Puente((5,10,15,20),(60,False,False,False,False,False),(True,True,True,True))"
   ]
  },
  {
   "cell_type": "code",
   "execution_count": 90,
   "metadata": {},
   "outputs": [],
   "source": [
    "puenteFinal = Puente((10,30,60,80,120),(300,False,False,False,False,False,False),(True,True,True,True,True))"
   ]
  },
  {
   "cell_type": "markdown",
   "metadata": {},
   "source": [
    "Los graph (con control de repetidos) no me deja ejecutarlos, me pone: unhashable type: 'list' (tipo no manipulable)\n",
    "\n",
    "Los graph no tiene sentido utilizarlos porque tenemos atributos tipo tuple que van a impedir la modificacion de nodos, por eso solo utilizamoos tree"
   ]
  },
  {
   "cell_type": "code",
   "execution_count": 95,
   "metadata": {},
   "outputs": [
    {
     "name": "stdout",
     "output_type": "stream",
     "text": [
      "45.3 µs ± 2.34 µs per loop (mean ± std. dev. of 7 runs, 10000 loops each)\n"
     ]
    }
   ],
   "source": [
    "%%timeit 1\n",
    "breadth_first_tree_search(puente1).solution()"
   ]
  },
  {
   "cell_type": "code",
   "execution_count": 96,
   "metadata": {},
   "outputs": [
    {
     "name": "stdout",
     "output_type": "stream",
     "text": [
      "113 µs ± 4.9 µs per loop (mean ± std. dev. of 7 runs, 10000 loops each)\n"
     ]
    }
   ],
   "source": [
    "%%timeit 1\n",
    "depth_first_tree_search(puente1).solution()"
   ]
  },
  {
   "cell_type": "code",
   "execution_count": 97,
   "metadata": {},
   "outputs": [
    {
     "name": "stdout",
     "output_type": "stream",
     "text": [
      "1.54 ms ± 71.1 µs per loop (mean ± std. dev. of 7 runs, 1000 loops each)\n"
     ]
    }
   ],
   "source": [
    "%%timeit 1\n",
    "breadth_first_tree_search(puente2).solution()"
   ]
  },
  {
   "cell_type": "code",
   "execution_count": 98,
   "metadata": {},
   "outputs": [
    {
     "name": "stdout",
     "output_type": "stream",
     "text": [
      "391 µs ± 14.1 µs per loop (mean ± std. dev. of 7 runs, 1000 loops each)\n"
     ]
    }
   ],
   "source": [
    "%%timeit 1\n",
    "depth_first_tree_search(puente2).solution()"
   ]
  },
  {
   "cell_type": "code",
   "execution_count": 99,
   "metadata": {},
   "outputs": [
    {
     "name": "stdout",
     "output_type": "stream",
     "text": [
      "105 ms ± 9.67 ms per loop (mean ± std. dev. of 7 runs, 10 loops each)\n"
     ]
    }
   ],
   "source": [
    "%%timeit 1\n",
    "breadth_first_tree_search(puente3).solution()"
   ]
  },
  {
   "cell_type": "code",
   "execution_count": 100,
   "metadata": {},
   "outputs": [
    {
     "name": "stdout",
     "output_type": "stream",
     "text": [
      "1.29 ms ± 57.9 µs per loop (mean ± std. dev. of 7 runs, 1000 loops each)\n"
     ]
    }
   ],
   "source": [
    "%%timeit 1\n",
    "depth_first_tree_search(puente3).solution()"
   ]
  },
  {
   "cell_type": "code",
   "execution_count": 101,
   "metadata": {},
   "outputs": [
    {
     "name": "stdout",
     "output_type": "stream",
     "text": [
      "6.38 s ± 74.7 ms per loop (mean ± std. dev. of 7 runs, 1 loop each)\n"
     ]
    }
   ],
   "source": [
    "%%timeit 1\n",
    "breadth_first_tree_search(puenteFinal).solution()"
   ]
  },
  {
   "cell_type": "code",
   "execution_count": 102,
   "metadata": {},
   "outputs": [
    {
     "name": "stdout",
     "output_type": "stream",
     "text": [
      "27.9 ms ± 854 µs per loop (mean ± std. dev. of 7 runs, 10 loops each)\n"
     ]
    }
   ],
   "source": [
    "%%timeit 1\n",
    "depth_first_tree_search(puenteFinal).solution()"
   ]
  },
  {
   "cell_type": "markdown",
   "metadata": {},
   "source": [
    "Podemos ver que en este problema, los algoritmos en profundidad son mucho más rápidos que los de anchura."
   ]
  },
  {
   "cell_type": "code",
   "execution_count": 74,
   "metadata": {},
   "outputs": [],
   "source": [
    "#breadth_first_graph_search(puente1).solution()"
   ]
  },
  {
   "cell_type": "code",
   "execution_count": 75,
   "metadata": {},
   "outputs": [],
   "source": [
    "#breadth_first_graph_search(puente2).solution()"
   ]
  },
  {
   "cell_type": "code",
   "execution_count": 76,
   "metadata": {},
   "outputs": [],
   "source": [
    "#breadth_first_graph_search(puente3).solution()"
   ]
  },
  {
   "cell_type": "code",
   "execution_count": null,
   "metadata": {},
   "outputs": [],
   "source": [
    "#breadth_first_graph_search(puenteFinal).solution()"
   ]
  },
  {
   "cell_type": "code",
   "execution_count": 77,
   "metadata": {},
   "outputs": [],
   "source": [
    "#depth_first_graph_search(puente1).solution()"
   ]
  },
  {
   "cell_type": "code",
   "execution_count": null,
   "metadata": {},
   "outputs": [],
   "source": [
    "#depth_first_graph_search(puente2).solution()"
   ]
  },
  {
   "cell_type": "code",
   "execution_count": null,
   "metadata": {},
   "outputs": [],
   "source": [
    "#depth_first_graph_search(puente3).solution()"
   ]
  },
  {
   "cell_type": "code",
   "execution_count": null,
   "metadata": {},
   "outputs": [],
   "source": [
    "#depth_first_graph_search(puenteFinal).solution()"
   ]
  }
 ],
 "metadata": {
  "kernelspec": {
   "display_name": "Python 3",
   "language": "python",
   "name": "python3"
  },
  "language_info": {
   "codemirror_mode": {
    "name": "ipython",
    "version": 3
   },
   "file_extension": ".py",
   "mimetype": "text/x-python",
   "name": "python",
   "nbconvert_exporter": "python",
   "pygments_lexer": "ipython3",
   "version": "3.8.3"
  }
 },
 "nbformat": 4,
 "nbformat_minor": 4
}
