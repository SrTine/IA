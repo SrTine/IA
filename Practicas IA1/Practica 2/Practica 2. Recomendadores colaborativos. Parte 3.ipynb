{
 "cells": [
  {
   "cell_type": "markdown",
   "metadata": {},
   "source": [
    "GRUPO: 23\n",
    "\n",
    "Esta práctica ha sido realizado exclusivamente por el integrante del grupo:\n",
    "\n",
    "Pablo Martínez"
   ]
  },
  {
   "cell_type": "markdown",
   "metadata": {},
   "source": [
    "## Tercera parte.  Recomendacion basada en filtrado colaborativo."
   ]
  },
  {
   "cell_type": "markdown",
   "metadata": {},
   "source": [
    "En esta tercera parte utilizaremos la librería SURPRISE Se puede consultar la documentacion en http://surpriselib.com/\n",
    "\n",
    "Para instalarla: conda install -c conda-forge scikit-surprise o pip install numpy pip install scikit-surprise\n",
    "\n",
    "La librería SurPRISE (Simple Python RecommendatIon System Engine) tiene algoritmos de predición de ratings incluidos: baseline algorithms, neighborhood methods, matrix factorization-based ( SVD, PMF, SVD++, NMF) y otros. También tiene predefinidas las medidas de similitud mas comunes sobre vectores (cosine, MSD, pearson…) Una de las cosas más utiles es que proporciona herramientas para evaluar, analizar y comparar el rendimiento de distitnos algoritmos. Lo que vamos a hacer en esta parte de la práctica es probar varios procedimientos de evaluación cruzada midiendo datos sobre errores entre el valor real (conocido) y la predicción del recomendador. Las siglas corresponden a las siguientes medidas:\n",
    "\n",
    "MAE: Mean Absolute Error\n",
    "RMSE: Root mean square error (RMSE)\n",
    "MSE: mean square error is defined as the expected value of the square of the difference between the estimator and the parameter. -square root of the mean square error.\n",
    "\n",
    "Vamos a ejecutar algunos recomendadores y evaluarlos para poder comentar los resultados.\n"
   ]
  },
  {
   "cell_type": "code",
   "execution_count": 1,
   "metadata": {},
   "outputs": [],
   "source": [
    "from collections import defaultdict\n",
    "import numpy as np\n",
    "\n",
    "from surprise import KNNBasic\n",
    "from surprise import KNNWithMeans\n",
    "from surprise import KNNWithZScore\n",
    "from surprise import KNNBaseline\n",
    "\n",
    "from surprise import Dataset\n",
    "from surprise import accuracy\n",
    "from surprise.model_selection import train_test_split"
   ]
  },
  {
   "cell_type": "code",
   "execution_count": 2,
   "metadata": {},
   "outputs": [
    {
     "name": "stdout",
     "output_type": "stream",
     "text": [
      "Evaluating RMSE, MAE of algorithm SVD on 5 split(s).\n",
      "\n",
      "                  Fold 1  Fold 2  Fold 3  Fold 4  Fold 5  Mean    Std     \n",
      "RMSE (testset)    0.9376  0.9367  0.9405  0.9278  0.9372  0.9360  0.0043  \n",
      "MAE (testset)     0.7412  0.7354  0.7433  0.7312  0.7372  0.7377  0.0043  \n",
      "Fit time          5.79    5.49    5.60    5.40    5.40    5.54    0.15    \n",
      "Test time         0.38    0.17    0.21    0.22    0.22    0.24    0.07    \n"
     ]
    },
    {
     "data": {
      "text/plain": [
       "{'test_rmse': array([0.93759826, 0.93670262, 0.94052325, 0.92776556, 0.93718323]),\n",
       " 'test_mae': array([0.74119207, 0.73536046, 0.74329677, 0.73119917, 0.7372093 ]),\n",
       " 'fit_time': (5.792865037918091,\n",
       "  5.490248680114746,\n",
       "  5.600041389465332,\n",
       "  5.403141498565674,\n",
       "  5.39815092086792),\n",
       " 'test_time': (0.3793976306915283,\n",
       "  0.17240023612976074,\n",
       "  0.2086181640625,\n",
       "  0.22337055206298828,\n",
       "  0.22017431259155273)}"
      ]
     },
     "execution_count": 2,
     "metadata": {},
     "output_type": "execute_result"
    }
   ],
   "source": [
    "## Ejemplo getting started de la documentación de SURPRISE\n",
    "##http://surpriselib.com/\n",
    "\n",
    "from surprise import SVD\n",
    "from surprise import Dataset\n",
    "from surprise.model_selection import cross_validate\n",
    "\n",
    "# Load the movielens-100k dataset (download it if needed).\n",
    "data = Dataset.load_builtin('ml-100k')\n",
    "\n",
    "# Use the famous SVD algorithm.\n",
    "algo = SVD()\n",
    "\n",
    "# Run 5-fold cross-validation and print results.\n",
    "cross_validate(algo, data, measures=['RMSE', 'MAE'], cv=5, verbose=True)\n",
    "\n"
   ]
  },
  {
   "cell_type": "markdown",
   "metadata": {},
   "source": []
  },
  {
   "cell_type": "code",
   "execution_count": 3,
   "metadata": {},
   "outputs": [],
   "source": [
    "# Evaluacion extracted from surprise: \n",
    "# https://surprise.readthedocs.io/en/stable/FAQ.html#how-to-compute-precision-k-and-recall-k\n",
    "def measures_at_k(predictions, k, th_recom, th_relev):\n",
    "    '''Return precision and recall at k metrics for each user.'''\n",
    "\n",
    "    # First map the predictions to each user.\n",
    "    user_est_true = defaultdict(list)\n",
    "    for uid, _, true_r, est, _ in predictions:\n",
    "        user_est_true[uid].append((est, true_r))\n",
    "\n",
    "    precisions = dict()\n",
    "    recalls = dict()\n",
    "    onehits = dict()\n",
    "    mrr = dict()\n",
    "    \n",
    "    for uid, user_ratings in user_est_true.items():\n",
    "        \n",
    "        # Sort user ratings by estimated value\n",
    "        user_ratings.sort(key=lambda x: x[0], reverse=True)\n",
    "\n",
    "        # Number of relevant items\n",
    "        n_rel = sum((true_r >= th_relev) for (_, true_r) in user_ratings)\n",
    "\n",
    "        # Number of recommended items in top k\n",
    "        n_rec_k = sum((est >= th_recom) for (est, _) in user_ratings[:k])\n",
    "\n",
    "        # Number of relevant and recommended items in top k\n",
    "        n_rel_and_rec_k = sum(((true_r >= th_relev) and (est >= th_recom))\n",
    "                              for (est, true_r) in user_ratings[:k])\n",
    "\n",
    "        # Precision@K: Proportion of recommended items that are relevant\n",
    "        precisions[uid] = n_rel_and_rec_k / n_rec_k if n_rec_k != 0 else 0\n",
    "\n",
    "        # Recall@K: Proportion of relevant items that are recommended\n",
    "        recalls[uid] = n_rel_and_rec_k / n_rel if n_rel != 0 else 0\n",
    "       \n",
    "        \n",
    "    return precisions, recalls\n"
   ]
  },
  {
   "cell_type": "code",
   "execution_count": 4,
   "metadata": {},
   "outputs": [],
   "source": [
    "def f1(precision, recall):\n",
    "    \"\"\"\n",
    "        Funcion que calcula el f1 (media armónica) en funcion de precision y recall\n",
    "    \"\"\"\n",
    "    denominador = precision + recall\n",
    "    \n",
    "    if denominador == 0:\n",
    "        return 0\n",
    "    else:\n",
    "        return (2 * precision * recall) / denominador"
   ]
  },
  {
   "cell_type": "code",
   "execution_count": 5,
   "metadata": {},
   "outputs": [],
   "source": [
    "def get_results(recommendations, k, knn):\n",
    "    \"\"\"\n",
    "        Function to get the measures results \n",
    "    \"\"\"\n",
    "    # threshold = 4 --> solo se tienen en cuenta peliculas que hayan \n",
    "    # sido puntuadas con 4 o 5 estrellas\n",
    "    precisions, recalls  = measures_at_k(recommendations, k, th_recom=4, th_relev=1)\n",
    "    \n",
    "    # Measures can then be averaged over all users\n",
    "    precision_result = sum(prec for prec in precisions.values()) / len(precisions)\n",
    "    recall_result = sum(rec for rec in recalls.values()) / len(recalls)\n",
    "    # Media armónica  /\n",
    "    f1_result = f1(precision_result, recall_result)\n",
    "    # En este archivo se volcarán los resultados de las métricas. Tiene que existir. \n",
    "    f = open(\"C:/Users/Tine/Documents/Python Scripts/results_user_cf.csv\", 'a')\n",
    "    #f = open(\"C:/hlocal/results_user_cf.csv\", 'a')\n",
    "    f.write(str(k) + ',' + knn + \",\" + str(precision_result) + ',' + str(recall_result) + ',' +  str(f1_result) +  '\\n') \n",
    "    f.close()\n",
    "    "
   ]
  },
  {
   "cell_type": "code",
   "execution_count": 6,
   "metadata": {},
   "outputs": [],
   "source": [
    "# Hemos cargado antes los datos de movieLens para 100K\n",
    "# data = Dataset.load_builtin('ml-100k')"
   ]
  },
  {
   "cell_type": "code",
   "execution_count": 7,
   "metadata": {},
   "outputs": [],
   "source": [
    "# creo dos conjuntos de datos, el training set y el evaluation set\n",
    "# cada uno contendra la mitad de los datos\n",
    "training_set, evaluation_set = train_test_split(data, test_size=.5)"
   ]
  },
  {
   "cell_type": "code",
   "execution_count": 8,
   "metadata": {},
   "outputs": [
    {
     "name": "stdout",
     "output_type": "stream",
     "text": [
      "Estimating biases using als...\n",
      "Computing the pearson_baseline similarity matrix...\n",
      "Done computing similarity matrix.\n"
     ]
    }
   ],
   "source": [
    "# Ahora determino cual es el algoritmo que voy a usar de recomendacion\n",
    "# en este caso voy a usar el algoritmo KNN para encontrar las similitudes entre items\n",
    "recommendation_algorithm = KNNBasic(k=100, sim_options={'name': 'pearson_baseline', 'user_based': True})\n",
    "\n",
    "# aplico el algoritmo sobre el training_set\n",
    "recommendation_algorithm.fit(training_set)\n",
    "\n",
    "# aplico el algoritmo sobre el evaluation set y obtengo las predicciones en las recomendaciones\n",
    "recommendations = recommendation_algorithm.test(evaluation_set)\n",
    "\n",
    "\n",
    "K = 10\n",
    "for k in range(K):\n",
    "    get_results(recommendations, k+1, \"knn_basic\")"
   ]
  },
  {
   "cell_type": "code",
   "execution_count": 9,
   "metadata": {},
   "outputs": [
    {
     "name": "stdout",
     "output_type": "stream",
     "text": [
      "Estimating biases using als...\n",
      "Computing the pearson_baseline similarity matrix...\n",
      "Done computing similarity matrix.\n"
     ]
    }
   ],
   "source": [
    "##########################################################\n",
    "# Hacer distintas pruebas con el resto de tipos KNN\n",
    "recommendation_algorithm = KNNWithMeans(k=100, sim_options={'name': 'pearson_baseline', 'user_based': True})\n",
    "\n",
    "# aplico el algoritmo sobre el training_set\n",
    "recommendation_algorithm.fit(training_set)\n",
    "\n",
    "# aplico el algoritmo sobre el evaluation set y obtengo las predicciones en las recomendaciones\n",
    "recommendations = recommendation_algorithm.test(evaluation_set)\n",
    "\n",
    "K = 10\n",
    "for k in range(K):\n",
    "    get_results(recommendations, k+1, \"knn_withmeans\")"
   ]
  },
  {
   "cell_type": "code",
   "execution_count": 10,
   "metadata": {},
   "outputs": [
    {
     "name": "stdout",
     "output_type": "stream",
     "text": [
      "Estimating biases using als...\n",
      "Computing the pearson_baseline similarity matrix...\n",
      "Done computing similarity matrix.\n"
     ]
    }
   ],
   "source": [
    "##########################################################\n",
    "# Hago lo mismo con el resto de tipos KNN\n",
    "recommendation_algorithm = KNNWithZScore(k=100, sim_options={'name': 'pearson_baseline', 'user_based': True})\n",
    "\n",
    "# aplico el algoritmo sobre el training_set\n",
    "recommendation_algorithm.fit(training_set)\n",
    "\n",
    "# aplico el algoritmo sobre el evaluation set y obtengo las predicciones en las recomendaciones\n",
    "recommendations = recommendation_algorithm.test(evaluation_set)\n",
    "\n",
    "K = 10\n",
    "for k in range(K):\n",
    "    get_results(recommendations, k+1, \"knn_withzscore\")"
   ]
  },
  {
   "cell_type": "code",
   "execution_count": 11,
   "metadata": {},
   "outputs": [
    {
     "name": "stdout",
     "output_type": "stream",
     "text": [
      "Estimating biases using als...\n",
      "Computing the pearson_baseline similarity matrix...\n",
      "Done computing similarity matrix.\n"
     ]
    }
   ],
   "source": [
    "##########################################################\n",
    "# Hago lo mismo con el resto de tipos KNN\n",
    "recommendation_algorithm = KNNBaseline(k=100, sim_options={'name': 'pearson_baseline', 'user_based': True})\n",
    "\n",
    "# aplico el algoritmo sobre el training_set\n",
    "recommendation_algorithm.fit(training_set)\n",
    "\n",
    "# aplico el algoritmo sobre el evaluation set y obtengo las predicciones en las recomendaciones\n",
    "recommendations = recommendation_algorithm.test(evaluation_set)\n",
    "\n",
    "K = 10\n",
    "for k in range(K):\n",
    "    get_results(recommendations, k+1, \"knn_baseline\")"
   ]
  },
  {
   "cell_type": "markdown",
   "metadata": {},
   "source": [
    "## Ejercicio:  se pide ejecutar, comprender y escribir comentarios razonados sobre la evaluación de distintos recomendadores.\n",
    "    \n",
    "Prueba otros algoritmos de predicción de ratings basados en la estimación de los vecinos más próximos y realiza evaluaciones de su comportamiento. Comenta los resultados.¶\n",
    "Puedes consultar la documentación en https://surprise.readthedocs.io/en/stable/knn_inspired.html#"
   ]
  },
  {
   "cell_type": "markdown",
   "metadata": {},
   "source": [
    "Algoritmos de filtrado colaborativo utilizados: KNN(basic, withMeans,withZScore), CSV\n",
    "\n",
    "Medidas de similitud utilizadas: pearson, cosine"
   ]
  },
  {
   "cell_type": "code",
   "execution_count": 12,
   "metadata": {},
   "outputs": [
    {
     "name": "stdout",
     "output_type": "stream",
     "text": [
      "Estimating biases using als...\n",
      "Computing the pearson_baseline similarity matrix...\n",
      "Done computing similarity matrix.\n",
      "Estimating biases using als...\n",
      "Computing the pearson_baseline similarity matrix...\n",
      "Done computing similarity matrix.\n",
      "Estimating biases using als...\n",
      "Computing the pearson_baseline similarity matrix...\n",
      "Done computing similarity matrix.\n",
      "Estimating biases using als...\n",
      "Computing the pearson_baseline similarity matrix...\n",
      "Done computing similarity matrix.\n",
      "Estimating biases using als...\n",
      "Computing the pearson_baseline similarity matrix...\n",
      "Done computing similarity matrix.\n",
      "Evaluating RMSE, MAE of algorithm KNNBasic on 5 split(s).\n",
      "\n",
      "                  Fold 1  Fold 2  Fold 3  Fold 4  Fold 5  Mean    Std     \n",
      "RMSE (testset)    0.9974  1.0046  1.0010  0.9964  1.0050  1.0009  0.0036  \n",
      "MAE (testset)     0.7897  0.7961  0.7907  0.7894  0.7962  0.7924  0.0031  \n",
      "Fit time          2.46    2.32    2.36    2.38    2.72    2.45    0.14    \n",
      "Test time         5.21    5.18    5.25    7.08    5.92    5.73    0.73    \n"
     ]
    },
    {
     "data": {
      "text/plain": [
       "{'test_rmse': array([0.99739056, 1.00456676, 1.00103434, 0.99641232, 1.00504276]),\n",
       " 'test_mae': array([0.78972001, 0.79611746, 0.79070023, 0.78944225, 0.79624456]),\n",
       " 'fit_time': (2.4552764892578125,\n",
       "  2.322972536087036,\n",
       "  2.3613946437835693,\n",
       "  2.384783983230591,\n",
       "  2.7175440788269043),\n",
       " 'test_time': (5.21230673789978,\n",
       "  5.183574676513672,\n",
       "  5.253926515579224,\n",
       "  7.079390287399292,\n",
       "  5.922556638717651)}"
      ]
     },
     "execution_count": 12,
     "metadata": {},
     "output_type": "execute_result"
    }
   ],
   "source": [
    "data = Dataset.load_builtin('ml-100k')\n",
    "\n",
    "algo = KNNBasic(k=100, sim_options={'name': 'pearson_baseline', 'user_based': True})\n",
    "\n",
    "# Run 5-fold cross-validation and print results.\n",
    "cross_validate(algo, data, measures=['RMSE', 'MAE'], cv=5, verbose=True)"
   ]
  },
  {
   "cell_type": "code",
   "execution_count": 36,
   "metadata": {},
   "outputs": [
    {
     "name": "stdout",
     "output_type": "stream",
     "text": [
      "Estimating biases using als...\n",
      "Computing the pearson_baseline similarity matrix...\n",
      "Done computing similarity matrix.\n"
     ]
    }
   ],
   "source": [
    "recommendation_algorithm = KNNBasic(k=100, sim_options={'name': 'pearson_baseline', 'user_based': True})\n",
    "recommendation_algorithm.fit(training_set)\n",
    "recommendations = recommendation_algorithm.test(evaluation_set)\n",
    "\n",
    "\n",
    "K = 10\n",
    "for k in range(K):\n",
    "    get_results(recommendations, k+1, \"knn_basic\")"
   ]
  },
  {
   "cell_type": "code",
   "execution_count": null,
   "metadata": {},
   "outputs": [],
   "source": [
    "1,knn_basic,0.9554612937433722,0.03683050154825231,0.07092695681952789\n",
    "2,knn_basic,0.9554612937433722,0.06634819519670446,0.12408014039082521\n",
    "3,knn_basic,0.9554612937433722,0.09064349297854951,0.16557872628055398\n",
    "4,knn_basic,0.9554612937433722,0.10976073063172775,0.1969019177070252\n",
    "5,knn_basic,0.9554612937433722,0.1249723960289564,0.22103399463079929\n",
    "6,knn_basic,0.9554612937433722,0.1380991757027904,0.24131892248941134\n",
    "7,knn_basic,0.9554612937433722,0.1494700369632874,0.258500833353103\n",
    "8,knn_basic,0.9554612937433722,0.1592824977791682,0.27304616999193676\n",
    "9,knn_basic,0.9554612937433722,0.16737535789565453,0.28485118607822907\n",
    "10,knn_basic,0.9554612937433722,0.17484458530530517,0.29559650493976747"
   ]
  },
  {
   "cell_type": "code",
   "execution_count": 13,
   "metadata": {},
   "outputs": [
    {
     "name": "stdout",
     "output_type": "stream",
     "text": [
      "Estimating biases using als...\n",
      "Computing the pearson_baseline similarity matrix...\n",
      "Done computing similarity matrix.\n",
      "Estimating biases using als...\n",
      "Computing the pearson_baseline similarity matrix...\n",
      "Done computing similarity matrix.\n",
      "Estimating biases using als...\n",
      "Computing the pearson_baseline similarity matrix...\n",
      "Done computing similarity matrix.\n",
      "Estimating biases using als...\n",
      "Computing the pearson_baseline similarity matrix...\n",
      "Done computing similarity matrix.\n",
      "Estimating biases using als...\n",
      "Computing the pearson_baseline similarity matrix...\n",
      "Done computing similarity matrix.\n",
      "Evaluating RMSE, MAE of algorithm KNNWithMeans on 5 split(s).\n",
      "\n",
      "                  Fold 1  Fold 2  Fold 3  Fold 4  Fold 5  Mean    Std     \n",
      "RMSE (testset)    0.9410  0.9380  0.9366  0.9300  0.9406  0.9373  0.0040  \n",
      "MAE (testset)     0.7345  0.7306  0.7294  0.7288  0.7324  0.7311  0.0021  \n",
      "Fit time          2.60    2.54    2.58    2.77    2.57    2.61    0.08    \n",
      "Test time         6.10    6.40    6.09    6.12    5.95    6.13    0.15    \n"
     ]
    },
    {
     "data": {
      "text/plain": [
       "{'test_rmse': array([0.94101555, 0.93799499, 0.93660295, 0.9300082 , 0.94064396]),\n",
       " 'test_mae': array([0.73449435, 0.73056517, 0.72937414, 0.72881871, 0.73242012]),\n",
       " 'fit_time': (2.60072922706604,\n",
       "  2.536982297897339,\n",
       "  2.5775511264801025,\n",
       "  2.7667617797851562,\n",
       "  2.565481424331665),\n",
       " 'test_time': (6.10114598274231,\n",
       "  6.397415399551392,\n",
       "  6.087649583816528,\n",
       "  6.122856140136719,\n",
       "  5.95072078704834)}"
      ]
     },
     "execution_count": 13,
     "metadata": {},
     "output_type": "execute_result"
    }
   ],
   "source": [
    "data = Dataset.load_builtin('ml-100k')\n",
    "\n",
    "algo = KNNWithMeans(k=100, sim_options={'name': 'pearson_baseline', 'user_based': True})\n",
    "\n",
    "# Run 5-fold cross-validation and print results.\n",
    "cross_validate(algo, data, measures=['RMSE', 'MAE'], cv=5, verbose=True)"
   ]
  },
  {
   "cell_type": "code",
   "execution_count": 38,
   "metadata": {},
   "outputs": [
    {
     "name": "stdout",
     "output_type": "stream",
     "text": [
      "Estimating biases using als...\n",
      "Computing the pearson_baseline similarity matrix...\n",
      "Done computing similarity matrix.\n"
     ]
    }
   ],
   "source": [
    "recommendation_algorithm = KNNWithMeans(k=100, sim_options={'name': 'pearson_baseline', 'user_based': True})\n",
    "recommendation_algorithm.fit(training_set)\n",
    "recommendations = recommendation_algorithm.test(evaluation_set)\n",
    "\n",
    "K = 10\n",
    "for k in range(K):\n",
    "    get_results(recommendations, k+1, \"knn_withmeans\")"
   ]
  },
  {
   "cell_type": "code",
   "execution_count": null,
   "metadata": {},
   "outputs": [],
   "source": [
    "1,knn_withmeans,0.8377518557794273,0.031802320709128785,0.06127842039642204\n",
    "2,knn_withmeans,0.8377518557794273,0.05873492328920355,0.10977360097984366\n",
    "3,knn_withmeans,0.8377518557794273,0.08309527425485001,0.15119386908641352\n",
    "4,knn_withmeans,0.8377518557794273,0.1051542128017031,0.1868545337717737\n",
    "5,knn_withmeans,0.8377518557794273,0.12543844157058034,0.21820462166397073\n",
    "6,knn_withmeans,0.8377518557794273,0.14310429111236533,0.2444515147899852\n",
    "7,knn_withmeans,0.8377518557794273,0.15873462884356213,0.2668982107478648\n",
    "8,knn_withmeans,0.8377518557794273,0.17332159903135488,0.28722045968924964\n",
    "9,knn_withmeans,0.8377518557794273,0.18660448703651422,0.30522240899463493\n",
    "10,knn_withmeans,0.8377518557794273,0.19794957041102942,0.3202324835499166"
   ]
  },
  {
   "cell_type": "code",
   "execution_count": 14,
   "metadata": {},
   "outputs": [
    {
     "name": "stdout",
     "output_type": "stream",
     "text": [
      "Estimating biases using als...\n",
      "Computing the pearson_baseline similarity matrix...\n",
      "Done computing similarity matrix.\n",
      "Estimating biases using als...\n",
      "Computing the pearson_baseline similarity matrix...\n",
      "Done computing similarity matrix.\n",
      "Estimating biases using als...\n",
      "Computing the pearson_baseline similarity matrix...\n",
      "Done computing similarity matrix.\n",
      "Estimating biases using als...\n",
      "Computing the pearson_baseline similarity matrix...\n",
      "Done computing similarity matrix.\n",
      "Estimating biases using als...\n",
      "Computing the pearson_baseline similarity matrix...\n",
      "Done computing similarity matrix.\n",
      "Evaluating RMSE, MAE of algorithm KNNWithZScore on 5 split(s).\n",
      "\n",
      "                  Fold 1  Fold 2  Fold 3  Fold 4  Fold 5  Mean    Std     \n",
      "RMSE (testset)    0.9343  0.9403  0.9358  0.9346  0.9380  0.9366  0.0023  \n",
      "MAE (testset)     0.7276  0.7330  0.7274  0.7261  0.7287  0.7286  0.0024  \n",
      "Fit time          2.76    2.78    2.87    2.74    2.55    2.74    0.10    \n",
      "Test time         6.63    6.39    6.61    6.57    6.43    6.52    0.10    \n"
     ]
    },
    {
     "data": {
      "text/plain": [
       "{'test_rmse': array([0.93432485, 0.94032708, 0.93583485, 0.93458352, 0.93800941]),\n",
       " 'test_mae': array([0.72756312, 0.73302805, 0.72741225, 0.72608579, 0.72871842]),\n",
       " 'fit_time': (2.7602970600128174,\n",
       "  2.7808141708374023,\n",
       "  2.8690478801727295,\n",
       "  2.7438509464263916,\n",
       "  2.5529518127441406),\n",
       " 'test_time': (6.628171920776367,\n",
       "  6.391536235809326,\n",
       "  6.605456352233887,\n",
       "  6.570687294006348,\n",
       "  6.42845892906189)}"
      ]
     },
     "execution_count": 14,
     "metadata": {},
     "output_type": "execute_result"
    }
   ],
   "source": [
    "data = Dataset.load_builtin('ml-100k')\n",
    "\n",
    "algo = KNNWithZScore(k=100, sim_options={'name': 'pearson_baseline', 'user_based': True})\n",
    "\n",
    "# Run 5-fold cross-validation and print results.\n",
    "cross_validate(algo, data, measures=['RMSE', 'MAE'], cv=5, verbose=True)"
   ]
  },
  {
   "cell_type": "code",
   "execution_count": 39,
   "metadata": {},
   "outputs": [
    {
     "name": "stdout",
     "output_type": "stream",
     "text": [
      "Estimating biases using als...\n",
      "Computing the pearson_baseline similarity matrix...\n",
      "Done computing similarity matrix.\n"
     ]
    }
   ],
   "source": [
    "recommendation_algorithm = KNNWithZScore(k=100, sim_options={'name': 'pearson_baseline', 'user_based': True})\n",
    "recommendation_algorithm.fit(training_set)\n",
    "recommendations = recommendation_algorithm.test(evaluation_set)\n",
    "\n",
    "K = 10\n",
    "for k in range(K):\n",
    "    get_results(recommendations, k+1, \"knn_withzscore\")"
   ]
  },
  {
   "cell_type": "code",
   "execution_count": null,
   "metadata": {},
   "outputs": [],
   "source": [
    "1,knn_withzscore,0.8282078472958643,0.031165516237714467,0.060070572834535506\n",
    "2,knn_withzscore,0.8282078472958643,0.0585295607603518,0.10933257372498337\n",
    "3,knn_withzscore,0.8282078472958643,0.08266082090737455,0.15031879551735844\n",
    "4,knn_withzscore,0.8282078472958643,0.10442775142427144,0.18546983049699492\n",
    "5,knn_withzscore,0.8282078472958643,0.12445411581647581,0.2163912895414276\n",
    "6,knn_withzscore,0.8282078472958643,0.14232481332491123,0.24290687380930623\n",
    "7,knn_withzscore,0.8282078472958643,0.1583304793256178,0.26583973861951093\n",
    "8,knn_withzscore,0.8282078472958643,0.1729395935945105,0.2861315380195129\n",
    "9,knn_withzscore,0.8282078472958643,0.1859697143193834,0.3037369048342545\n",
    "10,knn_withzscore,0.8282078472958643,0.1975035230843203,0.318947361627442"
   ]
  },
  {
   "cell_type": "code",
   "execution_count": 15,
   "metadata": {},
   "outputs": [
    {
     "name": "stdout",
     "output_type": "stream",
     "text": [
      "Estimating biases using als...\n",
      "Computing the pearson_baseline similarity matrix...\n",
      "Done computing similarity matrix.\n",
      "Estimating biases using als...\n",
      "Computing the pearson_baseline similarity matrix...\n",
      "Done computing similarity matrix.\n",
      "Estimating biases using als...\n",
      "Computing the pearson_baseline similarity matrix...\n",
      "Done computing similarity matrix.\n",
      "Estimating biases using als...\n",
      "Computing the pearson_baseline similarity matrix...\n",
      "Done computing similarity matrix.\n",
      "Estimating biases using als...\n",
      "Computing the pearson_baseline similarity matrix...\n",
      "Done computing similarity matrix.\n",
      "Evaluating RMSE, MAE of algorithm KNNBaseline on 5 split(s).\n",
      "\n",
      "                  Fold 1  Fold 2  Fold 3  Fold 4  Fold 5  Mean    Std     \n",
      "RMSE (testset)    0.9134  0.9283  0.9141  0.9183  0.9306  0.9210  0.0072  \n",
      "MAE (testset)     0.7154  0.7287  0.7160  0.7201  0.7287  0.7218  0.0059  \n",
      "Fit time          2.59    2.82    2.98    2.68    2.42    2.70    0.19    \n",
      "Test time         7.40    7.58    7.20    7.26    6.45    7.18    0.39    \n"
     ]
    },
    {
     "data": {
      "text/plain": [
       "{'test_rmse': array([0.91340454, 0.92831992, 0.91412969, 0.91830874, 0.93059261]),\n",
       " 'test_mae': array([0.71544524, 0.72872479, 0.71597759, 0.72006529, 0.72870533]),\n",
       " 'fit_time': (2.5948503017425537,\n",
       "  2.819277048110962,\n",
       "  2.981828451156616,\n",
       "  2.680899143218994,\n",
       "  2.4216787815093994),\n",
       " 'test_time': (7.399085998535156,\n",
       "  7.5823681354522705,\n",
       "  7.201022624969482,\n",
       "  7.2570013999938965,\n",
       "  6.445598363876343)}"
      ]
     },
     "execution_count": 15,
     "metadata": {},
     "output_type": "execute_result"
    }
   ],
   "source": [
    "data = Dataset.load_builtin('ml-100k')\n",
    "\n",
    "algo = KNNBaseline(k=100, sim_options={'name': 'pearson_baseline', 'user_based': True})\n",
    "\n",
    "# Run 5-fold cross-validation and print results.\n",
    "cross_validate(algo, data, measures=['RMSE', 'MAE'], cv=5, verbose=True)"
   ]
  },
  {
   "cell_type": "code",
   "execution_count": 40,
   "metadata": {},
   "outputs": [
    {
     "name": "stdout",
     "output_type": "stream",
     "text": [
      "Estimating biases using als...\n",
      "Computing the pearson_baseline similarity matrix...\n",
      "Done computing similarity matrix.\n"
     ]
    }
   ],
   "source": [
    "recommendation_algorithm = KNNBaseline(k=100, sim_options={'name': 'pearson_baseline', 'user_based': True})\n",
    "recommendation_algorithm.fit(training_set)\n",
    "recommendations = recommendation_algorithm.test(evaluation_set)\n",
    "\n",
    "K = 10\n",
    "for k in range(K):\n",
    "    get_results(recommendations, k+1, \"knn_baseline\")"
   ]
  },
  {
   "cell_type": "code",
   "execution_count": null,
   "metadata": {},
   "outputs": [],
   "source": [
    "1,knn_baseline,0.9204665959703076,0.03596465691528636,0.06922455790978523\n",
    "2,knn_baseline,0.9204665959703076,0.066402314481288,0.12386875648392193\n",
    "3,knn_baseline,0.9204665959703076,0.09259877088962959,0.168269646204569\n",
    "4,knn_baseline,0.9204665959703076,0.1148783332291254,0.20426365234612023\n",
    "5,knn_baseline,0.9204665959703076,0.13331660009924678,0.23290080452485945\n",
    "6,knn_baseline,0.9204665959703076,0.1485012935046663,0.2557429114106759\n",
    "7,knn_baseline,0.9204665959703076,0.16142317220388175,0.2746761124841565\n",
    "8,knn_baseline,0.9204665959703076,0.17294923767357778,0.2911865571701712\n",
    "9,knn_baseline,0.9204665959703076,0.18328385039071837,0.3056971119181652\n",
    "10,knn_baseline,0.9204665959703076,0.19269992083716841,0.31868339102659743"
   ]
  },
  {
   "cell_type": "code",
   "execution_count": 16,
   "metadata": {},
   "outputs": [
    {
     "name": "stdout",
     "output_type": "stream",
     "text": [
      "Estimating biases using als...\n",
      "Computing the cosine similarity matrix...\n",
      "Done computing similarity matrix.\n",
      "Estimating biases using als...\n",
      "Computing the cosine similarity matrix...\n",
      "Done computing similarity matrix.\n",
      "Estimating biases using als...\n",
      "Computing the cosine similarity matrix...\n",
      "Done computing similarity matrix.\n",
      "Estimating biases using als...\n",
      "Computing the cosine similarity matrix...\n",
      "Done computing similarity matrix.\n",
      "Estimating biases using als...\n",
      "Computing the cosine similarity matrix...\n",
      "Done computing similarity matrix.\n",
      "Evaluating RMSE, MAE of algorithm KNNBaseline on 5 split(s).\n",
      "\n",
      "                  Fold 1  Fold 2  Fold 3  Fold 4  Fold 5  Mean    Std     \n",
      "RMSE (testset)    0.9352  0.9387  0.9341  0.9376  0.9367  0.9364  0.0016  \n",
      "MAE (testset)     0.7364  0.7423  0.7399  0.7377  0.7370  0.7387  0.0022  \n",
      "Fit time          2.42    2.21    2.24    2.23    2.25    2.27    0.08    \n",
      "Test time         7.40    7.21    7.37    7.33    7.24    7.31    0.07    \n"
     ]
    },
    {
     "data": {
      "text/plain": [
       "{'test_rmse': array([0.93521374, 0.9386884 , 0.93408547, 0.93757794, 0.93668218]),\n",
       " 'test_mae': array([0.73640392, 0.74232647, 0.73994538, 0.73773628, 0.73700178]),\n",
       " 'fit_time': (2.421116590499878,\n",
       "  2.2131898403167725,\n",
       "  2.24385404586792,\n",
       "  2.2269680500030518,\n",
       "  2.2486202716827393),\n",
       " 'test_time': (7.397406816482544,\n",
       "  7.2078938484191895,\n",
       "  7.3738062381744385,\n",
       "  7.332503080368042,\n",
       "  7.238425970077515)}"
      ]
     },
     "execution_count": 16,
     "metadata": {},
     "output_type": "execute_result"
    }
   ],
   "source": [
    "data = Dataset.load_builtin('ml-100k')\n",
    "\n",
    "algo = KNNBaseline(k=100, sim_options={'name': 'cosine', 'user_based': True})\n",
    "\n",
    "# Run 5-fold cross-validation and print results.\n",
    "cross_validate(algo, data, measures=['RMSE', 'MAE'], cv=5, verbose=True)"
   ]
  },
  {
   "cell_type": "code",
   "execution_count": 52,
   "metadata": {},
   "outputs": [
    {
     "name": "stdout",
     "output_type": "stream",
     "text": [
      "Estimating biases using als...\n",
      "Computing the cosine similarity matrix...\n",
      "Done computing similarity matrix.\n"
     ]
    }
   ],
   "source": [
    "recommendation_algorithm = KNNBaseline(k=100, sim_options={'name': 'cosine', 'user_based': True})\n",
    "recommendation_algorithm.fit(training_set)\n",
    "recommendations = recommendation_algorithm.test(evaluation_set)\n",
    "\n",
    "K = 10\n",
    "for k in range(K):\n",
    "    get_results(recommendations, k+1, \"knn_cosine\")"
   ]
  },
  {
   "cell_type": "code",
   "execution_count": null,
   "metadata": {},
   "outputs": [],
   "source": [
    "1,knn_cosine,0.88016967126193,0.03390149745530835,0.06528828583971324\n",
    "2,knn_cosine,0.88016967126193,0.06196093726656509,0.11577192650639628\n",
    "3,knn_cosine,0.88016967126193,0.08583462405910573,0.15641552156015406\n",
    "4,knn_cosine,0.88016967126193,0.10458669390172426,0.18695799132926552\n",
    "5,knn_cosine,0.88016967126193,0.12054022828465319,0.21204117826997154\n",
    "6,knn_cosine,0.88016967126193,0.13362219184362004,0.23202040763677487\n",
    "7,knn_cosine,0.88016967126193,0.14530467860880128,0.24943143867040823\n",
    "8,knn_cosine,0.88016967126193,0.15573348461862765,0.264642286652242\n",
    "9,knn_cosine,0.88016967126193,0.1645867132682507,0.2773167706011046\n",
    "10,knn_cosine,0.88016967126193,0.17281397072597135,0.28890404321227753"
   ]
  },
  {
   "cell_type": "code",
   "execution_count": 17,
   "metadata": {},
   "outputs": [
    {
     "name": "stdout",
     "output_type": "stream",
     "text": [
      "Evaluating RMSE, MAE of algorithm SVD on 5 split(s).\n",
      "\n",
      "                  Fold 1  Fold 2  Fold 3  Fold 4  Fold 5  Mean    Std     \n",
      "RMSE (testset)    0.9377  0.9321  0.9324  0.9363  0.9346  0.9346  0.0022  \n",
      "MAE (testset)     0.7412  0.7343  0.7350  0.7367  0.7365  0.7367  0.0024  \n",
      "Fit time          5.65    5.53    5.67    5.61    5.51    5.59    0.06    \n",
      "Test time         0.25    0.17    0.25    0.18    0.18    0.21    0.03    \n"
     ]
    },
    {
     "data": {
      "text/plain": [
       "{'test_rmse': array([0.93770645, 0.93208688, 0.93242449, 0.93631593, 0.93463473]),\n",
       " 'test_mae': array([0.74122125, 0.7342647 , 0.73499089, 0.7367379 , 0.7365045 ]),\n",
       " 'fit_time': (5.649105787277222,\n",
       "  5.526436805725098,\n",
       "  5.672861576080322,\n",
       "  5.607264757156372,\n",
       "  5.511228084564209),\n",
       " 'test_time': (0.2494187355041504,\n",
       "  0.1740856170654297,\n",
       "  0.24844002723693848,\n",
       "  0.18211841583251953,\n",
       "  0.18266797065734863)}"
      ]
     },
     "execution_count": 17,
     "metadata": {},
     "output_type": "execute_result"
    }
   ],
   "source": [
    "data = Dataset.load_builtin('ml-100k')\n",
    "\n",
    "algo = SVD()\n",
    "\n",
    "# Run 5-fold cross-validation and print results.\n",
    "cross_validate(algo, data, measures=['RMSE', 'MAE'], cv=5, verbose=True)"
   ]
  },
  {
   "cell_type": "code",
   "execution_count": 58,
   "metadata": {},
   "outputs": [],
   "source": [
    "recommendation_algorithm = SVD()\n",
    "recommendation_algorithm.fit(training_set)\n",
    "recommendations = recommendation_algorithm.test(evaluation_set)\n",
    "\n",
    "K = 10\n",
    "for k in range(K):\n",
    "    get_results(recommendations, k+1, \"SVD\")"
   ]
  },
  {
   "cell_type": "code",
   "execution_count": null,
   "metadata": {},
   "outputs": [],
   "source": [
    "1,SVD,0.8589607635206787,0.03280891914425131,0.06320370558958135\n",
    "2,SVD,0.8589607635206787,0.05912689996673682,0.11063799059693\n",
    "3,SVD,0.8589607635206787,0.08137522355650367,0.14866627485995196\n",
    "4,SVD,0.8589607635206787,0.10039752739748306,0.1797817095141711\n",
    "5,SVD,0.8589607635206787,0.1169841421103758,0.20592307505712248\n",
    "6,SVD,0.8589607635206787,0.13119040354335543,0.22761657601904117\n",
    "7,SVD,0.8589607635206787,0.1431369890868279,0.24538336128217708\n",
    "8,SVD,0.8589607635206787,0.15366536821030932,0.26069349361740224\n",
    "9,SVD,0.8589607635206787,0.16299589721540633,0.2739980778089759\n",
    "10,SVD,0.8589607635206787,0.17139921813100983,0.28577430392173125"
   ]
  },
  {
   "cell_type": "markdown",
   "metadata": {},
   "source": [
    "##### Comparamos"
   ]
  },
  {
   "cell_type": "markdown",
   "metadata": {},
   "source": [
    "|   Algoritmo   | M.Similitud | Precision |     Recall     |   M.Armónica  |\n",
    "|--------------:|:-----------:|----------:|:--------------:|:--------------:\n",
    "| Knn_basic     | pearson     |     0.955 |  0.036 - 0.174 |  0.07 - 0.295 |\n",
    "| knn_withmeans | pearson     |     0.837 |  0.031 - 0.197 |  0.061 - 0.32 |\n",
    "| knn_withzscore| pearson     |     0.828 |  0.031 - 0.197 |  0.06 - 0.318 |\n",
    "| knn_baseline  | pearson     |     0.920 |  0.035 - 0.192 | 0.069 - 0.318 |\n",
    "| knn_baseline  | cosine      |     0.880 |  0.033 - 0.172 | 0.065 - 0.288 |\n",
    "| SVD           |             |     0.858 |  0.032 - 0.171 |  0.63 - 0.285 |"
   ]
  },
  {
   "cell_type": "markdown",
   "metadata": {},
   "source": [
    "El mejor algoritmo recomendador es el que tiene mayor precision y menor recall. Observando la tabla, podemos establecer un orden segun la eficencia del algoritmo.\n",
    "\n",
    "1.- Knn_basic(pearson)\n",
    "\n",
    "2.- Knn_baseline(pearson)\n",
    "\n",
    "3.- Knn_baseline(cosine)\n",
    "\n",
    "Dado que los margenes de recall son muy similares, hemos tenido en cuenta el valor de precisión en especial."
   ]
  },
  {
   "cell_type": "code",
   "execution_count": null,
   "metadata": {},
   "outputs": [],
   "source": []
  }
 ],
 "metadata": {
  "kernelspec": {
   "display_name": "Python 3",
   "language": "python",
   "name": "python3"
  },
  "language_info": {
   "codemirror_mode": {
    "name": "ipython",
    "version": 3
   },
   "file_extension": ".py",
   "mimetype": "text/x-python",
   "name": "python",
   "nbconvert_exporter": "python",
   "pygments_lexer": "ipython3",
   "version": "3.8.3"
  }
 },
 "nbformat": 4,
 "nbformat_minor": 2
}
