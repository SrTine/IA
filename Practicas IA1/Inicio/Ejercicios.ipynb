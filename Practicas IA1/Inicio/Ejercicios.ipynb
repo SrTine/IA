{
 "cells": [
  {
   "cell_type": "markdown",
   "metadata": {},
   "source": [
    "## Resuelve los siguientes ejercicios en este archivo y entregalo en el campus al final de la clase."
   ]
  },
  {
   "cell_type": "markdown",
   "metadata": {},
   "source": [
    "Pablo Martinez Domingo"
   ]
  },
  {
   "cell_type": "markdown",
   "metadata": {},
   "source": [
    "# **_Ejercicio 1_**. Escribe un programa que calcule el volumen de un cono a partir del radio de la base y su altura. Usa la siguiente fórmula:\n",
    "volumen = pi * radio * radio * altura / 3\n",
    "Solicita los valores de radio y altura al usuario.  El valor aproximado de pi es 3.14159.\n",
    "\n"
   ]
  },
  {
   "cell_type": "code",
   "execution_count": null,
   "metadata": {},
   "outputs": [],
   "source": [
    "# Escribe aquí la solución del ejercicio 1.\n",
    "\n",
    "pi = 3.14159\n",
    "radio = float(input(\"Introduce el radio: \"))\n",
    "altura = float(input(\"Introduce la altura: \"))\n",
    "volumen = pi * radio * radio * altura /3\n",
    "volumen\n"
   ]
  },
  {
   "cell_type": "markdown",
   "metadata": {},
   "source": [
    "**_Ejercicio 2_**.  Escribe un programa que clasifique los elementos de una lista en positivos y negativos. Los elementos positivos deben añadirse a una lista y los negativos a otra. Si la lista original contiene ceros, se deben ignorar."
   ]
  },
  {
   "cell_type": "code",
   "execution_count": 13,
   "metadata": {},
   "outputs": [
    {
     "name": "stdout",
     "output_type": "stream",
     "text": [
      "lista positivos:  [7, 6, 234]\n",
      "lista negativos:  [-9, -4, -7]\n"
     ]
    }
   ],
   "source": [
    "# Escribe aquí la solución del ejercicio 2.\n",
    "#Ejemplo: \n",
    "#lista_original = [7, 6, -9, 234, -4, 0, -7]\n",
    "#Positivos: [7, 6, 234]\n",
    "#Negativos: [-9, -4, -7]\n",
    "lista_original = [7,6,-9,234,-4,0,-7]\n",
    "positivos = []\n",
    "negativos = []\n",
    "\n",
    "for x in lista_original:\n",
    "    if x > 0:\n",
    "        positivos.append(x)\n",
    "    elif x != 0:\n",
    "        negativos.append(x)\n",
    "        \n",
    "print(\"lista positivos: \", positivos)\n",
    "print(\"lista negativos: \", negativos)\n"
   ]
  },
  {
   "cell_type": "markdown",
   "metadata": {},
   "source": [
    "**_Ejercicio 3_**.  Escribir una función cuadrados(l) que recibiendo una secuencia l de números, devuelve la lista de los cuadrados de esos números, en el mismo orden. Por ejemplo:\n",
    "\tcuadrados([4,1,5.2,3,8])\n",
    "\t[16, 1, 27.040000000000003, 9, 64]\n",
    "\tHacer dos versiones: una usando un bucle explícito, y la otra mediante definición de listas por comprensión."
   ]
  },
  {
   "cell_type": "code",
   "execution_count": 3,
   "metadata": {},
   "outputs": [],
   "source": [
    "# Escribe aquí la solución del ejercicio 3.\n",
    "# Escribir una función cuadrados(l) que recibiendo una secuencia l de números,\n",
    "# devuelve la lista de los cuadrados de esos números, en el mismo orden.\n",
    "\n",
    "\n",
    "# Por ejemplo:\n",
    "# \n",
    "# >>> cuadrados([4,1,5.2,3,8])\n",
    "# [16, 1, 27.040000000000003, 9, 64]\n",
    "\n",
    "# Hacer dos versiones: una usando un bucle explícito, y la otra mediante\n",
    "# definición de listas por comprensión.\n",
    "# ---------------------------------------------------------------------------\n"
   ]
  },
  {
   "cell_type": "code",
   "execution_count": 1,
   "metadata": {},
   "outputs": [
    {
     "name": "stdout",
     "output_type": "stream",
     "text": [
      "[16, 1, 27.040000000000003, 9, 64] [16, 1, 27.040000000000003, 9, 64]\n"
     ]
    }
   ],
   "source": [
    "def cuadrados(lista): \n",
    "    \n",
    "    return [x*x for x in lista]\n",
    "\n",
    "def otro(lista):\n",
    "    for x in lista:\n",
    "        x = x * x\n",
    "    return lista\n",
    "\n",
    "cuad = cuadrados([4,1,5.2,3,8])\n",
    "otro = cuadrados([4,1,5.2,3,8])\n",
    "\n",
    "print (cuad, otro)\n"
   ]
  },
  {
   "cell_type": "code",
   "execution_count": null,
   "metadata": {},
   "outputs": [],
   "source": []
  }
 ],
 "metadata": {
  "kernelspec": {
   "display_name": "Python 3",
   "language": "python",
   "name": "python3"
  },
  "language_info": {
   "codemirror_mode": {
    "name": "ipython",
    "version": 3
   },
   "file_extension": ".py",
   "mimetype": "text/x-python",
   "name": "python",
   "nbconvert_exporter": "python",
   "pygments_lexer": "ipython3",
   "version": "3.8.3"
  }
 },
 "nbformat": 4,
 "nbformat_minor": 2
}
