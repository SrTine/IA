{
 "cells": [
  {
   "cell_type": "markdown",
   "metadata": {
    "id": "71I5krFqJpcc"
   },
   "source": [
    "# Práctica 3: Representación del conocimiento\n",
    "\n",
    "__Fecha de entrega: 8 de mayo de 2022__\n",
    "\n",
    "El objetivo de esta práctica es aplicar los conceptos teóricos vistos en clase en el módulo de Representación de conocimiento. La práctica consta de un único notebook que se entregará en la tarea de entrega habilitada en el Campus  Virtual.\n",
    "\n",
    "Cada consulta debe contener breves comentarios que expliquen cada tripleta. __No se valorarán consultas sin explicaciones__."
   ]
  },
  {
   "cell_type": "markdown",
   "metadata": {
    "id": "cRisD8zH640r"
   },
   "source": [
    "__Número de grupo: 5__\n",
    "\n",
    "__Nombres de los estudiantes: Jorge Villacorta y Pablo Martinez__"
   ]
  },
  {
   "cell_type": "markdown",
   "metadata": {
    "id": "cdP69_AXJpcg"
   },
   "source": [
    "## Consultas SPARQL sobre Wikidata.\n",
    "\n",
    "En esta práctica vamos a usar el [punto de acceso SPARQL](https://query.wikidata.org/) de Wikidata para contestar las preguntas que se formulan a continuación. Cada pregunta debe ser respondida realizando una única consulta SPARQL. Para cada una de las entidades recuperadas se mostrará __tanto su identificador como su etiqueta__ (nombre de la entidad en lenguaje natural). \n",
    "\n",
    "Para cada una de las preguntas debes mostrar tanto la consulta como la respuesta obtenida. Si lo consideras necesario, puedes añadir celdas adicionales en formato _Markdown_ para explicar decisiones que hayas tomado al crear la consulta o cualquier otro dato que consideres interesante.\n",
    " \n",
    "Para resolver estas consultas puedes usar __dos recursos que te recomendamos consultar__ son:\n",
    "\n",
    "- [Este tutorial de SPARQL](https://www.wikidata.org/wiki/Wikidata:SPARQL_tutorial).\n",
    "- [Esta recopilación de ejemplos](https://www.wikidata.org/wiki/Wikidata:SPARQL_query_service/queries/examples)"
   ]
  },
  {
   "cell_type": "markdown",
   "metadata": {
    "id": "-BaEde9j6405"
   },
   "source": [
    "### Ejemplo\n",
    "\n",
    "Recuperar todas las instancias directas de la clase [Cabra (Q2934)](https://www.wikidata.org/wiki/Q2934) que aparecen en la base de conocimiento."
   ]
  },
  {
   "cell_type": "raw",
   "metadata": {
    "id": "Oo7OLo3I6409",
    "outputId": "25860ac7-f21e-451a-b643-5291f295674a"
   },
   "source": [
    "SELECT ?item ?itemLabel \n",
    "WHERE \n",
    "{\n",
    "  ?item wdt:P31 wd:Q2934.  # instancias directas de la clase Cabra\n",
    "  SERVICE wikibase:label { bd:serviceParam wikibase:language \"en\". }\n",
    "}"
   ]
  },
  {
   "cell_type": "markdown",
   "metadata": {},
   "source": [
    "<html><head><meta charset=\"utf-8\"></head><body><table><thead><tr><th>item</th><th>itemLabel</th></tr></thead><tbody><tr><td>http://www.wikidata.org/entity/Q151345</td><td>Billygoat Hennes</td></tr><tr><td>http://www.wikidata.org/entity/Q3569037</td><td>William Windsor</td></tr><tr><td>http://www.wikidata.org/entity/Q23003932</td><td>His Whiskers</td></tr><tr><td>http://www.wikidata.org/entity/Q24287064</td><td>Taffy</td></tr><tr><td>http://www.wikidata.org/entity/Q41239734</td><td>Lance Corporal Shenkin III</td></tr><tr><td>http://www.wikidata.org/entity/Q41240892</td><td>Lance Corporal Shenkin II</td></tr><tr><td>http://www.wikidata.org/entity/Q41241416</td><td>Lance Corporal Shenkin I</td></tr></tbody></table></body></html>"
   ]
  },
  {
   "cell_type": "markdown",
   "metadata": {
    "id": "RUIC5ukV641D"
   },
   "source": [
    "### Consulta 1\n",
    "\n",
    "[Isaac Asimov (Q34981)](https://www.wikidata.org/wiki/Q34981) fue un escritor y profesor de bioquímica en la Universidad de Boston conocido por ser un prolífico autor de obras de ciencia ficción, historia y divulgación científica. \n",
    "\n",
    "Vamos a comenzar por averiguar su fecha y lugar de nacimiento (localidad y país al que pertenece la localidad en la actualidad)."
   ]
  },
  {
   "cell_type": "raw",
   "metadata": {
    "scrolled": false
   },
   "source": [
    "SELECT ?date ?place ?placeLabel ?country ?countryLabel\n",
    "WHERE \n",
    "{\n",
    "  wd:Q34981 wdt:P19 ?place;\n",
    "            wdt:P569 ?date.\n",
    "  ?place wdt:P17 ?country.\n",
    "  SERVICE wikibase:label { bd:serviceParam wikibase:language \"en\". }\n",
    "}"
   ]
  },
  {
   "cell_type": "markdown",
   "metadata": {},
   "source": [
    "<html><head><meta charset=\"utf-8\"></head><body><table><thead><tr><th>date</th><th>place</th><th>placeLabel</th><th>country</th><th>countryLabel</th></tr></thead><tbody><tr><td>1920-01-02T00:00:00Z</td><td>http://www.wikidata.org/entity/Q1010621</td><td>Petrovichi</td><td>http://www.wikidata.org/entity/Q159</td><td>Russia</td></tr></tbody></table></body></html>"
   ]
  },
  {
   "cell_type": "markdown",
   "metadata": {},
   "source": [
    "### Consulta 2\n",
    "\n",
    "A continuación vamos a averiguar todas las distintas profesiones (ocupaciones) que se le reconocen en la base de conocimiento. Queremos obtener los resultados ordenados alfabéticamente por el nombre de la profesión."
   ]
  },
  {
   "cell_type": "raw",
   "metadata": {},
   "source": [
    "SELECT ?ocupacion ?ocupacionLabel WHERE {\n",
    "  wd:Q34981 wdt:P106 ?ocupacion.#Consulta para ver que acupaciones tiene (P106 hace referencia a las ocupaciones)\n",
    "  SERVICE wikibase:label { bd:serviceParam wikibase:language \"en\". }\n",
    "}\n",
    "ORDER BY ASC (?occupationLabel)# Sirve para ordenar por orden alfabetico, ASC (ascendente) "
   ]
  },
  {
   "cell_type": "markdown",
   "metadata": {},
   "source": [
    "<html><head><meta charset=\"utf-8\"></head><body><table><thead><tr><th>ocupacion</th><th>ocupacionLabel</th></tr></thead><tbody><tr><td>http://www.wikidata.org/entity/Q901</td><td>scientist</td></tr><tr><td>http://www.wikidata.org/entity/Q28389</td><td>screenwriter</td></tr><tr><td>http://www.wikidata.org/entity/Q36180</td><td>writer</td></tr><tr><td>http://www.wikidata.org/entity/Q1622272</td><td>university teacher</td></tr><tr><td>http://www.wikidata.org/entity/Q1930187</td><td>journalist</td></tr><tr><td>http://www.wikidata.org/entity/Q2919046</td><td>biochemist</td></tr><tr><td>http://www.wikidata.org/entity/Q3745071</td><td>science writer</td></tr><tr><td>http://www.wikidata.org/entity/Q6625963</td><td>novelist</td></tr><tr><td>http://www.wikidata.org/entity/Q12144794</td><td>prosaist</td></tr><tr><td>http://www.wikidata.org/entity/Q15980158</td><td>non-fiction writer</td></tr><tr><td>http://www.wikidata.org/entity/Q18814623</td><td>autobiographer</td></tr><tr><td>http://www.wikidata.org/entity/Q18844224</td><td>science fiction writer</td></tr></tbody></table></body></html>"
   ]
  },
  {
   "cell_type": "markdown",
   "metadata": {
    "id": "2aXlt0c0641U"
   },
   "source": [
    "### Consulta 3\n",
    "\n",
    "De todas esas profesiones, ¿cuáles corresponden con subtipos de [Escritor (Q36180)](https://www.wikidata.org/wiki/Q36180)? Ten en cuenta que la jerarquía de tipos de escritores puede ser muy sofisticada.\n",
    "\n",
    "Puede que [esto](https://www.wikidata.org/wiki/Wikidata:SPARQL_tutorial#Property_paths) te resulte útil."
   ]
  },
  {
   "cell_type": "raw",
   "metadata": {},
   "source": [
    "SELECT ?ocupacion ?ocupacionLabel\n",
    "WHERE \n",
    "{\n",
    "  wd:Q34981 wdt:P106 ?ocupacion.#Sacamos todas las ocupaciones de Isaac Asimov\n",
    "  ?ocupacion wdt:P279* wd:Q36180.#De esas ocupaciones comprobamos que esten contenidas en la subclase escritor (Q36180), para ello usamos P279*\n",
    "  SERVICE wikibase:label { bd:serviceParam wikibase:language \"en\". }\n",
    "} ORDER BY ?occupationLabel"
   ]
  },
  {
   "cell_type": "markdown",
   "metadata": {},
   "source": [
    "<html><head><meta charset=\"utf-8\"></head><body><table><thead><tr><th>ocupacion</th><th>ocupacionLabel</th></tr></thead><tbody><tr><td>http://www.wikidata.org/entity/Q1930187</td><td>journalist</td></tr><tr><td>http://www.wikidata.org/entity/Q3745071</td><td>science writer</td></tr><tr><td>http://www.wikidata.org/entity/Q6625963</td><td>novelist</td></tr><tr><td>http://www.wikidata.org/entity/Q12144794</td><td>prosaist</td></tr><tr><td>http://www.wikidata.org/entity/Q15980158</td><td>non-fiction writer</td></tr><tr><td>http://www.wikidata.org/entity/Q28389</td><td>screenwriter</td></tr><tr><td>http://www.wikidata.org/entity/Q36180</td><td>writer</td></tr><tr><td>http://www.wikidata.org/entity/Q18844224</td><td>science fiction writer</td></tr><tr><td>http://www.wikidata.org/entity/Q18814623</td><td>autobiographer</td></tr><tr><td>http://www.wikidata.org/entity/Q901</td><td>scientist</td></tr><tr><td>http://www.wikidata.org/entity/Q2919046</td><td>biochemist</td></tr><tr><td>http://www.wikidata.org/entity/Q1622272</td><td>university teacher</td></tr></tbody></table></body></html>"
   ]
  },
  {
   "cell_type": "markdown",
   "metadata": {
    "id": "9ncKC-pD641d"
   },
   "source": [
    "### Consulta 4\n",
    "\n",
    "Asimov se casó más de una vez. Para cada uno de los matrimonios queremos conocer el nombre de la esposa y las fechas de inicio y finalización. Los resultados deben aparecer ordenados cronológicamente.\n",
    "\n",
    "Para resolver esta consulta necesitarás acceder a los cualificadores de nodos sentencia y necesitarás entender los prefijos que usa Wikidata. Puede que [esto](https://www.wikidata.org/wiki/Wikidata:SPARQL_tutorial#Qualifiers) te resulte útil."
   ]
  },
  {
   "cell_type": "raw",
   "metadata": {},
   "source": [
    "SELECT ?marriage ?marriageLabel ?dateBegin ?dateEnd\n",
    "WHERE \n",
    "{\n",
    "  wd:Q34981 p:P26 [#p hace que apunetemos al nodo de declaracion, haciendolo como sujeto de la otra terna\n",
    "    ps:P26 ?marriage;\n",
    "    pq:P580 ?dateBegin;\n",
    "    pq:P582 ?dateEnd\n",
    "    ].\n",
    "  SERVICE wikibase:label { bd:serviceParam wikibase:language \"en\". }\n",
    "} "
   ]
  },
  {
   "cell_type": "markdown",
   "metadata": {},
   "source": [
    "<html><head><meta charset=\"utf-8\"></head><body><table><thead><tr><th>marriage</th><th>marriageLabel</th><th>dateBegin</th><th>dateEnd</th></tr></thead><tbody><tr><td>http://www.wikidata.org/entity/Q107693884</td><td>Gertrude Asimov</td><td>1942-07-26T00:00:00Z</td><td>1973-01-01T00:00:00Z</td></tr><tr><td>http://www.wikidata.org/entity/Q517435</td><td>Janet Asimov</td><td>1973-01-01T00:00:00Z</td><td>1992-01-01T00:00:00Z</td></tr></tbody></table></body></html>"
   ]
  },
  {
   "cell_type": "markdown",
   "metadata": {
    "id": "H4hEfr0q641j"
   },
   "source": [
    "### Consulta 5\n",
    "\n",
    "Asimov recibió muchos premios a lo largo de su carrera. Queremos obtener la lista de premios y, para cada uno de ellos, la fecha y la obra por la que fue premiado (si están disponibles). Los resultados se deben mostrar ordenador por fecha.\n",
    "\n",
    "Puede que [esto](https://www.wikidata.org/wiki/Wikidata:SPARQL_tutorial#OPTIONAL) te resulte útil."
   ]
  },
  {
   "cell_type": "raw",
   "metadata": {},
   "source": [
    "SELECT ?premio ?premioLabel ?libro ?libroLabel ?fecha\n",
    "WHERE {\n",
    "  wd:Q34981 wdt:P166 ?premio.\n",
    "  ?libro wdt:P50 wd:Q34981.\n",
    "  OPTIONAL {\n",
    "    ?libro wdt:P166 ?premio.\n",
    "    }\n",
    "  SERVICE wikibase:label { bd:serviceParam wikibase:language \"[AUTO_LANGUAGE],en\". }\n",
    " }\n",
    " LIMIT 100 #limitamos el numero de apariciones porque tiene muchisimos libros premiados"
   ]
  },
  {
   "cell_type": "markdown",
   "metadata": {},
   "source": [
    "<html><head><meta charset=\"utf-8\"></head><body><table><thead><tr><th>premio</th><th>premioLabel</th><th>libro</th><th>libroLabel</th><th>fecha</th></tr></thead><tbody><tr><td>http://www.wikidata.org/entity/Q188914</td><td>premios Hugo</td><td>http://www.wikidata.org/entity/Q23758</td><td>Tres leyes de la robótica</td><td></td></tr><tr><td>http://www.wikidata.org/entity/Q255032</td><td>Premio Hugo a la mejor novela</td><td>http://www.wikidata.org/entity/Q23758</td><td>Tres leyes de la robótica</td><td></td></tr><tr><td>http://www.wikidata.org/entity/Q266012</td><td>Premio Nébula</td><td>http://www.wikidata.org/entity/Q23758</td><td>Tres leyes de la robótica</td><td></td></tr><tr><td>http://www.wikidata.org/entity/Q595998</td><td>Premio Locus a la mejor novela</td><td>http://www.wikidata.org/entity/Q23758</td><td>Tres leyes de la robótica</td><td></td></tr><tr><td>http://www.wikidata.org/entity/Q901462</td><td>Premio Gran Maestro Damon Knight Memorial</td><td>http://www.wikidata.org/entity/Q23758</td><td>Tres leyes de la robótica</td><td></td></tr><tr><td>http://www.wikidata.org/entity/Q936683</td><td>Premio Nébula al mejor relato</td><td>http://www.wikidata.org/entity/Q23758</td><td>Tres leyes de la robótica</td><td></td></tr><tr><td>http://www.wikidata.org/entity/Q987744</td><td>Premio Skylark</td><td>http://www.wikidata.org/entity/Q23758</td><td>Tres leyes de la robótica</td><td></td></tr><tr><td>http://www.wikidata.org/entity/Q1056237</td><td>Premio Hugo al mejor libro de no ficción</td><td>http://www.wikidata.org/entity/Q23758</td><td>Tres leyes de la robótica</td><td></td></tr><tr><td>http://www.wikidata.org/entity/Q1056265</td><td>premio Hugo al mejor relato</td><td>http://www.wikidata.org/entity/Q23758</td><td>Tres leyes de la robótica</td><td></td></tr><tr><td>http://www.wikidata.org/entity/Q2576795</td><td>Premio Locus a la mejor novela de ciencia ficción</td><td>http://www.wikidata.org/entity/Q23758</td><td>Tres leyes de la robótica</td><td></td></tr><tr><td>http://www.wikidata.org/entity/Q3174253</td><td>Premio Klumpke-Roberts</td><td>http://www.wikidata.org/entity/Q23758</td><td>Tres leyes de la robótica</td><td></td></tr><tr><td>http://www.wikidata.org/entity/Q3404499</td><td>Prix Cosmos 2000</td><td>http://www.wikidata.org/entity/Q23758</td><td>Tres leyes de la robótica</td><td></td></tr><tr><td>http://www.wikidata.org/entity/Q6143927</td><td>Premio James T. Grady</td><td>http://www.wikidata.org/entity/Q23758</td><td>Tres leyes de la robótica</td><td></td></tr><tr><td>http://www.wikidata.org/entity/Q17008964</td><td>Premio Locus al mejor relato</td><td>http://www.wikidata.org/entity/Q23758</td><td>Tres leyes de la robótica</td><td></td></tr><tr><td>http://www.wikidata.org/entity/Q17008985</td><td>Premio Locus al mejor relato corto</td><td>http://www.wikidata.org/entity/Q23758</td><td>Tres leyes de la robótica</td><td></td></tr><tr><td>http://www.wikidata.org/entity/Q19869310</td><td>Humanista del año</td><td>http://www.wikidata.org/entity/Q23758</td><td>Tres leyes de la robótica</td><td></td></tr><tr><td>http://www.wikidata.org/entity/Q21163264</td><td>Premio Hugo Retrospectivo</td><td>http://www.wikidata.org/entity/Q23758</td><td>Tres leyes de la robótica</td><td></td></tr><tr><td>http://www.wikidata.org/entity/Q48961500</td><td>Science Fiction and Fantasy Hall of Fame</td><td>http://www.wikidata.org/entity/Q23758</td><td>Tres leyes de la robótica</td><td></td></tr><tr><td>http://www.wikidata.org/entity/Q52382875</td><td>Miembro de la Academia Estadounidense de las Artes y las Ciencias</td><td>http://www.wikidata.org/entity/Q23758</td><td>Tres leyes de la robótica</td><td></td></tr><tr><td>http://www.wikidata.org/entity/Q61745062</td><td>Fellow of the Committee for Skeptical Inquiry</td><td>http://www.wikidata.org/entity/Q23758</td><td>Tres leyes de la robótica</td><td></td></tr><tr><td>http://www.wikidata.org/entity/Q188914</td><td>premios Hugo</td><td>http://www.wikidata.org/entity/Q76977</td><td>bibliografía de Isaac Asimov</td><td></td></tr><tr><td>http://www.wikidata.org/entity/Q255032</td><td>Premio Hugo a la mejor novela</td><td>http://www.wikidata.org/entity/Q76977</td><td>bibliografía de Isaac Asimov</td><td></td></tr><tr><td>http://www.wikidata.org/entity/Q266012</td><td>Premio Nébula</td><td>http://www.wikidata.org/entity/Q76977</td><td>bibliografía de Isaac Asimov</td><td></td></tr><tr><td>http://www.wikidata.org/entity/Q595998</td><td>Premio Locus a la mejor novela</td><td>http://www.wikidata.org/entity/Q76977</td><td>bibliografía de Isaac Asimov</td><td></td></tr><tr><td>http://www.wikidata.org/entity/Q901462</td><td>Premio Gran Maestro Damon Knight Memorial</td><td>http://www.wikidata.org/entity/Q76977</td><td>bibliografía de Isaac Asimov</td><td></td></tr><tr><td>http://www.wikidata.org/entity/Q936683</td><td>Premio Nébula al mejor relato</td><td>http://www.wikidata.org/entity/Q76977</td><td>bibliografía de Isaac Asimov</td><td></td></tr><tr><td>http://www.wikidata.org/entity/Q987744</td><td>Premio Skylark</td><td>http://www.wikidata.org/entity/Q76977</td><td>bibliografía de Isaac Asimov</td><td></td></tr><tr><td>http://www.wikidata.org/entity/Q1056237</td><td>Premio Hugo al mejor libro de no ficción</td><td>http://www.wikidata.org/entity/Q76977</td><td>bibliografía de Isaac Asimov</td><td></td></tr><tr><td>http://www.wikidata.org/entity/Q1056265</td><td>premio Hugo al mejor relato</td><td>http://www.wikidata.org/entity/Q76977</td><td>bibliografía de Isaac Asimov</td><td></td></tr><tr><td>http://www.wikidata.org/entity/Q2576795</td><td>Premio Locus a la mejor novela de ciencia ficción</td><td>http://www.wikidata.org/entity/Q76977</td><td>bibliografía de Isaac Asimov</td><td></td></tr><tr><td>http://www.wikidata.org/entity/Q3174253</td><td>Premio Klumpke-Roberts</td><td>http://www.wikidata.org/entity/Q76977</td><td>bibliografía de Isaac Asimov</td><td></td></tr><tr><td>http://www.wikidata.org/entity/Q3404499</td><td>Prix Cosmos 2000</td><td>http://www.wikidata.org/entity/Q76977</td><td>bibliografía de Isaac Asimov</td><td></td></tr><tr><td>http://www.wikidata.org/entity/Q6143927</td><td>Premio James T. Grady</td><td>http://www.wikidata.org/entity/Q76977</td><td>bibliografía de Isaac Asimov</td><td></td></tr><tr><td>http://www.wikidata.org/entity/Q17008964</td><td>Premio Locus al mejor relato</td><td>http://www.wikidata.org/entity/Q76977</td><td>bibliografía de Isaac Asimov</td><td></td></tr><tr><td>http://www.wikidata.org/entity/Q17008985</td><td>Premio Locus al mejor relato corto</td><td>http://www.wikidata.org/entity/Q76977</td><td>bibliografía de Isaac Asimov</td><td></td></tr><tr><td>http://www.wikidata.org/entity/Q19869310</td><td>Humanista del año</td><td>http://www.wikidata.org/entity/Q76977</td><td>bibliografía de Isaac Asimov</td><td></td></tr><tr><td>http://www.wikidata.org/entity/Q21163264</td><td>Premio Hugo Retrospectivo</td><td>http://www.wikidata.org/entity/Q76977</td><td>bibliografía de Isaac Asimov</td><td></td></tr><tr><td>http://www.wikidata.org/entity/Q48961500</td><td>Science Fiction and Fantasy Hall of Fame</td><td>http://www.wikidata.org/entity/Q76977</td><td>bibliografía de Isaac Asimov</td><td></td></tr><tr><td>http://www.wikidata.org/entity/Q52382875</td><td>Miembro de la Academia Estadounidense de las Artes y las Ciencias</td><td>http://www.wikidata.org/entity/Q76977</td><td>bibliografía de Isaac Asimov</td><td></td></tr><tr><td>http://www.wikidata.org/entity/Q61745062</td><td>Fellow of the Committee for Skeptical Inquiry</td><td>http://www.wikidata.org/entity/Q76977</td><td>bibliografía de Isaac Asimov</td><td></td></tr><tr><td>http://www.wikidata.org/entity/Q188914</td><td>premios Hugo</td><td>http://www.wikidata.org/entity/Q260711</td><td>X Stands for Unknown</td><td></td></tr><tr><td>http://www.wikidata.org/entity/Q255032</td><td>Premio Hugo a la mejor novela</td><td>http://www.wikidata.org/entity/Q260711</td><td>X Stands for Unknown</td><td></td></tr><tr><td>http://www.wikidata.org/entity/Q266012</td><td>Premio Nébula</td><td>http://www.wikidata.org/entity/Q260711</td><td>X Stands for Unknown</td><td></td></tr><tr><td>http://www.wikidata.org/entity/Q595998</td><td>Premio Locus a la mejor novela</td><td>http://www.wikidata.org/entity/Q260711</td><td>X Stands for Unknown</td><td></td></tr><tr><td>http://www.wikidata.org/entity/Q901462</td><td>Premio Gran Maestro Damon Knight Memorial</td><td>http://www.wikidata.org/entity/Q260711</td><td>X Stands for Unknown</td><td></td></tr><tr><td>http://www.wikidata.org/entity/Q936683</td><td>Premio Nébula al mejor relato</td><td>http://www.wikidata.org/entity/Q260711</td><td>X Stands for Unknown</td><td></td></tr><tr><td>http://www.wikidata.org/entity/Q987744</td><td>Premio Skylark</td><td>http://www.wikidata.org/entity/Q260711</td><td>X Stands for Unknown</td><td></td></tr><tr><td>http://www.wikidata.org/entity/Q1056237</td><td>Premio Hugo al mejor libro de no ficción</td><td>http://www.wikidata.org/entity/Q260711</td><td>X Stands for Unknown</td><td></td></tr><tr><td>http://www.wikidata.org/entity/Q1056265</td><td>premio Hugo al mejor relato</td><td>http://www.wikidata.org/entity/Q260711</td><td>X Stands for Unknown</td><td></td></tr><tr><td>http://www.wikidata.org/entity/Q2576795</td><td>Premio Locus a la mejor novela de ciencia ficción</td><td>http://www.wikidata.org/entity/Q260711</td><td>X Stands for Unknown</td><td></td></tr><tr><td>http://www.wikidata.org/entity/Q3174253</td><td>Premio Klumpke-Roberts</td><td>http://www.wikidata.org/entity/Q260711</td><td>X Stands for Unknown</td><td></td></tr><tr><td>http://www.wikidata.org/entity/Q3404499</td><td>Prix Cosmos 2000</td><td>http://www.wikidata.org/entity/Q260711</td><td>X Stands for Unknown</td><td></td></tr><tr><td>http://www.wikidata.org/entity/Q6143927</td><td>Premio James T. Grady</td><td>http://www.wikidata.org/entity/Q260711</td><td>X Stands for Unknown</td><td></td></tr><tr><td>http://www.wikidata.org/entity/Q17008964</td><td>Premio Locus al mejor relato</td><td>http://www.wikidata.org/entity/Q260711</td><td>X Stands for Unknown</td><td></td></tr><tr><td>http://www.wikidata.org/entity/Q17008985</td><td>Premio Locus al mejor relato corto</td><td>http://www.wikidata.org/entity/Q260711</td><td>X Stands for Unknown</td><td></td></tr><tr><td>http://www.wikidata.org/entity/Q19869310</td><td>Humanista del año</td><td>http://www.wikidata.org/entity/Q260711</td><td>X Stands for Unknown</td><td></td></tr><tr><td>http://www.wikidata.org/entity/Q21163264</td><td>Premio Hugo Retrospectivo</td><td>http://www.wikidata.org/entity/Q260711</td><td>X Stands for Unknown</td><td></td></tr><tr><td>http://www.wikidata.org/entity/Q48961500</td><td>Science Fiction and Fantasy Hall of Fame</td><td>http://www.wikidata.org/entity/Q260711</td><td>X Stands for Unknown</td><td></td></tr><tr><td>http://www.wikidata.org/entity/Q52382875</td><td>Miembro de la Academia Estadounidense de las Artes y las Ciencias</td><td>http://www.wikidata.org/entity/Q260711</td><td>X Stands for Unknown</td><td></td></tr><tr><td>http://www.wikidata.org/entity/Q61745062</td><td>Fellow of the Committee for Skeptical Inquiry</td><td>http://www.wikidata.org/entity/Q260711</td><td>X Stands for Unknown</td><td></td></tr><tr><td>http://www.wikidata.org/entity/Q188914</td><td>premios Hugo</td><td>http://www.wikidata.org/entity/Q368390</td><td>Serie del Imperio Galáctico</td><td></td></tr><tr><td>http://www.wikidata.org/entity/Q255032</td><td>Premio Hugo a la mejor novela</td><td>http://www.wikidata.org/entity/Q368390</td><td>Serie del Imperio Galáctico</td><td></td></tr><tr><td>http://www.wikidata.org/entity/Q266012</td><td>Premio Nébula</td><td>http://www.wikidata.org/entity/Q368390</td><td>Serie del Imperio Galáctico</td><td></td></tr><tr><td>http://www.wikidata.org/entity/Q595998</td><td>Premio Locus a la mejor novela</td><td>http://www.wikidata.org/entity/Q368390</td><td>Serie del Imperio Galáctico</td><td></td></tr><tr><td>http://www.wikidata.org/entity/Q901462</td><td>Premio Gran Maestro Damon Knight Memorial</td><td>http://www.wikidata.org/entity/Q368390</td><td>Serie del Imperio Galáctico</td><td></td></tr><tr><td>http://www.wikidata.org/entity/Q936683</td><td>Premio Nébula al mejor relato</td><td>http://www.wikidata.org/entity/Q368390</td><td>Serie del Imperio Galáctico</td><td></td></tr><tr><td>http://www.wikidata.org/entity/Q987744</td><td>Premio Skylark</td><td>http://www.wikidata.org/entity/Q368390</td><td>Serie del Imperio Galáctico</td><td></td></tr><tr><td>http://www.wikidata.org/entity/Q1056237</td><td>Premio Hugo al mejor libro de no ficción</td><td>http://www.wikidata.org/entity/Q368390</td><td>Serie del Imperio Galáctico</td><td></td></tr><tr><td>http://www.wikidata.org/entity/Q1056265</td><td>premio Hugo al mejor relato</td><td>http://www.wikidata.org/entity/Q368390</td><td>Serie del Imperio Galáctico</td><td></td></tr><tr><td>http://www.wikidata.org/entity/Q2576795</td><td>Premio Locus a la mejor novela de ciencia ficción</td><td>http://www.wikidata.org/entity/Q368390</td><td>Serie del Imperio Galáctico</td><td></td></tr><tr><td>http://www.wikidata.org/entity/Q3174253</td><td>Premio Klumpke-Roberts</td><td>http://www.wikidata.org/entity/Q368390</td><td>Serie del Imperio Galáctico</td><td></td></tr><tr><td>http://www.wikidata.org/entity/Q3404499</td><td>Prix Cosmos 2000</td><td>http://www.wikidata.org/entity/Q368390</td><td>Serie del Imperio Galáctico</td><td></td></tr><tr><td>http://www.wikidata.org/entity/Q6143927</td><td>Premio James T. Grady</td><td>http://www.wikidata.org/entity/Q368390</td><td>Serie del Imperio Galáctico</td><td></td></tr><tr><td>http://www.wikidata.org/entity/Q17008964</td><td>Premio Locus al mejor relato</td><td>http://www.wikidata.org/entity/Q368390</td><td>Serie del Imperio Galáctico</td><td></td></tr><tr><td>http://www.wikidata.org/entity/Q17008985</td><td>Premio Locus al mejor relato corto</td><td>http://www.wikidata.org/entity/Q368390</td><td>Serie del Imperio Galáctico</td><td></td></tr><tr><td>http://www.wikidata.org/entity/Q19869310</td><td>Humanista del año</td><td>http://www.wikidata.org/entity/Q368390</td><td>Serie del Imperio Galáctico</td><td></td></tr><tr><td>http://www.wikidata.org/entity/Q21163264</td><td>Premio Hugo Retrospectivo</td><td>http://www.wikidata.org/entity/Q368390</td><td>Serie del Imperio Galáctico</td><td></td></tr><tr><td>http://www.wikidata.org/entity/Q48961500</td><td>Science Fiction and Fantasy Hall of Fame</td><td>http://www.wikidata.org/entity/Q368390</td><td>Serie del Imperio Galáctico</td><td></td></tr><tr><td>http://www.wikidata.org/entity/Q52382875</td><td>Miembro de la Academia Estadounidense de las Artes y las Ciencias</td><td>http://www.wikidata.org/entity/Q368390</td><td>Serie del Imperio Galáctico</td><td></td></tr><tr><td>http://www.wikidata.org/entity/Q61745062</td><td>Fellow of the Committee for Skeptical Inquiry</td><td>http://www.wikidata.org/entity/Q368390</td><td>Serie del Imperio Galáctico</td><td></td></tr><tr><td>http://www.wikidata.org/entity/Q188914</td><td>premios Hugo</td><td>http://www.wikidata.org/entity/Q372968</td><td>Robbie</td><td></td></tr><tr><td>http://www.wikidata.org/entity/Q255032</td><td>Premio Hugo a la mejor novela</td><td>http://www.wikidata.org/entity/Q372968</td><td>Robbie</td><td></td></tr><tr><td>http://www.wikidata.org/entity/Q266012</td><td>Premio Nébula</td><td>http://www.wikidata.org/entity/Q372968</td><td>Robbie</td><td></td></tr><tr><td>http://www.wikidata.org/entity/Q595998</td><td>Premio Locus a la mejor novela</td><td>http://www.wikidata.org/entity/Q372968</td><td>Robbie</td><td></td></tr><tr><td>http://www.wikidata.org/entity/Q901462</td><td>Premio Gran Maestro Damon Knight Memorial</td><td>http://www.wikidata.org/entity/Q372968</td><td>Robbie</td><td></td></tr><tr><td>http://www.wikidata.org/entity/Q936683</td><td>Premio Nébula al mejor relato</td><td>http://www.wikidata.org/entity/Q372968</td><td>Robbie</td><td></td></tr><tr><td>http://www.wikidata.org/entity/Q987744</td><td>Premio Skylark</td><td>http://www.wikidata.org/entity/Q372968</td><td>Robbie</td><td></td></tr><tr><td>http://www.wikidata.org/entity/Q1056237</td><td>Premio Hugo al mejor libro de no ficción</td><td>http://www.wikidata.org/entity/Q372968</td><td>Robbie</td><td></td></tr><tr><td>http://www.wikidata.org/entity/Q1056265</td><td>premio Hugo al mejor relato</td><td>http://www.wikidata.org/entity/Q372968</td><td>Robbie</td><td></td></tr><tr><td>http://www.wikidata.org/entity/Q2576795</td><td>Premio Locus a la mejor novela de ciencia ficción</td><td>http://www.wikidata.org/entity/Q372968</td><td>Robbie</td><td></td></tr><tr><td>http://www.wikidata.org/entity/Q3174253</td><td>Premio Klumpke-Roberts</td><td>http://www.wikidata.org/entity/Q372968</td><td>Robbie</td><td></td></tr><tr><td>http://www.wikidata.org/entity/Q3404499</td><td>Prix Cosmos 2000</td><td>http://www.wikidata.org/entity/Q372968</td><td>Robbie</td><td></td></tr><tr><td>http://www.wikidata.org/entity/Q6143927</td><td>Premio James T. Grady</td><td>http://www.wikidata.org/entity/Q372968</td><td>Robbie</td><td></td></tr><tr><td>http://www.wikidata.org/entity/Q17008964</td><td>Premio Locus al mejor relato</td><td>http://www.wikidata.org/entity/Q372968</td><td>Robbie</td><td></td></tr><tr><td>http://www.wikidata.org/entity/Q17008985</td><td>Premio Locus al mejor relato corto</td><td>http://www.wikidata.org/entity/Q372968</td><td>Robbie</td><td></td></tr><tr><td>http://www.wikidata.org/entity/Q19869310</td><td>Humanista del año</td><td>http://www.wikidata.org/entity/Q372968</td><td>Robbie</td><td></td></tr><tr><td>http://www.wikidata.org/entity/Q21163264</td><td>Premio Hugo Retrospectivo</td><td>http://www.wikidata.org/entity/Q372968</td><td>Robbie</td><td></td></tr><tr><td>http://www.wikidata.org/entity/Q48961500</td><td>Science Fiction and Fantasy Hall of Fame</td><td>http://www.wikidata.org/entity/Q372968</td><td>Robbie</td><td></td></tr><tr><td>http://www.wikidata.org/entity/Q52382875</td><td>Miembro de la Academia Estadounidense de las Artes y las Ciencias</td><td>http://www.wikidata.org/entity/Q372968</td><td>Robbie</td><td></td></tr><tr><td>http://www.wikidata.org/entity/Q61745062</td><td>Fellow of the Committee for Skeptical Inquiry</td><td>http://www.wikidata.org/entity/Q372968</td><td>Robbie</td><td></td></tr></tbody></table></body></html>"
   ]
  },
  {
   "cell_type": "markdown",
   "metadata": {},
   "source": [
    "### Consulta 6\n",
    "\n",
    "Ahora queremos conocer todas las obras escritas por Asimov del tipo [obras literarias de ciencia ficción (Q3238422)](https://www.wikidata.org/wiki/Q3238422) y cualquiera de sus subgéneros. Los resultados se deben mostrar ordenados por nombre.\n",
    "\n",
    "No pasa nada si en el resultado aparecen mezclados novelas, relatos, colecciones..."
   ]
  },
  {
   "cell_type": "raw",
   "metadata": {},
   "source": [
    "SELECT ?book ?bookLabel\n",
    "WHERE\n",
    "{\n",
    "  ?book wdt:P50 wd:Q34981.#obras de isaac\n",
    "  ?book wdt:P136 wd:Q24925.#que sean instancia de ciencia ficcion\n",
    "  SERVICE wikibase:label {  bd:serviceParam wikibase:language \"[AUTO_LANGUAGE],en\".  }\n",
    "}"
   ]
  },
  {
   "cell_type": "markdown",
   "metadata": {},
   "source": [
    "<html><head><meta charset=\"utf-8\"></head><body><table><thead><tr><th>book</th><th>bookLabel</th></tr></thead><tbody><tr><td>http://www.wikidata.org/entity/Q2398251</td><td>The Bicentennial Man and Other Stories</td></tr><tr><td>http://www.wikidata.org/entity/Q2493831</td><td>Jokester</td></tr><tr><td>http://www.wikidata.org/entity/Q2550259</td><td>Nine Tomorrows</td></tr><tr><td>http://www.wikidata.org/entity/Q2621546</td><td>Buy Jupiter and Other Stories</td></tr><tr><td>http://www.wikidata.org/entity/Q2647714</td><td>Spell My Name with an S</td></tr><tr><td>http://www.wikidata.org/entity/Q2827384</td><td>Youth</td></tr><tr><td>http://www.wikidata.org/entity/Q2855170</td><td>Breeds There a Man...?</td></tr><tr><td>http://www.wikidata.org/entity/Q2864287</td><td>Death Sentence</td></tr><tr><td>http://www.wikidata.org/entity/Q2872379</td><td>Author! Author!</td></tr><tr><td>http://www.wikidata.org/entity/Q2891075</td><td>The Martian Way</td></tr><tr><td>http://www.wikidata.org/entity/Q2907853</td><td>Profession</td></tr><tr><td>http://www.wikidata.org/entity/Q2908425</td><td>Huésped</td></tr><tr><td>http://www.wikidata.org/entity/Q2962693</td><td>Buy Jupiter</td></tr><tr><td>http://www.wikidata.org/entity/Q3055501</td><td>The Proper Study</td></tr><tr><td>http://www.wikidata.org/entity/Q3061953</td><td>Exile to Hell</td></tr><tr><td>http://www.wikidata.org/entity/Q3145079</td><td>Heredity</td></tr><tr><td>http://www.wikidata.org/entity/Q3153721</td><td>Insert Knob A In Hole B</td></tr><tr><td>http://www.wikidata.org/entity/Q3190256</td><td>Unto the Fourth Generation</td></tr><tr><td>http://www.wikidata.org/entity/Q3206789</td><td>The Billiard Ball</td></tr><tr><td>http://www.wikidata.org/entity/Q3213661</td><td>The Life and Times of Multivac</td></tr><tr><td>http://www.wikidata.org/entity/Q3222595</td><td>Factor clave</td></tr><tr><td>http://www.wikidata.org/entity/Q3222902</td><td>Founding Father</td></tr><tr><td>http://www.wikidata.org/entity/Q3225414</td><td>The Little Man on the Subway</td></tr><tr><td>http://www.wikidata.org/entity/Q3234925</td><td>The Deep</td></tr><tr><td>http://www.wikidata.org/entity/Q3319894</td><td>My Son, the Physicist</td></tr><tr><td>http://www.wikidata.org/entity/Q3345927</td><td>Christmas on Ganymede</td></tr><tr><td>http://www.wikidata.org/entity/Q3392605</td><td>Rain, Rain, Go Away</td></tr><tr><td>http://www.wikidata.org/entity/Q3504045</td><td>Super-Neutron</td></tr><tr><td>http://www.wikidata.org/entity/Q3524680</td><td>Thiotimoline to the Stars</td></tr><tr><td>http://www.wikidata.org/entity/Q3549417</td><td>The Imaginary</td></tr><tr><td>http://www.wikidata.org/entity/Q3549678</td><td>History</td></tr><tr><td>http://www.wikidata.org/entity/Q3549799</td><td>A Statue for Father</td></tr><tr><td>http://www.wikidata.org/entity/Q3675191</td><td>¡Cómo se divertían!</td></tr><tr><td>http://www.wikidata.org/entity/Q3686475</td><td>C-Chute</td></tr><tr><td>http://www.wikidata.org/entity/Q3697195</td><td>Computer Crimes and Capers</td></tr><tr><td>http://www.wikidata.org/entity/Q3793685</td><td>El pasado muerto</td></tr><tr><td>http://www.wikidata.org/entity/Q3828731</td><td>Isaac's Universe Volume Two: Phases in Chaos</td></tr><tr><td>http://www.wikidata.org/entity/Q3828766</td><td>Isaac Asimov Presents The Great SF Stories 3</td></tr><tr><td>http://www.wikidata.org/entity/Q3828767</td><td>Isaac Asimov Presents The Great SF Stories 1</td></tr><tr><td>http://www.wikidata.org/entity/Q3828770</td><td>Isaac Asimov Presents The Great SF Stories 2</td></tr><tr><td>http://www.wikidata.org/entity/Q3870482</td><td>Birth of a Notion</td></tr><tr><td>http://www.wikidata.org/entity/Q3927752</td><td>Question</td></tr><tr><td>http://www.wikidata.org/entity/Q4000825</td><td>Todos los males del mundo</td></tr><tr><td>http://www.wikidata.org/entity/Q4009001</td><td>Waterclap</td></tr><tr><td>http://www.wikidata.org/entity/Q4631777</td><td>2430 A. D.</td></tr><tr><td>http://www.wikidata.org/entity/Q4657902</td><td>A Loint of Paw</td></tr><tr><td>http://www.wikidata.org/entity/Q4880358</td><td>Before the Golden Age</td></tr><tr><td>http://www.wikidata.org/entity/Q4925104</td><td>Blank!</td></tr><tr><td>http://www.wikidata.org/entity/Q5003079</td><td>Button, Button</td></tr><tr><td>http://www.wikidata.org/entity/Q5018114</td><td>Cal</td></tr><tr><td>http://www.wikidata.org/entity/Q5324885</td><td>Each an Explorer</td></tr><tr><td>http://www.wikidata.org/entity/Q368390</td><td>Serie del Imperio Galáctico</td></tr><tr><td>http://www.wikidata.org/entity/Q377230</td><td>Robots e Imperio</td></tr><tr><td>http://www.wikidata.org/entity/Q382862</td><td>Un guijarro en el cielo</td></tr><tr><td>http://www.wikidata.org/entity/Q385420</td><td>Silly Asses</td></tr><tr><td>http://www.wikidata.org/entity/Q389750</td><td>Los propios dioses</td></tr><tr><td>http://www.wikidata.org/entity/Q440784</td><td>Los robots del amanecer</td></tr><tr><td>http://www.wikidata.org/entity/Q464683</td><td>¡Fuga!</td></tr><tr><td>http://www.wikidata.org/entity/Q464691</td><td>En la arena estelar</td></tr><tr><td>http://www.wikidata.org/entity/Q465158</td><td>Segregationist</td></tr><tr><td>http://www.wikidata.org/entity/Q466196</td><td>El fin de la Eternidad</td></tr><tr><td>http://www.wikidata.org/entity/Q468132</td><td>El hombre bicentenario</td></tr><tr><td>http://www.wikidata.org/entity/Q469862</td><td>El sol desnudo</td></tr><tr><td>http://www.wikidata.org/entity/Q482085</td><td>Las bóvedas de acero</td></tr><tr><td>http://www.wikidata.org/entity/Q497280</td><td>Visiones de robot</td></tr><tr><td>http://www.wikidata.org/entity/Q572480</td><td>Someday</td></tr><tr><td>http://www.wikidata.org/entity/Q583366</td><td>Sueños de robot</td></tr><tr><td>http://www.wikidata.org/entity/Q651225</td><td>A Boy's Best Friend</td></tr><tr><td>http://www.wikidata.org/entity/Q661438</td><td>The Winnowing</td></tr><tr><td>http://www.wikidata.org/entity/Q666538</td><td>Lucky Starr and the Oceans of Venus</td></tr><tr><td>http://www.wikidata.org/entity/Q728140</td><td>David Starr, Space Ranger</td></tr><tr><td>http://www.wikidata.org/entity/Q753894</td><td>Fundación</td></tr><tr><td>http://www.wikidata.org/entity/Q783533</td><td>Preludio a la Fundación</td></tr><tr><td>http://www.wikidata.org/entity/Q785202</td><td>Pequeño robot perdido</td></tr><tr><td>http://www.wikidata.org/entity/Q786237</td><td>I'm in Marsport Without Hilda</td></tr><tr><td>http://www.wikidata.org/entity/Q831520</td><td>Stranger in Paradise</td></tr><tr><td>http://www.wikidata.org/entity/Q831586</td><td>Intuición femenina</td></tr><tr><td>http://www.wikidata.org/entity/Q831807</td><td>The Tercentenary Incident</td></tr><tr><td>http://www.wikidata.org/entity/Q832020</td><td>Punto de vista</td></tr><tr><td>http://www.wikidata.org/entity/Q839800</td><td>Fundación e Imperio</td></tr><tr><td>http://www.wikidata.org/entity/Q853927</td><td>Segunda Fundación</td></tr><tr><td>http://www.wikidata.org/entity/Q897392</td><td>Sally</td></tr><tr><td>http://www.wikidata.org/entity/Q913482</td><td>Serie de los robots</td></tr><tr><td>http://www.wikidata.org/entity/Q928354</td><td>¡Embustero!</td></tr><tr><td>http://www.wikidata.org/entity/Q932592</td><td>Los límites de la Fundación</td></tr><tr><td>http://www.wikidata.org/entity/Q969352</td><td>The Feeling of Power</td></tr><tr><td>http://www.wikidata.org/entity/Q1005917</td><td>Madre Tierra</td></tr><tr><td>http://www.wikidata.org/entity/Q1050014</td><td>Fundación y Tierra</td></tr><tr><td>http://www.wikidata.org/entity/Q1081119</td><td>Earth Is Room Enough</td></tr><tr><td>http://www.wikidata.org/entity/Q1438358</td><td>Christmas Without Rodney</td></tr><tr><td>http://www.wikidata.org/entity/Q1438368</td><td>Too Bad!</td></tr><tr><td>http://www.wikidata.org/entity/Q1438378</td><td>Robot Visions</td></tr><tr><td>http://www.wikidata.org/entity/Q1616068</td><td>The Martian Way and Other Stories</td></tr><tr><td>http://www.wikidata.org/entity/Q1704114</td><td>Eyes Do More Than See</td></tr><tr><td>http://www.wikidata.org/entity/Q1704456</td><td>Does a Bee Care?</td></tr><tr><td>http://www.wikidata.org/entity/Q1708598</td><td>Lest We Remember</td></tr><tr><td>http://www.wikidata.org/entity/Q1936542</td><td>Gold</td></tr><tr><td>http://www.wikidata.org/entity/Q2007191</td><td>Nightfall and Other Stories</td></tr><tr><td>http://www.wikidata.org/entity/Q2051614</td><td>La máquina que ganó la guerra</td></tr><tr><td>http://www.wikidata.org/entity/Q2252893</td><td>The Rest of the Robots</td></tr><tr><td>http://www.wikidata.org/entity/Q2277195</td><td>The Early Asimov</td></tr><tr><td>http://www.wikidata.org/entity/Q2297144</td><td>El hombre positrónico</td></tr><tr><td>http://www.wikidata.org/entity/Q2357633</td><td>Viaje alucinante II</td></tr><tr><td>http://www.wikidata.org/entity/Q98908838</td><td>Q98908838</td></tr><tr><td>http://www.wikidata.org/entity/Q102310372</td><td>The Last Question</td></tr><tr><td>http://www.wikidata.org/entity/Q102310928</td><td>The Last Question</td></tr><tr><td>http://www.wikidata.org/entity/Q104863301</td><td>Flug durch die Sonne</td></tr><tr><td>http://www.wikidata.org/entity/Q104868766</td><td>Q104868766</td></tr><tr><td>http://www.wikidata.org/entity/Q104868864</td><td>Q104868864</td></tr><tr><td>http://www.wikidata.org/entity/Q104868972</td><td>Q104868972</td></tr><tr><td>http://www.wikidata.org/entity/Q104869051</td><td>Q104869051</td></tr><tr><td>http://www.wikidata.org/entity/Q110270091</td><td>Los enciclopedistas</td></tr><tr><td>http://www.wikidata.org/entity/Q5416949</td><td>Everest</td></tr><tr><td>http://www.wikidata.org/entity/Q5459105</td><td>Flies</td></tr><tr><td>http://www.wikidata.org/entity/Q5467012</td><td>For the Birds</td></tr><tr><td>http://www.wikidata.org/entity/Q5641557</td><td>Half-Breed</td></tr><tr><td>http://www.wikidata.org/entity/Q5643194</td><td>Hallucination</td></tr><tr><td>http://www.wikidata.org/entity/Q5890989</td><td>Homo Sol</td></tr><tr><td>http://www.wikidata.org/entity/Q6075937</td><td>Isaac Asimov Presents The Great SF Stories 16</td></tr><tr><td>http://www.wikidata.org/entity/Q6075942</td><td>Isaac Asimov Presents The Great SF Stories 19</td></tr><tr><td>http://www.wikidata.org/entity/Q6075946</td><td>Isaac Asimov Presents The Great SF Stories 20</td></tr><tr><td>http://www.wikidata.org/entity/Q6075964</td><td>Isaac Asimov Presents The Great SF Stories 4</td></tr><tr><td>http://www.wikidata.org/entity/Q6075975</td><td>Isaac Asimov Presents The Great SF Stories 9</td></tr><tr><td>http://www.wikidata.org/entity/Q6087208</td><td>Viaje alucinante</td></tr><tr><td>http://www.wikidata.org/entity/Q6486201</td><td>El bardo inmortal</td></tr><tr><td>http://www.wikidata.org/entity/Q6659282</td><td>Living Space</td></tr><tr><td>http://www.wikidata.org/entity/Q7045959</td><td>Nobody Here But—</td></tr><tr><td>http://www.wikidata.org/entity/Q7050465</td><td>Norby, the Mixed-Up Robot</td></tr><tr><td>http://www.wikidata.org/entity/Q7062089</td><td>Not Final!</td></tr><tr><td>http://www.wikidata.org/entity/Q7264578</td><td>Pâté de Foie Gras</td></tr><tr><td>http://www.wikidata.org/entity/Q7461270</td><td>Shah Guido G.</td></tr><tr><td>http://www.wikidata.org/entity/Q7677898</td><td>Take a Match</td></tr><tr><td>http://www.wikidata.org/entity/Q7721040</td><td>The Callistan Menace</td></tr><tr><td>http://www.wikidata.org/entity/Q7731254</td><td>The Dust of Death</td></tr><tr><td>http://www.wikidata.org/entity/Q7731286</td><td>The Dying Night</td></tr><tr><td>http://www.wikidata.org/entity/Q7738024</td><td>The Greatest Asset</td></tr><tr><td>http://www.wikidata.org/entity/Q7742168</td><td>The Instability</td></tr><tr><td>http://www.wikidata.org/entity/Q7749581</td><td>The Magnificent Possession</td></tr><tr><td>http://www.wikidata.org/entity/Q7751133</td><td>The Message</td></tr><tr><td>http://www.wikidata.org/entity/Q7756390</td><td>The Pause</td></tr><tr><td>http://www.wikidata.org/entity/Q7762565</td><td>The Science Fictional Solar System</td></tr><tr><td>http://www.wikidata.org/entity/Q7763085</td><td>The Secret Sense</td></tr><tr><td>http://www.wikidata.org/entity/Q7771769</td><td>The Up-To-Date Sorcerer</td></tr><tr><td>http://www.wikidata.org/entity/Q7773752</td><td>The Watery Place</td></tr><tr><td>http://www.wikidata.org/entity/Q7773994</td><td>The Weapon Too Dreadful to Use</td></tr><tr><td>http://www.wikidata.org/entity/Q7838296</td><td>Trends</td></tr><tr><td>http://www.wikidata.org/entity/Q7990883</td><td>What's in a Name?</td></tr><tr><td>http://www.wikidata.org/entity/Q7991587</td><td>What is This Thing Called Love?</td></tr><tr><td>http://www.wikidata.org/entity/Q15096441</td><td>Anochecer</td></tr><tr><td>http://www.wikidata.org/entity/Q15615978</td><td>The Edge of Tomorrow</td></tr><tr><td>http://www.wikidata.org/entity/Q15917684</td><td>The Early Asimov</td></tr><tr><td>http://www.wikidata.org/entity/Q16068755</td><td>Nightfall and Other Stories</td></tr><tr><td>http://www.wikidata.org/entity/Q16069681</td><td>Q16069681</td></tr><tr><td>http://www.wikidata.org/entity/Q16385071</td><td>The Asimov Chronicles: Fifty Years of Isaac Asimov</td></tr><tr><td>http://www.wikidata.org/entity/Q16386428</td><td>It's Such a Beautiful Day</td></tr><tr><td>http://www.wikidata.org/entity/Q16386665</td><td>Let's Not</td></tr><tr><td>http://www.wikidata.org/entity/Q17007201</td><td>Isaac Asimov Presents The Great SF Stories 7</td></tr><tr><td>http://www.wikidata.org/entity/Q17007320</td><td>Isaac Asimov Presents The Great SF Stories 12</td></tr><tr><td>http://www.wikidata.org/entity/Q17042121</td><td>Isaac Asimov Presents The Great SF Stories 17</td></tr><tr><td>http://www.wikidata.org/entity/Q17144870</td><td>Isaac's Universe</td></tr><tr><td>http://www.wikidata.org/entity/Q21190269</td><td>The Ugly Little Boy</td></tr><tr><td>http://www.wikidata.org/entity/Q23307057</td><td>Androids, Time Machines and Blue Giraffes</td></tr><tr><td>http://www.wikidata.org/entity/Q23307383</td><td>Fifty Short Science Fiction Tales</td></tr><tr><td>http://www.wikidata.org/entity/Q23307384</td><td>Five-Odd</td></tr><tr><td>http://www.wikidata.org/entity/Q23307461</td><td>Omnibus of Science Fiction</td></tr><tr><td>http://www.wikidata.org/entity/Q25492175</td><td>Q25492175</td></tr><tr><td>http://www.wikidata.org/entity/Q28703405</td><td>Sure Thing</td></tr><tr><td>http://www.wikidata.org/entity/Q28808617</td><td>The Key Word</td></tr><tr><td>http://www.wikidata.org/entity/Q28808642</td><td>As Chemist to Chemist</td></tr><tr><td>http://www.wikidata.org/entity/Q28808673</td><td>Death of a Foy</td></tr><tr><td>http://www.wikidata.org/entity/Q28808677</td><td>Nothing for Nothing</td></tr><tr><td>http://www.wikidata.org/entity/Q28808694</td><td>About Nothing</td></tr><tr><td>http://www.wikidata.org/entity/Q42723389</td><td>Q42723389</td></tr><tr><td>http://www.wikidata.org/entity/Q42723496</td><td>Q42723496</td></tr><tr><td>http://www.wikidata.org/entity/Q54826108</td><td>Q54826108</td></tr><tr><td>http://www.wikidata.org/entity/Q55226631</td><td>The Endochronic Properties of Resublimated Thiotimoline</td></tr><tr><td>http://www.wikidata.org/entity/Q98141417</td><td>Have You Seen These?</td></tr><tr><td>http://www.wikidata.org/entity/Q98141420</td><td>Q98141420</td></tr></tbody></table></body></html>"
   ]
  },
  {
   "cell_type": "markdown",
   "metadata": {
    "id": "fGRoLkcY641q"
   },
   "source": [
    "### Consulta 7\n",
    "\n",
    "Vamos a volver a recuperar las mismas obras de la consulta anterior pero mostrando también la fecha de publicación de cada una. Las obras deben aparece aunque no tengan fecha de publicación asociada. En caso de que una obra tenga varias fechas de publicación, se mostrará sólo la más antigua. Los resultados deben aparecer en orden cronológico.\n",
    "\n",
    "Para calcular la fecha correcta tendrás que agrupar las respuestas por obra y aplicar una función de agregación sobre las fechas de publicación. Puede que [esto](https://www.wikidata.org/wiki/Wikidata:SPARQL_tutorial#Grouping) te resulte útil."
   ]
  },
  {
   "cell_type": "raw",
   "metadata": {},
   "source": [
    "SELECT ?book ?bookLabel ?date\n",
    "WHERE\n",
    "{\n",
    "  ?book wdt:P50 wd:Q34981.#obras de isaac\n",
    "  ?book wdt:P136 wd:Q24925.#que sean instancia de ciencia ficcion\n",
    "  OPTIONAL {?book wdt:P577 ?date.}\n",
    "  SERVICE wikibase:label {  bd:serviceParam wikibase:language \"[AUTO_LANGUAGE],en\".  }\n",
    "}\n",
    "ORDER BY DESC (?date)"
   ]
  },
  {
   "cell_type": "markdown",
   "metadata": {},
   "source": [
    "<html><head><meta charset=\"utf-8\"></head><body><table><thead><tr><th>book</th><th>bookLabel</th><th>date</th></tr></thead><tbody><tr><td>http://www.wikidata.org/entity/Q102310928</td><td>The Last Question</td><td>2016-07-01T00:00:00Z</td></tr><tr><td>http://www.wikidata.org/entity/Q17144870</td><td>Isaac's Universe</td><td>2003-03-01T00:00:00Z</td></tr><tr><td>http://www.wikidata.org/entity/Q1936542</td><td>Gold</td><td>1995-01-01T00:00:00Z</td></tr><tr><td>http://www.wikidata.org/entity/Q42723496</td><td>Q42723496</td><td>1993-01-01T00:00:00Z</td></tr><tr><td>http://www.wikidata.org/entity/Q2297144</td><td>El hombre positrónico</td><td>1992-10-01T00:00:00Z</td></tr><tr><td>http://www.wikidata.org/entity/Q21190269</td><td>The Ugly Little Boy</td><td>1992-09-01T00:00:00Z</td></tr><tr><td>http://www.wikidata.org/entity/Q3828731</td><td>Isaac's Universe Volume Two: Phases in Chaos</td><td>1991-01-01T00:00:00Z</td></tr><tr><td>http://www.wikidata.org/entity/Q15096441</td><td>Anochecer</td><td>1990-06-01T00:00:00Z</td></tr><tr><td>http://www.wikidata.org/entity/Q497280</td><td>Visiones de robot</td><td>1990-01-01T00:00:00Z</td></tr><tr><td>http://www.wikidata.org/entity/Q1438378</td><td>Robot Visions</td><td>1990-01-01T00:00:00Z</td></tr><tr><td>http://www.wikidata.org/entity/Q5018114</td><td>Cal</td><td>1990-01-01T00:00:00Z</td></tr><tr><td>http://www.wikidata.org/entity/Q98908838</td><td>Q98908838</td><td>1990-01-01T00:00:00Z</td></tr><tr><td>http://www.wikidata.org/entity/Q6075946</td><td>Isaac Asimov Presents The Great SF Stories 20</td><td>1990-01-01T00:00:00Z</td></tr><tr><td>http://www.wikidata.org/entity/Q16385071</td><td>The Asimov Chronicles: Fifty Years of Isaac Asimov</td><td>1989-05-01T00:00:00Z</td></tr><tr><td>http://www.wikidata.org/entity/Q1438358</td><td>Christmas Without Rodney</td><td>1989-01-01T00:00:00Z</td></tr><tr><td>http://www.wikidata.org/entity/Q1438368</td><td>Too Bad!</td><td>1989-01-01T00:00:00Z</td></tr><tr><td>http://www.wikidata.org/entity/Q6075942</td><td>Isaac Asimov Presents The Great SF Stories 19</td><td>1989-01-01T00:00:00Z</td></tr><tr><td>http://www.wikidata.org/entity/Q783533</td><td>Preludio a la Fundación</td><td>1988-11-01T00:00:00Z</td></tr><tr><td>http://www.wikidata.org/entity/Q783533</td><td>Preludio a la Fundación</td><td>1988-01-01T00:00:00Z</td></tr><tr><td>http://www.wikidata.org/entity/Q17042121</td><td>Isaac Asimov Presents The Great SF Stories 17</td><td>1988-01-01T00:00:00Z</td></tr><tr><td>http://www.wikidata.org/entity/Q2357633</td><td>Viaje alucinante II</td><td>1987-01-01T00:00:00Z</td></tr><tr><td>http://www.wikidata.org/entity/Q6075937</td><td>Isaac Asimov Presents The Great SF Stories 16</td><td>1987-01-01T00:00:00Z</td></tr><tr><td>http://www.wikidata.org/entity/Q583366</td><td>Sueños de robot</td><td>1986-11-01T00:00:00Z</td></tr><tr><td>http://www.wikidata.org/entity/Q1050014</td><td>Fundación y Tierra</td><td>1986-01-01T00:00:00Z</td></tr><tr><td>http://www.wikidata.org/entity/Q377230</td><td>Robots e Imperio</td><td>1985-01-01T00:00:00Z</td></tr><tr><td>http://www.wikidata.org/entity/Q5643194</td><td>Hallucination</td><td>1985-01-01T00:00:00Z</td></tr><tr><td>http://www.wikidata.org/entity/Q15615978</td><td>The Edge of Tomorrow</td><td>1985-01-01T00:00:00Z</td></tr><tr><td>http://www.wikidata.org/entity/Q42723389</td><td>Q42723389</td><td>1985-01-01T00:00:00Z</td></tr><tr><td>http://www.wikidata.org/entity/Q17007320</td><td>Isaac Asimov Presents The Great SF Stories 12</td><td>1984-01-01T00:00:00Z</td></tr><tr><td>http://www.wikidata.org/entity/Q440784</td><td>Los robots del amanecer</td><td>1983-01-01T00:00:00Z</td></tr><tr><td>http://www.wikidata.org/entity/Q3697195</td><td>Computer Crimes and Capers</td><td>1983-01-01T00:00:00Z</td></tr><tr><td>http://www.wikidata.org/entity/Q6075975</td><td>Isaac Asimov Presents The Great SF Stories 9</td><td>1983-01-01T00:00:00Z</td></tr><tr><td>http://www.wikidata.org/entity/Q7050465</td><td>Norby, the Mixed-Up Robot</td><td>1983-01-01T00:00:00Z</td></tr><tr><td>http://www.wikidata.org/entity/Q28808694</td><td>About Nothing</td><td>1983-01-01T00:00:00Z</td></tr><tr><td>http://www.wikidata.org/entity/Q932592</td><td>Los límites de la Fundación</td><td>1982-06-01T00:00:00Z</td></tr><tr><td>http://www.wikidata.org/entity/Q1708598</td><td>Lest We Remember</td><td>1982-01-01T00:00:00Z</td></tr><tr><td>http://www.wikidata.org/entity/Q17007201</td><td>Isaac Asimov Presents The Great SF Stories 7</td><td>1982-01-01T00:00:00Z</td></tr><tr><td>http://www.wikidata.org/entity/Q28808673</td><td>Death of a Foy</td><td>1980-10-01T00:00:00Z</td></tr><tr><td>http://www.wikidata.org/entity/Q54826108</td><td>Q54826108</td><td>1980-02-05T00:00:00Z</td></tr><tr><td>http://www.wikidata.org/entity/Q3828766</td><td>Isaac Asimov Presents The Great SF Stories 3</td><td>1980-01-01T00:00:00Z</td></tr><tr><td>http://www.wikidata.org/entity/Q5467012</td><td>For the Birds</td><td>1980-01-01T00:00:00Z</td></tr><tr><td>http://www.wikidata.org/entity/Q6075964</td><td>Isaac Asimov Presents The Great SF Stories 4</td><td>1980-01-01T00:00:00Z</td></tr><tr><td>http://www.wikidata.org/entity/Q3828770</td><td>Isaac Asimov Presents The Great SF Stories 2</td><td>1979-08-01T00:00:00Z</td></tr><tr><td>http://www.wikidata.org/entity/Q28808677</td><td>Nothing for Nothing</td><td>1979-02-01T00:00:00Z</td></tr><tr><td>http://www.wikidata.org/entity/Q3828767</td><td>Isaac Asimov Presents The Great SF Stories 1</td><td>1979-01-01T00:00:00Z</td></tr><tr><td>http://www.wikidata.org/entity/Q7762565</td><td>The Science Fictional Solar System</td><td>1979-01-01T00:00:00Z</td></tr><tr><td>http://www.wikidata.org/entity/Q28703405</td><td>Sure Thing</td><td>1977-01-01T00:00:00Z</td></tr><tr><td>http://www.wikidata.org/entity/Q28808617</td><td>The Key Word</td><td>1977-01-01T00:00:00Z</td></tr><tr><td>http://www.wikidata.org/entity/Q468132</td><td>El hombre bicentenario</td><td>1976-02-01T00:00:00Z</td></tr><tr><td>http://www.wikidata.org/entity/Q661438</td><td>The Winnowing</td><td>1976-01-01T00:00:00Z</td></tr><tr><td>http://www.wikidata.org/entity/Q831807</td><td>The Tercentenary Incident</td><td>1976-01-01T00:00:00Z</td></tr><tr><td>http://www.wikidata.org/entity/Q2398251</td><td>The Bicentennial Man and Other Stories</td><td>1976-01-01T00:00:00Z</td></tr><tr><td>http://www.wikidata.org/entity/Q3870482</td><td>Birth of a Notion</td><td>1976-01-01T00:00:00Z</td></tr><tr><td>http://www.wikidata.org/entity/Q16068755</td><td>Nightfall and Other Stories</td><td>1976-01-01T00:00:00Z</td></tr><tr><td>http://www.wikidata.org/entity/Q651225</td><td>A Boy's Best Friend</td><td>1975-01-01T00:00:00Z</td></tr><tr><td>http://www.wikidata.org/entity/Q832020</td><td>Punto de vista</td><td>1975-01-01T00:00:00Z</td></tr><tr><td>http://www.wikidata.org/entity/Q2621546</td><td>Buy Jupiter and Other Stories</td><td>1975-01-01T00:00:00Z</td></tr><tr><td>http://www.wikidata.org/entity/Q3213661</td><td>The Life and Times of Multivac</td><td>1975-01-01T00:00:00Z</td></tr><tr><td>http://www.wikidata.org/entity/Q104869051</td><td>Q104869051</td><td>1974-10-08T00:00:00Z</td></tr><tr><td>http://www.wikidata.org/entity/Q104863301</td><td>Flug durch die Sonne</td><td>1974-07-16T00:00:00Z</td></tr><tr><td>http://www.wikidata.org/entity/Q4880358</td><td>Before the Golden Age</td><td>1974-04-01T00:00:00Z</td></tr><tr><td>http://www.wikidata.org/entity/Q98141420</td><td>Q98141420</td><td>1974-03-01T00:00:00Z</td></tr><tr><td>http://www.wikidata.org/entity/Q831520</td><td>Stranger in Paradise</td><td>1974-01-01T00:00:00Z</td></tr><tr><td>http://www.wikidata.org/entity/Q98141417</td><td>Have You Seen These?</td><td>1974-01-01T00:00:00Z</td></tr><tr><td>http://www.wikidata.org/entity/Q104868972</td><td>Q104868972</td><td>1973-05-11T00:00:00Z</td></tr><tr><td>http://www.wikidata.org/entity/Q104868864</td><td>Q104868864</td><td>1973-04-13T00:00:00Z</td></tr><tr><td>http://www.wikidata.org/entity/Q104868766</td><td>Q104868766</td><td>1973-03-16T00:00:00Z</td></tr><tr><td>http://www.wikidata.org/entity/Q3524680</td><td>Thiotimoline to the Stars</td><td>1973-01-01T00:00:00Z</td></tr><tr><td>http://www.wikidata.org/entity/Q23307057</td><td>Androids, Time Machines and Blue Giraffes</td><td>1973-01-01T00:00:00Z</td></tr><tr><td>http://www.wikidata.org/entity/Q389750</td><td>Los propios dioses</td><td>1972-01-01T00:00:00Z</td></tr><tr><td>http://www.wikidata.org/entity/Q2277195</td><td>The Early Asimov</td><td>1972-01-01T00:00:00Z</td></tr><tr><td>http://www.wikidata.org/entity/Q7677898</td><td>Take a Match</td><td>1972-01-01T00:00:00Z</td></tr><tr><td>http://www.wikidata.org/entity/Q7738024</td><td>The Greatest Asset</td><td>1972-01-01T00:00:00Z</td></tr><tr><td>http://www.wikidata.org/entity/Q28808642</td><td>As Chemist to Chemist</td><td>1970-05-01T00:00:00Z</td></tr><tr><td>http://www.wikidata.org/entity/Q4009001</td><td>Waterclap</td><td>1970-01-01T00:00:00Z</td></tr><tr><td>http://www.wikidata.org/entity/Q4631777</td><td>2430 A. D.</td><td>1970-01-01T00:00:00Z</td></tr><tr><td>http://www.wikidata.org/entity/Q831586</td><td>Intuición femenina</td><td>1969-10-01T00:00:00Z</td></tr><tr><td>http://www.wikidata.org/entity/Q2007191</td><td>Nightfall and Other Stories</td><td>1969-01-01T00:00:00Z</td></tr><tr><td>http://www.wikidata.org/entity/Q25492175</td><td>Q25492175</td><td>1969-01-01T00:00:00Z</td></tr><tr><td>http://www.wikidata.org/entity/Q3055501</td><td>The Proper Study</td><td>1968-01-01T00:00:00Z</td></tr><tr><td>http://www.wikidata.org/entity/Q3061953</td><td>Exile to Hell</td><td>1968-01-01T00:00:00Z</td></tr><tr><td>http://www.wikidata.org/entity/Q3206789</td><td>The Billiard Ball</td><td>1967-01-01T00:00:00Z</td></tr><tr><td>http://www.wikidata.org/entity/Q6087208</td><td>Viaje alucinante</td><td>1966-01-01T00:00:00Z</td></tr><tr><td>http://www.wikidata.org/entity/Q3222902</td><td>Founding Father</td><td>1965-08-01T00:00:00Z</td></tr><tr><td>http://www.wikidata.org/entity/Q1704114</td><td>Eyes Do More Than See</td><td>1965-04-01T00:00:00Z</td></tr><tr><td>http://www.wikidata.org/entity/Q2252893</td><td>The Rest of the Robots</td><td>1964-01-01T00:00:00Z</td></tr><tr><td>http://www.wikidata.org/entity/Q2872379</td><td>Author! Author!</td><td>1964-01-01T00:00:00Z</td></tr><tr><td>http://www.wikidata.org/entity/Q23307384</td><td>Five-Odd</td><td>1964-01-01T00:00:00Z</td></tr><tr><td>http://www.wikidata.org/entity/Q23307383</td><td>Fifty Short Science Fiction Tales</td><td>1963-01-01T00:00:00Z</td></tr><tr><td>http://www.wikidata.org/entity/Q3319894</td><td>My Son, the Physicist</td><td>1962-02-01T00:00:00Z</td></tr><tr><td>http://www.wikidata.org/entity/Q2051614</td><td>La máquina que ganó la guerra</td><td>1961-10-01T00:00:00Z</td></tr><tr><td>http://www.wikidata.org/entity/Q7991587</td><td>What is This Thing Called Love?</td><td>1961-01-01T00:00:00Z</td></tr><tr><td>http://www.wikidata.org/entity/Q3392605</td><td>Rain, Rain, Go Away</td><td>1959-09-01T00:00:00Z</td></tr><tr><td>http://www.wikidata.org/entity/Q3549799</td><td>A Statue for Father</td><td>1959-02-01T00:00:00Z</td></tr><tr><td>http://www.wikidata.org/entity/Q2550259</td><td>Nine Tomorrows</td><td>1959-01-01T00:00:00Z</td></tr><tr><td>http://www.wikidata.org/entity/Q3190256</td><td>Unto the Fourth Generation</td><td>1959-01-01T00:00:00Z</td></tr><tr><td>http://www.wikidata.org/entity/Q3392605</td><td>Rain, Rain, Go Away</td><td>1959-01-01T00:00:00Z</td></tr><tr><td>http://www.wikidata.org/entity/Q3549799</td><td>A Statue for Father</td><td>1959-01-01T00:00:00Z</td></tr><tr><td>http://www.wikidata.org/entity/Q2962693</td><td>Buy Jupiter</td><td>1958-05-01T00:00:00Z</td></tr><tr><td>http://www.wikidata.org/entity/Q4000825</td><td>Todos los males del mundo</td><td>1958-04-01T00:00:00Z</td></tr><tr><td>http://www.wikidata.org/entity/Q385420</td><td>Silly Asses</td><td>1958-02-01T00:00:00Z</td></tr><tr><td>http://www.wikidata.org/entity/Q969352</td><td>The Feeling of Power</td><td>1958-01-01T00:00:00Z</td></tr><tr><td>http://www.wikidata.org/entity/Q2647714</td><td>Spell My Name with an S</td><td>1958-01-01T00:00:00Z</td></tr><tr><td>http://www.wikidata.org/entity/Q2962693</td><td>Buy Jupiter</td><td>1958-01-01T00:00:00Z</td></tr><tr><td>http://www.wikidata.org/entity/Q7771769</td><td>The Up-To-Date Sorcerer</td><td>1958-01-01T00:00:00Z</td></tr><tr><td>http://www.wikidata.org/entity/Q21190269</td><td>The Ugly Little Boy</td><td>1958-01-01T00:00:00Z</td></tr><tr><td>http://www.wikidata.org/entity/Q1704456</td><td>Does a Bee Care?</td><td>1957-06-01T00:00:00Z</td></tr><tr><td>http://www.wikidata.org/entity/Q469862</td><td>El sol desnudo</td><td>1957-01-01T00:00:00Z</td></tr><tr><td>http://www.wikidata.org/entity/Q786237</td><td>I'm in Marsport Without Hilda</td><td>1957-01-01T00:00:00Z</td></tr><tr><td>http://www.wikidata.org/entity/Q1081119</td><td>Earth Is Room Enough</td><td>1957-01-01T00:00:00Z</td></tr><tr><td>http://www.wikidata.org/entity/Q2907853</td><td>Profession</td><td>1957-01-01T00:00:00Z</td></tr><tr><td>http://www.wikidata.org/entity/Q3153721</td><td>Insert Knob A In Hole B</td><td>1957-01-01T00:00:00Z</td></tr><tr><td>http://www.wikidata.org/entity/Q4657902</td><td>A Loint of Paw</td><td>1957-01-01T00:00:00Z</td></tr><tr><td>http://www.wikidata.org/entity/Q4925104</td><td>Blank!</td><td>1957-01-01T00:00:00Z</td></tr><tr><td>http://www.wikidata.org/entity/Q7731254</td><td>The Dust of Death</td><td>1957-01-01T00:00:00Z</td></tr><tr><td>http://www.wikidata.org/entity/Q102310372</td><td>The Last Question</td><td>1956-11-01T00:00:00Z</td></tr><tr><td>http://www.wikidata.org/entity/Q7773752</td><td>The Watery Place</td><td>1956-10-01T00:00:00Z</td></tr><tr><td>http://www.wikidata.org/entity/Q6659282</td><td>Living Space</td><td>1956-05-01T00:00:00Z</td></tr><tr><td>http://www.wikidata.org/entity/Q3793685</td><td>El pasado muerto</td><td>1956-04-01T00:00:00Z</td></tr><tr><td>http://www.wikidata.org/entity/Q572480</td><td>Someday</td><td>1956-01-01T00:00:00Z</td></tr><tr><td>http://www.wikidata.org/entity/Q2493831</td><td>Jokester</td><td>1956-01-01T00:00:00Z</td></tr><tr><td>http://www.wikidata.org/entity/Q5324885</td><td>Each an Explorer</td><td>1956-01-01T00:00:00Z</td></tr><tr><td>http://www.wikidata.org/entity/Q7264578</td><td>Pâté de Foie Gras</td><td>1956-01-01T00:00:00Z</td></tr><tr><td>http://www.wikidata.org/entity/Q7731286</td><td>The Dying Night</td><td>1956-01-01T00:00:00Z</td></tr><tr><td>http://www.wikidata.org/entity/Q7751133</td><td>The Message</td><td>1956-01-01T00:00:00Z</td></tr><tr><td>http://www.wikidata.org/entity/Q7990883</td><td>What's in a Name?</td><td>1956-01-01T00:00:00Z</td></tr><tr><td>http://www.wikidata.org/entity/Q466196</td><td>El fin de la Eternidad</td><td>1955-01-01T00:00:00Z</td></tr><tr><td>http://www.wikidata.org/entity/Q1616068</td><td>The Martian Way and Other Stories</td><td>1955-01-01T00:00:00Z</td></tr><tr><td>http://www.wikidata.org/entity/Q3927752</td><td>Question</td><td>1955-01-01T00:00:00Z</td></tr><tr><td>http://www.wikidata.org/entity/Q482085</td><td>Las bóvedas de acero</td><td>1954-06-01T00:00:00Z</td></tr><tr><td>http://www.wikidata.org/entity/Q666538</td><td>Lucky Starr and the Oceans of Venus</td><td>1954-01-01T00:00:00Z</td></tr><tr><td>http://www.wikidata.org/entity/Q6486201</td><td>El bardo inmortal</td><td>1954-01-01T00:00:00Z</td></tr><tr><td>http://www.wikidata.org/entity/Q7756390</td><td>The Pause</td><td>1954-01-01T00:00:00Z</td></tr><tr><td>http://www.wikidata.org/entity/Q16386428</td><td>It's Such a Beautiful Day</td><td>1954-01-01T00:00:00Z</td></tr><tr><td>http://www.wikidata.org/entity/Q16386665</td><td>Let's Not</td><td>1954-01-01T00:00:00Z</td></tr><tr><td>http://www.wikidata.org/entity/Q465158</td><td>Segregationist</td><td>1953-01-01T00:00:00Z</td></tr><tr><td>http://www.wikidata.org/entity/Q853927</td><td>Segunda Fundación</td><td>1953-01-01T00:00:00Z</td></tr><tr><td>http://www.wikidata.org/entity/Q897392</td><td>Sally</td><td>1953-01-01T00:00:00Z</td></tr><tr><td>http://www.wikidata.org/entity/Q5003079</td><td>Button, Button</td><td>1953-01-01T00:00:00Z</td></tr><tr><td>http://www.wikidata.org/entity/Q5416949</td><td>Everest</td><td>1953-01-01T00:00:00Z</td></tr><tr><td>http://www.wikidata.org/entity/Q5459105</td><td>Flies</td><td>1953-01-01T00:00:00Z</td></tr><tr><td>http://www.wikidata.org/entity/Q7045959</td><td>Nobody Here But—</td><td>1953-01-01T00:00:00Z</td></tr><tr><td>http://www.wikidata.org/entity/Q728140</td><td>David Starr, Space Ranger</td><td>1952-01-01T00:00:00Z</td></tr><tr><td>http://www.wikidata.org/entity/Q839800</td><td>Fundación e Imperio</td><td>1952-01-01T00:00:00Z</td></tr><tr><td>http://www.wikidata.org/entity/Q2827384</td><td>Youth</td><td>1952-01-01T00:00:00Z</td></tr><tr><td>http://www.wikidata.org/entity/Q2891075</td><td>The Martian Way</td><td>1952-01-01T00:00:00Z</td></tr><tr><td>http://www.wikidata.org/entity/Q3234925</td><td>The Deep</td><td>1952-01-01T00:00:00Z</td></tr><tr><td>http://www.wikidata.org/entity/Q23307461</td><td>Omnibus of Science Fiction</td><td>1952-01-01T00:00:00Z</td></tr><tr><td>http://www.wikidata.org/entity/Q3675191</td><td>¡Cómo se divertían!</td><td>1951-12-04T00:00:00Z</td></tr><tr><td>http://www.wikidata.org/entity/Q2908425</td><td>Huésped</td><td>1951-05-01T00:00:00Z</td></tr><tr><td>http://www.wikidata.org/entity/Q464691</td><td>En la arena estelar</td><td>1951-01-01T00:00:00Z</td></tr><tr><td>http://www.wikidata.org/entity/Q753894</td><td>Fundación</td><td>1951-01-01T00:00:00Z</td></tr><tr><td>http://www.wikidata.org/entity/Q2855170</td><td>Breeds There a Man...?</td><td>1951-01-01T00:00:00Z</td></tr><tr><td>http://www.wikidata.org/entity/Q3686475</td><td>C-Chute</td><td>1951-01-01T00:00:00Z</td></tr><tr><td>http://www.wikidata.org/entity/Q7461270</td><td>Shah Guido G.</td><td>1951-01-01T00:00:00Z</td></tr><tr><td>http://www.wikidata.org/entity/Q382862</td><td>Un guijarro en el cielo</td><td>1950-01-19T00:00:00Z</td></tr><tr><td>http://www.wikidata.org/entity/Q3225414</td><td>The Little Man on the Subway</td><td>1950-01-01T00:00:00Z</td></tr><tr><td>http://www.wikidata.org/entity/Q1005917</td><td>Madre Tierra</td><td>1949-01-01T00:00:00Z</td></tr><tr><td>http://www.wikidata.org/entity/Q55226631</td><td>The Endochronic Properties of Resublimated Thiotimoline</td><td>1948-01-01T00:00:00Z</td></tr><tr><td>http://www.wikidata.org/entity/Q785202</td><td>Pequeño robot perdido</td><td>1947-03-01T00:00:00Z</td></tr><tr><td>http://www.wikidata.org/entity/Q464683</td><td>¡Fuga!</td><td>1945-08-01T00:00:00Z</td></tr><tr><td>http://www.wikidata.org/entity/Q2864287</td><td>Death Sentence</td><td>1943-01-01T00:00:00Z</td></tr><tr><td>http://www.wikidata.org/entity/Q3345927</td><td>Christmas on Ganymede</td><td>1942-01-01T00:00:00Z</td></tr><tr><td>http://www.wikidata.org/entity/Q3549417</td><td>The Imaginary</td><td>1942-01-01T00:00:00Z</td></tr><tr><td>http://www.wikidata.org/entity/Q7062089</td><td>Not Final!</td><td>1941-10-01T00:00:00Z</td></tr><tr><td>http://www.wikidata.org/entity/Q928354</td><td>¡Embustero!</td><td>1941-05-01T00:00:00Z</td></tr><tr><td>http://www.wikidata.org/entity/Q3145079</td><td>Heredity</td><td>1941-01-01T00:00:00Z</td></tr><tr><td>http://www.wikidata.org/entity/Q3504045</td><td>Super-Neutron</td><td>1941-01-01T00:00:00Z</td></tr><tr><td>http://www.wikidata.org/entity/Q3549678</td><td>History</td><td>1941-01-01T00:00:00Z</td></tr><tr><td>http://www.wikidata.org/entity/Q7763085</td><td>The Secret Sense</td><td>1941-01-01T00:00:00Z</td></tr><tr><td>http://www.wikidata.org/entity/Q5890989</td><td>Homo Sol</td><td>1940-09-01T00:00:00Z</td></tr><tr><td>http://www.wikidata.org/entity/Q5641557</td><td>Half-Breed</td><td>1940-01-01T00:00:00Z</td></tr><tr><td>http://www.wikidata.org/entity/Q7721040</td><td>The Callistan Menace</td><td>1940-01-01T00:00:00Z</td></tr><tr><td>http://www.wikidata.org/entity/Q7749581</td><td>The Magnificent Possession</td><td>1940-01-01T00:00:00Z</td></tr><tr><td>http://www.wikidata.org/entity/Q7773994</td><td>The Weapon Too Dreadful to Use</td><td>1939-01-01T00:00:00Z</td></tr><tr><td>http://www.wikidata.org/entity/Q7838296</td><td>Trends</td><td>1939-01-01T00:00:00Z</td></tr><tr><td>http://www.wikidata.org/entity/Q368390</td><td>Serie del Imperio Galáctico</td><td></td></tr><tr><td>http://www.wikidata.org/entity/Q913482</td><td>Serie de los robots</td><td></td></tr><tr><td>http://www.wikidata.org/entity/Q3222595</td><td>Factor clave</td><td></td></tr><tr><td>http://www.wikidata.org/entity/Q110270091</td><td>Los enciclopedistas</td><td></td></tr><tr><td>http://www.wikidata.org/entity/Q7742168</td><td>The Instability</td><td></td></tr><tr><td>http://www.wikidata.org/entity/Q15917684</td><td>The Early Asimov</td><td></td></tr><tr><td>http://www.wikidata.org/entity/Q16069681</td><td>Q16069681</td><td></td></tr></tbody></table></body></html>"
   ]
  },
  {
   "cell_type": "markdown",
   "metadata": {
    "id": "Ns1O-tVx641t"
   },
   "source": [
    "### Consulta 8\n",
    "\n",
    "Asimov es sin duda un autor prolífico. ¿Cuántas obras escribió a lo largo de su vida? Vamos a considerar sólo instancias directas de [literary work (Q7725634)](https://www.wikidata.org/wiki/Q7725634)."
   ]
  },
  {
   "cell_type": "raw",
   "metadata": {},
   "source": [
    "SELECT DISTINCT(count(?book) as ?count)\n",
    "WHERE\n",
    "{\n",
    "  ?book wdt:P50 wd:Q34981; #Sacamos todas las obras de Isaac Asimov\n",
    "      wdt:P31 wd:Q7725634. #filtramos las obras  diciendo que tienen que ser instancia de literary work (Q7725634).\n",
    "   \n",
    "  SERVICE wikibase:label { bd:serviceParam wikibase:language \"[AUTO_LANGUAGE]\". }\n",
    "}"
   ]
  },
  {
   "cell_type": "markdown",
   "metadata": {},
   "source": [
    "<html><head><meta charset=\"utf-8\"></head><body><table><thead><tr><th>count</th></tr></thead><tbody><tr><td>272</td></tr></tbody></table></body></html>"
   ]
  },
  {
   "cell_type": "markdown",
   "metadata": {
    "id": "1vZp0M0p641v"
   },
   "source": [
    "### Consulta 9\n",
    "\n",
    "De todas las obras que escribió a lo largo de su vida, queremos recuperar los nombres y fechas de publicación de aquellas escritas entre 1970 y 1980. Si alguna obra tiene varias fechas de publicación, se mostrará si alguna de ellas está dentro de ese periodo.\n",
    "\n",
    "Puede que [esto](https://www.wikidata.org/wiki/Wikidata:SPARQL_tutorial#FILTER) te resulte útil."
   ]
  },
  {
   "cell_type": "raw",
   "metadata": {},
   "source": [
    "SELECT DISTINCT ?book ?bookLabel ?publicacion\n",
    "WHERE\n",
    "{\n",
    "   ?book wdt:P50 wd:Q34981; #seleccionamos todas las obras\n",
    "   {select ?book ?publicacion where{ #filtramos por las que se encuentren entra los años señalados\n",
    "     ?book wdt:P577 ?publicacion;}}\n",
    "        FILTER(?publicacion > \"1970-01-01\"^^xsd:dateTime && ?publicacion < \"1980-01-01\"^^xsd:dateTime)\n",
    "  SERVICE wikibase:label { bd:serviceParam wikibase:language \"[AUTO_LANGUAGE]\". }\n",
    "}"
   ]
  },
  {
   "cell_type": "markdown",
   "metadata": {},
   "source": [
    "<html><head><meta charset=\"utf-8\"></head><body><table><thead><tr><th>book</th><th>bookLabel</th><th>publicacion</th></tr></thead><tbody><tr><td>http://www.wikidata.org/entity/Q98137394</td><td>Q98137394</td><td>1977-06-01T00:00:00Z</td></tr><tr><td>http://www.wikidata.org/entity/Q389750</td><td>Los propios dioses</td><td>1972-01-01T00:00:00Z</td></tr><tr><td>http://www.wikidata.org/entity/Q104863301</td><td>Flug durch die Sonne</td><td>1974-07-16T00:00:00Z</td></tr><tr><td>http://www.wikidata.org/entity/Q98446165</td><td>Q98446165</td><td>1977-08-01T00:00:00Z</td></tr><tr><td>http://www.wikidata.org/entity/Q4880358</td><td>Q4880358</td><td>1974-04-01T00:00:00Z</td></tr><tr><td>http://www.wikidata.org/entity/Q465801</td><td>Q465801</td><td>1973-01-01T00:00:00Z</td></tr><tr><td>http://www.wikidata.org/entity/Q21086887</td><td>En la memoria todavía verde</td><td>1979-01-01T00:00:00Z</td></tr><tr><td>http://www.wikidata.org/entity/Q603705</td><td>Q603705</td><td>1974-05-01T00:00:00Z</td></tr><tr><td>http://www.wikidata.org/entity/Q651225</td><td>Q651225</td><td>1975-01-01T00:00:00Z</td></tr><tr><td>http://www.wikidata.org/entity/Q661438</td><td>Q661438</td><td>1976-01-01T00:00:00Z</td></tr><tr><td>http://www.wikidata.org/entity/Q468132</td><td>El hombre bicentenario</td><td>1976-02-01T00:00:00Z</td></tr><tr><td>http://www.wikidata.org/entity/Q831520</td><td>Q831520</td><td>1974-01-01T00:00:00Z</td></tr><tr><td>http://www.wikidata.org/entity/Q831807</td><td>Q831807</td><td>1976-01-01T00:00:00Z</td></tr><tr><td>http://www.wikidata.org/entity/Q23307057</td><td>Q23307057</td><td>1973-01-01T00:00:00Z</td></tr><tr><td>http://www.wikidata.org/entity/Q832023</td><td>Q832023</td><td>1977-01-01T00:00:00Z</td></tr><tr><td>http://www.wikidata.org/entity/Q5582966</td><td>Q5582966</td><td>1976-01-01T00:00:00Z</td></tr><tr><td>http://www.wikidata.org/entity/Q831493</td><td>Amor verdadero</td><td>1977-01-01T00:00:00Z</td></tr><tr><td>http://www.wikidata.org/entity/Q55172458</td><td>Q55172458</td><td>1972-01-01T00:00:00Z</td></tr><tr><td>http://www.wikidata.org/entity/Q6404541</td><td>Q6404541</td><td>1972-01-01T00:00:00Z</td></tr><tr><td>http://www.wikidata.org/entity/Q28808642</td><td>Q28808642</td><td>1970-05-01T00:00:00Z</td></tr><tr><td>http://www.wikidata.org/entity/Q28703405</td><td>Q28703405</td><td>1977-01-01T00:00:00Z</td></tr><tr><td>http://www.wikidata.org/entity/Q98829663</td><td>Introducción a la ciencia</td><td>1972-01-01T00:00:00Z</td></tr><tr><td>http://www.wikidata.org/entity/Q104868766</td><td>Q104868766</td><td>1973-03-16T00:00:00Z</td></tr><tr><td>http://www.wikidata.org/entity/Q104868864</td><td>Q104868864</td><td>1973-04-13T00:00:00Z</td></tr><tr><td>http://www.wikidata.org/entity/Q104868972</td><td>Q104868972</td><td>1973-05-11T00:00:00Z</td></tr><tr><td>http://www.wikidata.org/entity/Q6511577</td><td>Q6511577</td><td>1975-01-01T00:00:00Z</td></tr><tr><td>http://www.wikidata.org/entity/Q104865083</td><td>Q104865083</td><td>1974-06-18T00:00:00Z</td></tr><tr><td>http://www.wikidata.org/entity/Q28808617</td><td>Q28808617</td><td>1977-01-01T00:00:00Z</td></tr><tr><td>http://www.wikidata.org/entity/Q104869051</td><td>Q104869051</td><td>1974-10-08T00:00:00Z</td></tr><tr><td>http://www.wikidata.org/entity/Q28808677</td><td>Q28808677</td><td>1979-02-01T00:00:00Z</td></tr><tr><td>http://www.wikidata.org/entity/Q2277195</td><td>Q2277195</td><td>1972-01-01T00:00:00Z</td></tr><tr><td>http://www.wikidata.org/entity/Q2263364</td><td>Q2263364</td><td>1973-01-01T00:00:00Z</td></tr><tr><td>http://www.wikidata.org/entity/Q60412707</td><td>Q60412707</td><td>1973-01-01T00:00:00Z</td></tr><tr><td>http://www.wikidata.org/entity/Q60378709</td><td>Q60378709</td><td>1976-01-01T00:00:00Z</td></tr><tr><td>http://www.wikidata.org/entity/Q60382690</td><td>Q60382690</td><td>1977-01-01T00:00:00Z</td></tr><tr><td>http://www.wikidata.org/entity/Q60379682</td><td>Q60379682</td><td>1978-01-01T00:00:00Z</td></tr><tr><td>http://www.wikidata.org/entity/Q2398251</td><td>Q2398251</td><td>1976-01-01T00:00:00Z</td></tr><tr><td>http://www.wikidata.org/entity/Q60415848</td><td>Q60415848</td><td>1979-01-01T00:00:00Z</td></tr><tr><td>http://www.wikidata.org/entity/Q2621546</td><td>Q2621546</td><td>1975-01-01T00:00:00Z</td></tr><tr><td>http://www.wikidata.org/entity/Q2712561</td><td>Q2712561</td><td>1974-01-01T00:00:00Z</td></tr><tr><td>http://www.wikidata.org/entity/Q16068755</td><td>Q16068755</td><td>1976-01-01T00:00:00Z</td></tr><tr><td>http://www.wikidata.org/entity/Q7269416</td><td>Q7269416</td><td>1978-01-01T00:00:00Z</td></tr><tr><td>http://www.wikidata.org/entity/Q2932353</td><td>Q2932353</td><td>1976-01-01T00:00:00Z</td></tr><tr><td>http://www.wikidata.org/entity/Q3074710</td><td>Q3074710</td><td>1975-01-01T00:00:00Z</td></tr><tr><td>http://www.wikidata.org/entity/Q7677898</td><td>Q7677898</td><td>1972-01-01T00:00:00Z</td></tr><tr><td>http://www.wikidata.org/entity/Q7765145</td><td>Q7765145</td><td>1970-01-19T00:00:00Z</td></tr><tr><td>http://www.wikidata.org/entity/Q16652396</td><td>Q16652396</td><td>1972-01-01T00:00:00Z</td></tr><tr><td>http://www.wikidata.org/entity/Q7738024</td><td>Q7738024</td><td>1972-01-01T00:00:00Z</td></tr><tr><td>http://www.wikidata.org/entity/Q7746627</td><td>Q7746627</td><td>1972-01-01T00:00:00Z</td></tr><tr><td>http://www.wikidata.org/entity/Q6937708</td><td>Asesinato en la convención</td><td>1976-01-01T00:00:00Z</td></tr><tr><td>http://www.wikidata.org/entity/Q3213661</td><td>Q3213661</td><td>1975-01-01T00:00:00Z</td></tr><tr><td>http://www.wikidata.org/entity/Q3345921</td><td>Q3345921</td><td>1972-01-01T00:00:00Z</td></tr><tr><td>http://www.wikidata.org/entity/Q7744171</td><td>Q7744171</td><td>1977-01-01T00:00:00Z</td></tr><tr><td>http://www.wikidata.org/entity/Q16932955</td><td>Q16932955</td><td>1971-01-01T00:00:00Z</td></tr><tr><td>http://www.wikidata.org/entity/Q7762565</td><td>Q7762565</td><td>1979-01-01T00:00:00Z</td></tr><tr><td>http://www.wikidata.org/entity/Q16800876</td><td>Q16800876</td><td>1976-01-01T00:00:00Z</td></tr><tr><td>http://www.wikidata.org/entity/Q3524680</td><td>Q3524680</td><td>1973-01-01T00:00:00Z</td></tr><tr><td>http://www.wikidata.org/entity/Q16934361</td><td>Q16934361</td><td>1975-01-01T00:00:00Z</td></tr><tr><td>http://www.wikidata.org/entity/Q832020</td><td>Punto de vista</td><td>1975-01-01T00:00:00Z</td></tr><tr><td>http://www.wikidata.org/entity/Q16932941</td><td>Q16932941</td><td>1976-01-01T00:00:00Z</td></tr><tr><td>http://www.wikidata.org/entity/Q16932174</td><td>Q16932174</td><td>1979-01-01T00:00:00Z</td></tr><tr><td>http://www.wikidata.org/entity/Q3794635</td><td>Q3794635</td><td>1973-01-01T00:00:00Z</td></tr><tr><td>http://www.wikidata.org/entity/Q17013085</td><td>Q17013085</td><td>1979-01-01T00:00:00Z</td></tr><tr><td>http://www.wikidata.org/entity/Q831556</td><td>Mirror Image</td><td>1972-01-01T00:00:00Z</td></tr><tr><td>http://www.wikidata.org/entity/Q3663322</td><td>Q3663322</td><td>1979-01-01T00:00:00Z</td></tr><tr><td>http://www.wikidata.org/entity/Q3678790</td><td>Q3678790</td><td>1979-01-01T00:00:00Z</td></tr><tr><td>http://www.wikidata.org/entity/Q3793497</td><td>Q3793497</td><td>1977-01-01T00:00:00Z</td></tr><tr><td>http://www.wikidata.org/entity/Q3845815</td><td>Q3845815</td><td>1976-01-01T00:00:00Z</td></tr><tr><td>http://www.wikidata.org/entity/Q3870482</td><td>Q3870482</td><td>1976-01-01T00:00:00Z</td></tr><tr><td>http://www.wikidata.org/entity/Q3828767</td><td>Q3828767</td><td>1979-01-01T00:00:00Z</td></tr><tr><td>http://www.wikidata.org/entity/Q3828770</td><td>Q3828770</td><td>1979-08-01T00:00:00Z</td></tr><tr><td>http://www.wikidata.org/entity/Q3962149</td><td>Q3962149</td><td>1976-01-01T00:00:00Z</td></tr><tr><td>http://www.wikidata.org/entity/Q98141417</td><td>Q98141417</td><td>1974-01-01T00:00:00Z</td></tr><tr><td>http://www.wikidata.org/entity/Q98141420</td><td>Q98141420</td><td>1974-03-01T00:00:00Z</td></tr></tbody></table></body></html>"
   ]
  },
  {
   "cell_type": "markdown",
   "metadata": {
    "id": "OEmfnG85641y"
   },
   "source": [
    "### Consulta 10\n",
    "\n",
    "¿Qué otros escritores de ciencia ficción estudiaron en algún centro donde también estudió Asimov? Para cada uno de ellos muestra su nombre y fechas de nacimiento y defunción (si están disponibles) y el centro donde estudió. Muestra los resultados ordenados alfabéticamente por centro y luego por autor."
   ]
  },
  {
   "cell_type": "raw",
   "metadata": {},
   "source": [
    "SELECT DISTINCT ?estudios ?estudiosLabel ?escritor ?escritorLabel ?birthdate ?deathdate\n",
    "WHERE {\n",
    "  wd:Q34981 wdt:P69 ?estudios.\n",
    "  ?escritor wdt:P106 wd:Q18844224.\n",
    "  ?escritor wdt:P69 ?estudios.\n",
    "  OPTIONAL{\n",
    "    ?escritor wdt:P569 ?birthdate;\n",
    "              wdt:P570 ?deathdate.\n",
    "  }\n",
    "  SERVICE wikibase:label { bd:serviceParam wikibase:language \"[AUTO_LANGUAGE],en\". }\n",
    "}\n",
    "ORDER BY ASC (?estudiosLabel) ASC (?escritorLabel)"
   ]
  },
  {
   "cell_type": "markdown",
   "metadata": {},
   "source": [
    "<html><head><meta charset=\"utf-8\"></head><body><table><thead><tr><th>estudios</th><th>estudiosLabel</th><th>escritor</th><th>escritorLabel</th><th>birthdate</th><th>deathdate</th></tr></thead><tbody><tr><td>http://www.wikidata.org/entity/Q4952707</td><td>Boys and Girls High School</td><td>http://www.wikidata.org/entity/Q34981</td><td>Isaac Asimov</td><td>1920-01-02T00:00:00Z</td><td>1992-04-06T00:00:00Z</td></tr><tr><td>http://www.wikidata.org/entity/Q5149833</td><td>Fu Foundation School of Engineering and Applied Science</td><td>http://www.wikidata.org/entity/Q34981</td><td>Isaac Asimov</td><td>1920-01-02T00:00:00Z</td><td>1992-04-06T00:00:00Z</td></tr><tr><td>http://www.wikidata.org/entity/Q5149901</td><td>Escuela de Estudios Generales de la Universidad de Columbia</td><td>http://www.wikidata.org/entity/Q34981</td><td>Isaac Asimov</td><td>1920-01-02T00:00:00Z</td><td>1992-04-06T00:00:00Z</td></tr><tr><td>http://www.wikidata.org/entity/Q49088</td><td>Universidad de Columbia</td><td>http://www.wikidata.org/entity/Q13563168</td><td>Alaya Dawn Johnson</td><td></td><td></td></tr><tr><td>http://www.wikidata.org/entity/Q49088</td><td>Universidad de Columbia</td><td>http://www.wikidata.org/entity/Q547414</td><td>Algis Budrys</td><td>1931-01-09T00:00:00Z</td><td>2008-06-09T00:00:00Z</td></tr><tr><td>http://www.wikidata.org/entity/Q49088</td><td>Universidad de Columbia</td><td>http://www.wikidata.org/entity/Q4800570</td><td>Arthur W. Saha</td><td>1923-10-31T00:00:00Z</td><td>1999-11-19T00:00:00Z</td></tr><tr><td>http://www.wikidata.org/entity/Q49088</td><td>Universidad de Columbia</td><td>http://www.wikidata.org/entity/Q4886274</td><td>Ben Parris</td><td></td><td></td></tr><tr><td>http://www.wikidata.org/entity/Q49088</td><td>Universidad de Columbia</td><td>http://www.wikidata.org/entity/Q5233934</td><td>David G. Hartwell</td><td>1941-07-10T00:00:00Z</td><td>2016-01-20T00:00:00Z</td></tr><tr><td>http://www.wikidata.org/entity/Q49088</td><td>Universidad de Columbia</td><td>http://www.wikidata.org/entity/Q551929</td><td>David Kyle</td><td>1919-02-14T00:00:00Z</td><td>2016-09-18T00:00:00Z</td></tr><tr><td>http://www.wikidata.org/entity/Q49088</td><td>Universidad de Columbia</td><td>http://www.wikidata.org/entity/Q5294012</td><td>Donald Barr</td><td>1921-08-08T00:00:00Z</td><td>2004-02-05T00:00:00Z</td></tr><tr><td>http://www.wikidata.org/entity/Q49088</td><td>Universidad de Columbia</td><td>http://www.wikidata.org/entity/Q5297967</td><td>Doris Pitkin Buck</td><td>1898-01-03T00:00:00Z</td><td>1980-12-04T00:00:00Z</td></tr><tr><td>http://www.wikidata.org/entity/Q49088</td><td>Universidad de Columbia</td><td>http://www.wikidata.org/entity/Q1778440</td><td>Dorothy B. Hughes</td><td>1904-08-10T00:00:00Z</td><td>1993-05-06T00:00:00Z</td></tr><tr><td>http://www.wikidata.org/entity/Q49088</td><td>Universidad de Columbia</td><td>http://www.wikidata.org/entity/Q548140</td><td>Eric Temple Bell</td><td>1883-02-07T00:00:00Z</td><td>1960-12-21T00:00:00Z</td></tr><tr><td>http://www.wikidata.org/entity/Q49088</td><td>Universidad de Columbia</td><td>http://www.wikidata.org/entity/Q975994</td><td>Frank Belknap Long</td><td>1901-04-27T00:00:00Z</td><td>1994-01-03T00:00:00Z</td></tr><tr><td>http://www.wikidata.org/entity/Q49088</td><td>Universidad de Columbia</td><td>http://www.wikidata.org/entity/Q191716</td><td>Gene Roddenberry</td><td>1921-08-19T00:00:00Z</td><td>1991-10-24T00:00:00Z</td></tr><tr><td>http://www.wikidata.org/entity/Q49088</td><td>Universidad de Columbia</td><td>http://www.wikidata.org/entity/Q586776</td><td>Guy Endore</td><td>1900-07-04T00:00:00Z</td><td>1970-02-12T00:00:00Z</td></tr><tr><td>http://www.wikidata.org/entity/Q49088</td><td>Universidad de Columbia</td><td>http://www.wikidata.org/entity/Q42532824</td><td>Harvey Jacobs</td><td>1930-01-07T00:00:00Z</td><td>2017-09-23T00:00:00Z</td></tr><tr><td>http://www.wikidata.org/entity/Q49088</td><td>Universidad de Columbia</td><td>http://www.wikidata.org/entity/Q42532824</td><td>Harvey Jacobs</td><td>1930-01-07T00:00:00Z</td><td>2017-09-24T00:00:00Z</td></tr><tr><td>http://www.wikidata.org/entity/Q49088</td><td>Universidad de Columbia</td><td>http://www.wikidata.org/entity/Q3133477</td><td>Herbert Lieberman</td><td></td><td></td></tr><tr><td>http://www.wikidata.org/entity/Q49088</td><td>Universidad de Columbia</td><td>http://www.wikidata.org/entity/Q49072</td><td>Herman Wouk</td><td>1915-05-27T00:00:00Z</td><td>2019-05-17T00:00:00Z</td></tr><tr><td>http://www.wikidata.org/entity/Q49088</td><td>Universidad de Columbia</td><td>http://www.wikidata.org/entity/Q34981</td><td>Isaac Asimov</td><td>1920-01-02T00:00:00Z</td><td>1992-04-06T00:00:00Z</td></tr><tr><td>http://www.wikidata.org/entity/Q49088</td><td>Universidad de Columbia</td><td>http://www.wikidata.org/entity/Q248867</td><td>James Blish</td><td>1921-05-23T00:00:00Z</td><td>1975-07-30T00:00:00Z</td></tr><tr><td>http://www.wikidata.org/entity/Q49088</td><td>Universidad de Columbia</td><td>http://www.wikidata.org/entity/Q1339641</td><td>Jerry Robinson</td><td>1922-01-01T00:00:00Z</td><td>2011-12-07T00:00:00Z</td></tr><tr><td>http://www.wikidata.org/entity/Q49088</td><td>Universidad de Columbia</td><td>http://www.wikidata.org/entity/Q6273080</td><td>Jonathan Fast</td><td></td><td></td></tr><tr><td>http://www.wikidata.org/entity/Q49088</td><td>Universidad de Columbia</td><td>http://www.wikidata.org/entity/Q6285448</td><td>Joseph McElroy</td><td></td><td></td></tr><tr><td>http://www.wikidata.org/entity/Q49088</td><td>Universidad de Columbia</td><td>http://www.wikidata.org/entity/Q1190926</td><td>Kelly Link</td><td></td><td></td></tr><tr><td>http://www.wikidata.org/entity/Q49088</td><td>Universidad de Columbia</td><td>http://www.wikidata.org/entity/Q16876066</td><td>Kira Peikoff</td><td></td><td></td></tr><tr><td>http://www.wikidata.org/entity/Q49088</td><td>Universidad de Columbia</td><td>http://www.wikidata.org/entity/Q15130709</td><td>Leon Stover</td><td>1929-01-01T00:00:00Z</td><td>2006-01-01T00:00:00Z</td></tr><tr><td>http://www.wikidata.org/entity/Q49088</td><td>Universidad de Columbia</td><td>http://www.wikidata.org/entity/Q1248054</td><td>Lin Carter</td><td>1930-06-09T00:00:00Z</td><td>1988-02-07T00:00:00Z</td></tr><tr><td>http://www.wikidata.org/entity/Q49088</td><td>Universidad de Columbia</td><td>http://www.wikidata.org/entity/Q6685347</td><td>Lou Antonelli</td><td>1957-01-06T00:00:00Z</td><td>2021-10-06T00:00:00Z</td></tr><tr><td>http://www.wikidata.org/entity/Q49088</td><td>Universidad de Columbia</td><td>http://www.wikidata.org/entity/Q1981210</td><td>Manly Wade Wellman</td><td>1903-05-21T00:00:00Z</td><td>1986-04-05T00:00:00Z</td></tr><tr><td>http://www.wikidata.org/entity/Q49088</td><td>Universidad de Columbia</td><td>http://www.wikidata.org/entity/Q6880807</td><td>Mitch Berman</td><td></td><td></td></tr><tr><td>http://www.wikidata.org/entity/Q49088</td><td>Universidad de Columbia</td><td>http://www.wikidata.org/entity/Q242643</td><td>Naomi Novik</td><td></td><td></td></tr><tr><td>http://www.wikidata.org/entity/Q49088</td><td>Universidad de Columbia</td><td>http://www.wikidata.org/entity/Q17612028</td><td>Peter Fisher</td><td>1944-05-19T00:00:00Z</td><td>2012-07-10T00:00:00Z</td></tr><tr><td>http://www.wikidata.org/entity/Q49088</td><td>Universidad de Columbia</td><td>http://www.wikidata.org/entity/Q364189</td><td>Peter Straub</td><td></td><td></td></tr><tr><td>http://www.wikidata.org/entity/Q49088</td><td>Universidad de Columbia</td><td>http://www.wikidata.org/entity/Q709368</td><td>Rick Moody</td><td></td><td></td></tr><tr><td>http://www.wikidata.org/entity/Q49088</td><td>Universidad de Columbia</td><td>http://www.wikidata.org/entity/Q314553</td><td>Robert Silverberg</td><td></td><td></td></tr><tr><td>http://www.wikidata.org/entity/Q49088</td><td>Universidad de Columbia</td><td>http://www.wikidata.org/entity/Q12739454</td><td>Robert Tine</td><td>1955-01-01T00:00:00Z</td><td>2019-02-22T00:00:00Z</td></tr><tr><td>http://www.wikidata.org/entity/Q49088</td><td>Universidad de Columbia</td><td>http://www.wikidata.org/entity/Q352059</td><td>Robin Cook</td><td></td><td></td></tr><tr><td>http://www.wikidata.org/entity/Q49088</td><td>Universidad de Columbia</td><td>http://www.wikidata.org/entity/Q295406</td><td>Roger Zelazny</td><td>1937-05-13T00:00:00Z</td><td>1995-06-14T00:00:00Z</td></tr><tr><td>http://www.wikidata.org/entity/Q49088</td><td>Universidad de Columbia</td><td>http://www.wikidata.org/entity/Q16025138</td><td>Sterling Noel</td><td>1903-03-28T00:00:00Z</td><td>1984-11-09T00:00:00Z</td></tr><tr><td>http://www.wikidata.org/entity/Q49088</td><td>Universidad de Columbia</td><td>http://www.wikidata.org/entity/Q1353956</td><td>Thomas Berger</td><td>1924-07-20T00:00:00Z</td><td>2014-07-13T00:00:00Z</td></tr><tr><td>http://www.wikidata.org/entity/Q49088</td><td>Universidad de Columbia</td><td>http://www.wikidata.org/entity/Q181659</td><td>Ursula K. Le Guin</td><td>1929-10-21T00:00:00Z</td><td>2018-01-22T00:00:00Z</td></tr><tr><td>http://www.wikidata.org/entity/Q49088</td><td>Universidad de Columbia</td><td>http://www.wikidata.org/entity/Q7926078</td><td>Victor LaValle</td><td></td><td></td></tr></tbody></table></body></html>"
   ]
  },
  {
   "cell_type": "markdown",
   "metadata": {
    "id": "cN4i-x3p6411"
   },
   "source": [
    "### Consulta 11\n",
    "\n",
    "¿Cuántos asertos hay sobre Asimov en Wikidata? Ten en cuenta que Asimov puede aparece tanto como sujeto como objeto de cada tripleta."
   ]
  },
  {
   "cell_type": "raw",
   "metadata": {},
   "source": [
    "SELECT (COUNT(*) as ?cuenta) # Usaremos COUNT que nos dara el numero de filas obtenidas en la subconsulta que nos da el                                    numero de peliculas en las que Hans a participado como compositor\n",
    "WHERE {\n",
    "    SELECT DISTINCT ?aLabel ?bLabel ?b ?a \n",
    "    WHERE {\n",
    "      { wd:Q76364 ?a      ?b }       # Seleccionamos todos los asertos de Wikidata con Isaac de sujeto\n",
    "      UNION                          # Y lo unimos a \n",
    "      { ?a        ?b      wd:Q34981} # Todos los asertos en los que Isaac aparece como objeto\n",
    "  \n",
    "      SERVICE wikibase:label { bd:serviceParam wikibase:language \"[AUTO_LANGUAGE],en\". }\n",
    "    }\n",
    "}"
   ]
  },
  {
   "cell_type": "markdown",
   "metadata": {},
   "source": [
    "<html><head><meta charset=\"utf-8\"></head><body><table><thead><tr><th>cuenta</th></tr></thead><tbody><tr><td>2049</td></tr></tbody></table></body></html>"
   ]
  },
  {
   "cell_type": "markdown",
   "metadata": {
    "id": "Z9rexjoF6414"
   },
   "source": [
    "__Fecha de las consultas: 2 de mayo de 2022__"
   ]
  },
  {
   "cell_type": "code",
   "execution_count": null,
   "metadata": {},
   "outputs": [],
   "source": []
  }
 ],
 "metadata": {
  "colab": {
   "name": "P1_sparql_enunciado.ipynb",
   "provenance": []
  },
  "kernelspec": {
   "display_name": "Python 3 (ipykernel)",
   "language": "python",
   "name": "python3"
  },
  "language_info": {
   "codemirror_mode": {
    "name": "ipython",
    "version": 3
   },
   "file_extension": ".py",
   "mimetype": "text/x-python",
   "name": "python",
   "nbconvert_exporter": "python",
   "pygments_lexer": "ipython3",
   "version": "3.9.7"
  }
 },
 "nbformat": 4,
 "nbformat_minor": 1
}
