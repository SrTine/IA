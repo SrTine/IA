{
 "cells": [
  {
   "cell_type": "markdown",
   "metadata": {},
   "source": [
    "# Práctica 2: Procesamiento del Lenguaje Natural\n",
    "\n",
    "__Fecha de entrega: 17 de abril de 2022__\n",
    "\n",
    "El objetivo de esta práctica es aplicar los conceptos teóricos vistos en clase en el módulo de PLN. La práctica consta de 2 notebooks que se entregarán simultáneamente en la tarea de entrega habilitada en el Campus  Virtual.\n",
    "\n",
    "Lo más importante en esta práctica no es el código Python, sino el análisis de los datos y modelos que construyas y las explicaciones razonadas de cada una de las decisiones que tomes. __No se valorarán trozos de código o gráficas sin ningún tipo de contexto o explicación__.\n",
    "\n",
    "Finalmente, recuerda establecer el parámetro `random_state` en todas las funciones que tomen decisiones aleatorias para que los resultados sean reproducibles (los resultados no varíen entre ejecuciones)."
   ]
  },
  {
   "cell_type": "code",
   "execution_count": 1,
   "metadata": {},
   "outputs": [],
   "source": [
    "RANDOM_STATE = 10"
   ]
  },
  {
   "cell_type": "markdown",
   "metadata": {},
   "source": [
    "# Apartado 1: Clasificador de noticias"
   ]
  },
  {
   "cell_type": "markdown",
   "metadata": {},
   "source": [
    "__Número de grupo: 5__\n",
    "\n",
    "__Nombres de los estudiantes: Jorge Villacorta y Pablo Martinez__"
   ]
  },
  {
   "cell_type": "markdown",
   "metadata": {},
   "source": [
    "## 1) Carga del conjunto de datos\n",
    "\n",
    "El fichero `BBC News.csv` contiene noticias clasificadas en 5 categorías diferentes. \n",
    "\n",
    "Carga los datos en un dataframe teniendo en cuenta que la columna `ArticleId` es un identificador de la noticia y por lo tanto no debes usarlo para clasificar. \n",
    "\n",
    "Estudia el tamaño del conjunto de datos y la proporción de noticias que pertenecen a cada una de las categorías. Indica si debemos tenerlo en cuenta de alguna forma al analizar los modelos que construyamos.\n",
    "\n",
    "Muestra un mensaje cualquiera y explica si lo habrías clasificado en la clase correcta tras leerlo.\n",
    "\n",
    "Crea una partición de los datos dejando el 80% para entrenamiento y el 20% restante para test usando la función `train_test_split` de sklearn. "
   ]
  },
  {
   "cell_type": "markdown",
   "metadata": {},
   "source": [
    "#### Cargamos los datos en un dataFrame"
   ]
  },
  {
   "cell_type": "code",
   "execution_count": 2,
   "metadata": {},
   "outputs": [],
   "source": [
    "import matplotlib.pyplot as plt\n",
    "import pandas as pd\n",
    "import numpy as np"
   ]
  },
  {
   "cell_type": "code",
   "execution_count": 3,
   "metadata": {
    "scrolled": false
   },
   "outputs": [
    {
     "data": {
      "text/html": [
       "<div>\n",
       "<style scoped>\n",
       "    .dataframe tbody tr th:only-of-type {\n",
       "        vertical-align: middle;\n",
       "    }\n",
       "\n",
       "    .dataframe tbody tr th {\n",
       "        vertical-align: top;\n",
       "    }\n",
       "\n",
       "    .dataframe thead th {\n",
       "        text-align: right;\n",
       "    }\n",
       "</style>\n",
       "<table border=\"1\" class=\"dataframe\">\n",
       "  <thead>\n",
       "    <tr style=\"text-align: right;\">\n",
       "      <th></th>\n",
       "      <th>Text</th>\n",
       "      <th>Category</th>\n",
       "    </tr>\n",
       "  </thead>\n",
       "  <tbody>\n",
       "    <tr>\n",
       "      <th>0</th>\n",
       "      <td>worldcom ex-boss launches defence lawyers defe...</td>\n",
       "      <td>business</td>\n",
       "    </tr>\n",
       "    <tr>\n",
       "      <th>1</th>\n",
       "      <td>german business confidence slides german busin...</td>\n",
       "      <td>business</td>\n",
       "    </tr>\n",
       "    <tr>\n",
       "      <th>2</th>\n",
       "      <td>bbc poll indicates economic gloom citizens in ...</td>\n",
       "      <td>business</td>\n",
       "    </tr>\n",
       "    <tr>\n",
       "      <th>3</th>\n",
       "      <td>lifestyle  governs mobile choice  faster  bett...</td>\n",
       "      <td>tech</td>\n",
       "    </tr>\n",
       "    <tr>\n",
       "      <th>4</th>\n",
       "      <td>enron bosses in $168m payout eighteen former e...</td>\n",
       "      <td>business</td>\n",
       "    </tr>\n",
       "    <tr>\n",
       "      <th>...</th>\n",
       "      <td>...</td>\n",
       "      <td>...</td>\n",
       "    </tr>\n",
       "    <tr>\n",
       "      <th>1485</th>\n",
       "      <td>double eviction from big brother model caprice...</td>\n",
       "      <td>entertainment</td>\n",
       "    </tr>\n",
       "    <tr>\n",
       "      <th>1486</th>\n",
       "      <td>dj double act revamp chart show dj duo jk and ...</td>\n",
       "      <td>entertainment</td>\n",
       "    </tr>\n",
       "    <tr>\n",
       "      <th>1487</th>\n",
       "      <td>weak dollar hits reuters revenues at media gro...</td>\n",
       "      <td>business</td>\n",
       "    </tr>\n",
       "    <tr>\n",
       "      <th>1488</th>\n",
       "      <td>apple ipod family expands market apple has exp...</td>\n",
       "      <td>tech</td>\n",
       "    </tr>\n",
       "    <tr>\n",
       "      <th>1489</th>\n",
       "      <td>santy worm makes unwelcome visit thousands of ...</td>\n",
       "      <td>tech</td>\n",
       "    </tr>\n",
       "  </tbody>\n",
       "</table>\n",
       "<p>1490 rows × 2 columns</p>\n",
       "</div>"
      ],
      "text/plain": [
       "                                                   Text       Category\n",
       "0     worldcom ex-boss launches defence lawyers defe...       business\n",
       "1     german business confidence slides german busin...       business\n",
       "2     bbc poll indicates economic gloom citizens in ...       business\n",
       "3     lifestyle  governs mobile choice  faster  bett...           tech\n",
       "4     enron bosses in $168m payout eighteen former e...       business\n",
       "...                                                 ...            ...\n",
       "1485  double eviction from big brother model caprice...  entertainment\n",
       "1486  dj double act revamp chart show dj duo jk and ...  entertainment\n",
       "1487  weak dollar hits reuters revenues at media gro...       business\n",
       "1488  apple ipod family expands market apple has exp...           tech\n",
       "1489  santy worm makes unwelcome visit thousands of ...           tech\n",
       "\n",
       "[1490 rows x 2 columns]"
      ]
     },
     "execution_count": 3,
     "metadata": {},
     "output_type": "execute_result"
    }
   ],
   "source": [
    "df = pd.read_csv('BBC News.csv')\n",
    "df = pd.DataFrame(df, columns= ['Text','Category'])\n",
    "\n",
    "df"
   ]
  },
  {
   "cell_type": "markdown",
   "metadata": {},
   "source": [
    "#### Muestra un mensaje cualquiera y explica si lo habrías clasificado en la clase correcta tras leerlo."
   ]
  },
  {
   "cell_type": "code",
   "execution_count": 4,
   "metadata": {
    "scrolled": false
   },
   "outputs": [
    {
     "name": "stdout",
     "output_type": "stream",
     "text": [
      "                                                  Text Category\n",
      "666  nuclear body seeks new tech the computer syste...     tech\n"
     ]
    }
   ],
   "source": [
    "print(df.loc[[666]])"
   ]
  },
  {
   "cell_type": "code",
   "execution_count": 5,
   "metadata": {},
   "outputs": [
    {
     "name": "stdout",
     "output_type": "stream",
     "text": [
      "                                                  Text  Category\n",
      "999  brewers  profits lose their fizz heineken and ...  business\n"
     ]
    }
   ],
   "source": [
    "print(df.loc[[999]])"
   ]
  },
  {
   "cell_type": "code",
   "execution_count": 6,
   "metadata": {},
   "outputs": [
    {
     "name": "stdout",
     "output_type": "stream",
     "text": [
      "                                                  Text       Category\n",
      "333  eminem beats elvis to number one rapper eminem...  entertainment\n"
     ]
    }
   ],
   "source": [
    "print(df.loc[[333]])"
   ]
  },
  {
   "cell_type": "markdown",
   "metadata": {},
   "source": [
    "Como podemos ver en las tres consultas aleatorias, los mensajes pertenecen a ctegorias diferentes entre sí, y si podemos distinguir palabras claves que nos den pie a categorizarlas en la clase a la que pertenecen, como por ejemplo las palabras \"tech\" y \"computer\" para asociar el texto a la categoria de tecnología, las palabras \"profits\" y \"fizz\" para asociar el texto a la categoria de negocios y las palabras \"beats\" y \"rapper eminen\" para asociar el  texto a la categoria de entretenimiento. \n",
    "\n",
    "Luego, se puede clasificar fácilmente los textos de manera genérica en la categoria a la que pertenecen."
   ]
  },
  {
   "cell_type": "markdown",
   "metadata": {},
   "source": [
    "#### Análisis de los datos en categorías"
   ]
  },
  {
   "cell_type": "code",
   "execution_count": 7,
   "metadata": {},
   "outputs": [
    {
     "data": {
      "text/plain": [
       "sport            346\n",
       "business         336\n",
       "politics         274\n",
       "entertainment    273\n",
       "tech             261\n",
       "Name: Category, dtype: int64"
      ]
     },
     "execution_count": 7,
     "metadata": {},
     "output_type": "execute_result"
    }
   ],
   "source": [
    "df['Category'].value_counts()"
   ]
  },
  {
   "cell_type": "code",
   "execution_count": 8,
   "metadata": {},
   "outputs": [
    {
     "data": {
      "text/plain": [
       "<AxesSubplot:ylabel='Category'>"
      ]
     },
     "execution_count": 8,
     "metadata": {},
     "output_type": "execute_result"
    },
    {
     "data": {
      "image/png": "[encoded data removed]",
      "text/plain": [
       "<Figure size 432x288 with 1 Axes>"
      ]
     },
     "metadata": {},
     "output_type": "display_data"
    }
   ],
   "source": [
    "df['Category'].value_counts().plot.pie()"
   ]
  },
  {
   "cell_type": "markdown",
   "metadata": {},
   "source": [
    "Como podemos observar en la gráficas, todas las categorias tiene mas o menos el mismo tamaño, lo cual nos permitira realizar una clasificación equilibrada, ya que hay mas o menos el mismo número de noticias de cada categoria (23% de las noticias pertenecen a la categoría \"sport\" y el 17,5% de las noticias pertenecen a \"tech\", habiendo una diferencia del 5,5% entre la categoría mas recurrente y la menos recurrente)."
   ]
  },
  {
   "cell_type": "markdown",
   "metadata": {},
   "source": [
    "#### Creacción de las particiones"
   ]
  },
  {
   "cell_type": "code",
   "execution_count": 9,
   "metadata": {},
   "outputs": [],
   "source": [
    "from sklearn.model_selection import train_test_split"
   ]
  },
  {
   "cell_type": "code",
   "execution_count": 10,
   "metadata": {},
   "outputs": [
    {
     "name": "stdout",
     "output_type": "stream",
     "text": [
      "                                                   Text       Category\n",
      "0     ferguson rues failure to cut gap boss sir alex...          sport\n",
      "1     levy takes whitbread novel prize orange prize ...  entertainment\n",
      "2     super size me wins writers  award super size m...  entertainment\n",
      "3     irish finish with home game republic of irelan...          sport\n",
      "4     irish markets reach all-time high irish shares...       business\n",
      "...                                                 ...            ...\n",
      "1187  ring of fire hit co-writer dies merle kilgore ...  entertainment\n",
      "1188  gadget show heralds mp3 christmas partners of ...           tech\n",
      "1189  navratilova hits out at critics martina navrat...          sport\n",
      "1190  milburn defends poster campaign labour s elect...       politics\n",
      "1191  eminem secret gig venue revealed rapper eminem...  entertainment\n",
      "\n",
      "[1192 rows x 2 columns]\n",
      "                                                  Text       Category\n",
      "0    holmes feted with further honour double olympi...          sport\n",
      "1    gerrard happy at anfield liverpool captain ste...          sport\n",
      "2    iranian mps threaten mobile deal turkey s bigg...       business\n",
      "3    jp morgan admits us slavery links thousands of...       business\n",
      "4    spike lee backs student directors film-maker s...  entertainment\n",
      "..                                                 ...            ...\n",
      "293  podcasts mark rise of diy radio an apple ipod ...           tech\n",
      "294  microsoft sets sights on spyware windows users...           tech\n",
      "295  candidate resigns over bnp link a prospective ...       politics\n",
      "296  mci shareholder sues to stop bid a shareholder...       business\n",
      "297  strachan turns down pompey former southampton ...          sport\n",
      "\n",
      "[298 rows x 2 columns]\n"
     ]
    }
   ],
   "source": [
    "#80% para entrenamiento y el 20% restante para test\n",
    "#X = df.loc[:, df.columns != 'Category'].copy()\n",
    "#y = df['Category'].copy()\n",
    "\n",
    "train_data, test_data = train_test_split(df, test_size=0.2, random_state=RANDOM_STATE)\n",
    "\n",
    "aux = {'Text': train_data.Text.tolist(),\n",
    "       'Category': train_data.Category.tolist()}\n",
    "\n",
    "train_data = pd.DataFrame(aux, columns= ['Text','Category'])\n",
    "\n",
    "aux = {'Text': test_data.Text.tolist(),\n",
    "       'Category': test_data.Category.tolist()}\n",
    "\n",
    "test_data = pd.DataFrame(aux, columns= ['Text','Category'])\n",
    "\n",
    "\n",
    "print(train_data)\n",
    "print(test_data)"
   ]
  },
  {
   "cell_type": "markdown",
   "metadata": {},
   "source": [
    "## 2) Representación basada en bolsa de palabras y frecuencia de aparición\n",
    "\n",
    "La primera vectorización que vamos a usar representará los mensajes usando el modelo de bolsa de palabras, monogramas y la frecuencia de aparición de cada palabra. Usa como _stop words_ las que vienen configuradas por defecto para el inglés.\n",
    "\n",
    "Aplica la vectorización a los conjuntos de mensajes de entrenamiento y test. Muestra algún mensaje tanto en su formato de texto original como en la versión vectorizada. ¿Qué palabras se han eliminado y por qué?\n",
    "\n",
    "Entrena un clasificador Naive Bayes Multinomial y calcula su tasa de aciertos sobre el conjunto de entrenamiento y el conjunto de test. A continuación calcula los valores de precisión, exhaustividad y puntuación F1 para cada una de las clases. Dibuja la matriz de confusión. Analiza los resultados obtenidos.\n",
    "\n",
    "A continuación, entrena un clasificador k-NN con la configuración por defecto y usando la misma vectorización. Analiza los resultados, ¿a qué crees que se deben?"
   ]
  },
  {
   "cell_type": "code",
   "execution_count": 11,
   "metadata": {},
   "outputs": [],
   "source": [
    "from sklearn.feature_extraction.text import CountVectorizer"
   ]
  },
  {
   "cell_type": "markdown",
   "metadata": {},
   "source": [
    "### Vectorización de los conjuntos de entrenamiento y test"
   ]
  },
  {
   "cell_type": "code",
   "execution_count": 12,
   "metadata": {},
   "outputs": [
    {
     "name": "stdout",
     "output_type": "stream",
     "text": [
      "  (0, 9036)\t3\n",
      "  (0, 12429)\t3\n",
      "  (0, 17410)\t4\n",
      "  (0, 20051)\t1\n",
      "  (0, 12435)\t1\n",
      "  (0, 11297)\t2\n",
      "  (0, 22069)\t4\n",
      "  (0, 2400)\t1\n",
      "  (0, 21941)\t1\n",
      "  (0, 1)\t1\n",
      "  (0, 11072)\t1\n",
      "  (0, 1845)\t1\n",
      "  (0, 2659)\t1\n",
      "  (0, 17932)\t2\n",
      "  (0, 4114)\t1\n",
      "  (0, 11188)\t1\n",
      "  (0, 10446)\t1\n",
      "  (0, 9563)\t1\n",
      "  (0, 16772)\t1\n",
      "  (0, 18734)\t1\n",
      "  (0, 1844)\t1\n",
      "  (0, 5809)\t1\n",
      "  (0, 1495)\t1\n",
      "  (0, 9831)\t1\n",
      "  (0, 94)\t1\n",
      "  :\t:\n",
      "  (0, 12894)\t1\n",
      "  (0, 18440)\t1\n",
      "  (0, 17705)\t1\n",
      "  (0, 11603)\t1\n",
      "  (0, 15569)\t1\n",
      "  (0, 5661)\t1\n",
      "  (0, 11604)\t1\n",
      "  (0, 5404)\t1\n",
      "  (0, 5128)\t1\n",
      "  (0, 21297)\t1\n",
      "  (0, 16440)\t1\n",
      "  (0, 445)\t1\n",
      "  (0, 18018)\t1\n",
      "  (0, 7474)\t1\n",
      "  (0, 1040)\t1\n",
      "  (0, 7132)\t1\n",
      "  (0, 4104)\t1\n",
      "  (0, 10102)\t1\n",
      "  (0, 14228)\t1\n",
      "  (0, 11417)\t2\n",
      "  (0, 18727)\t1\n",
      "  (0, 8848)\t1\n",
      "  (0, 14610)\t1\n",
      "  (0, 13422)\t3\n",
      "  (0, 2569)\t1\n"
     ]
    }
   ],
   "source": [
    "# Utilizamos como stop_words las que vienen configuradas por defecto para el inglés\n",
    "vectorizer = CountVectorizer(stop_words='english', binary=False,ngram_range=(1,1))\n",
    "\n",
    "train_vector_data=vectorizer.fit_transform(train_data['Text'])\n",
    "\n",
    "print(train_vector_data[100])"
   ]
  },
  {
   "cell_type": "code",
   "execution_count": 13,
   "metadata": {},
   "outputs": [
    {
     "name": "stdout",
     "output_type": "stream",
     "text": [
      "22180\n"
     ]
    }
   ],
   "source": [
    "## Extraemos las palabras de nuestro vector de palabras\n",
    "feature_names = vectorizer.get_feature_names ()\n",
    "print(len(feature_names))"
   ]
  },
  {
   "cell_type": "markdown",
   "metadata": {},
   "source": [
    "El vocabulario consta de mas de 22000 palabras"
   ]
  },
  {
   "cell_type": "markdown",
   "metadata": {},
   "source": [
    "Echamos un vistazo a varias secciones del vocabulario para hacernos una idea de como son las palabras del mismo"
   ]
  },
  {
   "cell_type": "code",
   "execution_count": 14,
   "metadata": {},
   "outputs": [
    {
     "name": "stdout",
     "output_type": "stream",
     "text": [
      "['00', '000', '0001', '000bn', '000m', '000th', '001', '001and', '001st', '0051', '007', '01', '0100', '0130', '028', '03', '04', '041', '04bn', '04secs', '05', '050', '050505', '0530', '0530gmt', '056', '05bn', '06', '060', '0630', '069', '07', '0700', '0710', '072', '0730', '08', '080', '0800', '0870', '088', '09', '0900', '093', '0950', '09bn', '09secs', '10', '100', '1000m', '1000th', '100bn', '100m', '100ml', '101', '102', '103', '104', '105', '105bn', '105m', '106', '106m', '107', '108', '10bn', '10ft', '10m', '10secs', '10th', '11', '110', '1100', '110m', '110th', '111', '111m', '112', '113', '1130', '1130p', '113bn', '115', '116', '116i', '117', '118', '119', '119bn', '119m', '11bn', '11m', '11pm', '11th', '12', '120', '1200', '1200m', '120gb', '120m'] \n",
      "\n",
      "['item', 'items', 'iterated', 'itf', 'itn', 'itpc', 'itrec', 'itunes', 'itv', 'itv1', 'itx', 'iv', 'ivan', 'ivankoe', 'ivanovic', 'iveta', 'ivo', 'ivory', 'iwata', 'ixis', 'iyad', 'jack', 'jackal', 'jackass', 'jacket', 'jackets', 'jackie', 'jackman', 'jackpot', 'jackson', 'jacob', 'jacoba', 'jacqueline', 'jacques', 'jacqui', 'jada', 'jadakiss', 'jade', 'jaded', 'jagger', 'jagran', 'jail', 'jailed', 'jailhouse', 'jailing', 'jailings', 'jails', 'jaime', 'jain', 'jak', 'jakamoko', 'jakarta', 'jake', 'jakob', 'jakobi', 'jal', 'jam', 'jama', 'jamaica', 'jamaican', 'jamelia', 'james', 'jameson', 'jamie', 'jamieson', 'jan', 'jane', 'janeiro', 'janet', 'janie', 'janine', 'jankovic', 'january', 'janus', 'japan', 'japanese', 'jarosik', 'jarvis', 'jaschen', 'jaslyn', 'jason', 'jauregi', 'jauzion', 'java', 'javelin', 'javier', 'jaw', 'jaws', 'jaxx', 'jay', 'jayne', 'jays', 'jazeera', 'jazz', 'jcwi', 'jd', 'jealous', 'jean', 'jeanette', 'jeanne'] \n",
      "\n",
      "['yeovil', 'yepp', 'yes', 'yesterday', 'yesteryear', 'yetunde', 'yh', 'yielded', 'yimou', 'ym', 'yob', 'yobo', 'yoda', 'yoffi', 'yolande', 'yonca', 'yoo', 'york', 'yorker', 'yorks', 'yorkshire', 'yoshiaki', 'yoshifumi', 'yougov', 'young', 'younger', 'youngest', 'youngster', 'youngsters', 'youssou', 'youth', 'youths', 'yoxall', 'yuan', 'yue', 'yuganksneftegas', 'yugansk', 'yuganskneftegas', 'yuganskneftegaz', 'yuganskneftgas', 'yugoslavia', 'yukon', 'yukos', 'yulia', 'yungmin', 'yuppy', 'yuri', 'yury', 'yushchenko', 'yusuf', 'yvette', 'zabaleta', 'zach', 'zack', 'zadie', 'zafi', 'zaidi', 'zajec', 'zakuani', 'zambia', 'zambian', 'zardari', 'zdnet', 'zealand', 'zealander', 'zealousness', 'zeeuw', 'zelda', 'zellweger', 'zen', 'zenden', 'zens', 'zephaniah', 'zeppelin', 'zero', 'zeta', 'zhang', 'zhaoxing', 'zheng', 'zib', 'zidane', 'zillion', 'zimbabwe', 'zinc', 'zinedine', 'zip', 'ziyi', 'zodiac', 'zoe', 'zola', 'zombie', 'zombies', 'zone', 'zonealarm', 'zones', 'zoom', 'zooms', 'zorro', 'zurich', 'zutons'] \n",
      "\n"
     ]
    }
   ],
   "source": [
    "#las 100 primeras palabras del vocabulario\n",
    "print(feature_names[:100],'\\n')\n",
    "#100 palabras del medio del vocabulario\n",
    "print(feature_names[11000:11100],'\\n')\n",
    "#las 100 últimas palabras del vocabulario\n",
    "print(feature_names[-100:],'\\n')"
   ]
  },
  {
   "cell_type": "markdown",
   "metadata": {},
   "source": [
    "Utilizamos la siguiente función para ver los términos de los mensajes vectorizados y compararlos con los mensajes originales"
   ]
  },
  {
   "cell_type": "code",
   "execution_count": 15,
   "metadata": {},
   "outputs": [],
   "source": [
    "import numpy as np\n",
    "import numpy.ma as ma"
   ]
  },
  {
   "cell_type": "code",
   "execution_count": 16,
   "metadata": {},
   "outputs": [],
   "source": [
    "def write_terms (feature_names, data, vector_data, index):\n",
    "    '''\n",
    "    Escribe los términos presentes en un mensaje representado como bolsa de palabras.\n",
    "    \n",
    "    - feature_names: terminos usados para vectorizar\n",
    "    - data: lista de mensajes original (si data==None no se muestra el mensaje original)\n",
    "    - vector_data: matriz (dispersa) de mensaje vectorizados\n",
    "    - index: posición del mensaje a mostrar\n",
    "    '''\n",
    "    # máscara para seleccionar sólo el mensaje en posición index\n",
    "    mask=vector_data[index,:]>0\n",
    "    \n",
    "    # términos que aparecen en ese mensaje vectorizado\n",
    "    terminos = ma.array(feature_names, mask = ~(mask[0].toarray()))\n",
    "    \n",
    "    # mostrar mensaje original\n",
    "    if data is not None:\n",
    "        print('Mensaje', index, ':', data[index],'\\n')\n",
    "    \n",
    "    # mostrar términos que aparecen en el mensaje vectorizado\n",
    "    print('Mensaje', index, 'vectorizado:', terminos.compressed(),'\\n')"
   ]
  },
  {
   "cell_type": "code",
   "execution_count": 17,
   "metadata": {},
   "outputs": [
    {
     "name": "stdout",
     "output_type": "stream",
     "text": [
      "Mensaje 333 : britain boosted by holmes double athletics fans endured a year of mixed emotions in 2004 as stunning victories went hand-in-hand with disappointing defeats and more drugs scandals.  kelly holmes finally fulfilled her potential by storming to double gold on the track at the olympic games. holmes helped erase the gloom hanging over team gb after their biggest medal hope  paula radcliffe  dropped out of the marathon and then the 10 000m. britain s men s 4x100m relay team also did their bit by taking a shock gold. holmes had started the year in disappointing style  falling over in the final of 1500m at the world indoor championships where she was favourite. her olympic build-up was clouded by self doubt but that proved unfounded as she overhauled rival maria mutola to win the 800m - her first global title. just five days later  the 34-year-old made it double gold in the 1500m. it was the first time in 84 years a briton has achieved the olympic middle-distance double. while holmes left athens as the star of team gb  it was radcliffe who carried expectations before the august games.  the 30-year-old marathon world record holder went into the athens event as favourite but an exhausted radcliffe dropped out after 23 miles in tears. her decision to enter the 10 000m five days later also backfired as she again pulled out with eight laps remaining.  but radcliffe helped put her olympic trauma behind her with a thrilling win in november s new york marathon. the 4x100m team grabbed some last-gasp glory for the british men s olympic squad after a poor start to the games.  it seemed as though athens would be the first games where the men would fail to win a medal with michael east the only individual track finalist in the 1500m. but darren campell  jason gardener  marlon devonish and mark lewis-francis made amends in the sprint relay. the quartet held off favourites the usa to win britain s first relay medal since 1912 in 38.07 seconds. gardener added the olympic relay crown to his world indoor title over 60m and  just like holmes  finally lived up to his promise in 2004. kelly sotherton completed team gb s athletics medal haul in athens with a surprise bronze in the heptathlon. the 28-year-old won her first championship medal since becoming a full-time athlete in 2003.  but it was a different story for britain s defending champion denise lewis  who withdrew on day two of the competition after some poor results. lewis  who was troubled by injury  has ruled out retiring while sotherton is tipped to build on her success. the athens olympics proved to be a landmark occasion for steve backley  who retired from competition after finishing fourth in the javelin. the battling 35-year-old leaves the sport with a vast medal haul including two silvers and one olympic bronze.  and backley s departure was balanced by the return of injury-hit decathlete dean macey  who came fourth in athens.  the continued improvement of sprinter abi oyepitan and long jumper chris tomlinson also boosted team gb. sadly  the 2004 olympics did not escape the problems of drugs misuse. on the eve of the games  greek sprinters kostas kenteris and katerina thanou missed a drugs test and claimed to have been involved in a road crash.  kenteris  the 200m champion in 2000  and thanou have since been charged by the greek authorities and await trial. at the games  adrian annus (hammer)  robert fazelas (discus) and irina korzhanenko (shot) were all stripped of their titles because of doping issues. hungarian compatriots annus and fazelas both refused to give urine samples while russian korzhanenko tested positive for the steroid stanozolol.  the fallout from the thg scandal  which rocked the sport in 2003  continued to impact in olympic year. britain s 4x100m team took gold without the services of dwain chambers  who was handed a two-year ban in february after testing positive for steroid thg.  american kelli white was suspended and stripped of her world 100m and 200m titles after failing a drugs test. and world 400m champion jerome young landed a life ban from us chiefs after a second doping offence. russian pole vaulter yelena isinbayeva provided some light relief by smashing the world record seven times on her way to the world indoor and olympic titles. her rivalry with compatriot svetlana feofanova livened up the field events. morocco s hicham el guerrouj also delighted fans by racing to a historic olympic double in the 1500m and 5 000m.  and though there was no paula radcliffe in the london marathon  there was plenty of drama as kenyans evans rutto and margaret okayo took the titles. rutto held on to win despite slipping on some cobblestones and tumbling into a barrier. okayo also had to battle back after mistiming her tactics but clinched victory on her debut. \n",
      "\n",
      "Mensaje 333 vectorizado: ['000m' '07' '10' '100m' '1500m' '1912' '2000' '2003' '2004' '200m' '23'\n",
      " '28' '30' '34' '35' '38' '400m' '4x100m' '60m' '800m' '84' 'abi'\n",
      " 'achieved' 'added' 'adrian' 'amends' 'american' 'annus' 'athens'\n",
      " 'athlete' 'athletics' 'august' 'authorities' 'await' 'backfired'\n",
      " 'backley' 'balanced' 'ban' 'barrier' 'battle' 'battling' 'biggest' 'bit'\n",
      " 'boosted' 'britain' 'british' 'briton' 'bronze' 'build' 'came' 'campell'\n",
      " 'carried' 'chambers' 'champion' 'championship' 'championships' 'charged'\n",
      " 'chiefs' 'chris' 'claimed' 'clinched' 'clouded' 'cobblestones'\n",
      " 'compatriot' 'compatriots' 'competition' 'completed' 'continued' 'crash'\n",
      " 'crown' 'darren' 'day' 'days' 'dean' 'debut' 'decathlete' 'decision'\n",
      " 'defeats' 'defending' 'delighted' 'denise' 'departure' 'despite'\n",
      " 'devonish' 'did' 'different' 'disappointing' 'discus' 'distance' 'doping'\n",
      " 'double' 'doubt' 'drama' 'dropped' 'drugs' 'dwain' 'east' 'el' 'emotions'\n",
      " 'endured' 'enter' 'erase' 'escape' 'evans' 'eve' 'event' 'events'\n",
      " 'exhausted' 'expectations' 'fail' 'failing' 'falling' 'fallout' 'fans'\n",
      " 'favourite' 'favourites' 'fazelas' 'february' 'feofanova' 'field' 'final'\n",
      " 'finalist' 'finally' 'finishing' 'fourth' 'francis' 'fulfilled' 'games'\n",
      " 'gardener' 'gasp' 'gb' 'global' 'gloom' 'glory' 'gold' 'grabbed' 'greek'\n",
      " 'guerrouj' 'hammer' 'hand' 'handed' 'hanging' 'haul' 'held' 'helped'\n",
      " 'heptathlon' 'hicham' 'historic' 'hit' 'holder' 'holmes' 'hope'\n",
      " 'hungarian' 'impact' 'improvement' 'including' 'individual' 'indoor'\n",
      " 'injury' 'involved' 'irina' 'isinbayeva' 'issues' 'jason' 'javelin'\n",
      " 'jerome' 'jumper' 'just' 'katerina' 'kelli' 'kelly' 'kenteris' 'kenyans'\n",
      " 'korzhanenko' 'kostas' 'landed' 'landmark' 'laps' 'later' 'leaves' 'left'\n",
      " 'lewis' 'life' 'light' 'like' 'lived' 'livened' 'london' 'long' 'macey'\n",
      " 'marathon' 'margaret' 'maria' 'mark' 'marlon' 'medal' 'men' 'michael'\n",
      " 'middle' 'miles' 'missed' 'mistiming' 'misuse' 'mixed' 'morocco' 'mutola'\n",
      " 'new' 'november' 'occasion' 'offence' 'okayo' 'old' 'olympic' 'olympics'\n",
      " 'overhauled' 'oyepitan' 'paula' 'plenty' 'pole' 'poor' 'positive'\n",
      " 'potential' 'problems' 'promise' 'proved' 'provided' 'pulled' 'quartet'\n",
      " 'racing' 'radcliffe' 'record' 'refused' 'relay' 'relief' 'remaining'\n",
      " 'results' 'retired' 'retiring' 'return' 'rival' 'rivalry' 'road' 'robert'\n",
      " 'rocked' 'ruled' 'russian' 'rutto' 'sadly' 'samples' 'scandal' 'scandals'\n",
      " 'second' 'seconds' 'self' 'services' 'seven' 'shock' 'shot' 'silvers'\n",
      " 'slipping' 'smashing' 'sotherton' 'sport' 'sprint' 'sprinter' 'sprinters'\n",
      " 'squad' 'stanozolol' 'star' 'start' 'started' 'steroid' 'steve'\n",
      " 'storming' 'story' 'stripped' 'stunning' 'style' 'success' 'surprise'\n",
      " 'suspended' 'svetlana' 'tactics' 'taking' 'team' 'tears' 'test' 'tested'\n",
      " 'testing' 'thanou' 'thg' 'thrilling' 'time' 'times' 'tipped' 'title'\n",
      " 'titles' 'tomlinson' 'took' 'track' 'trauma' 'trial' 'troubled'\n",
      " 'tumbling' 'unfounded' 'urine' 'usa' 'vast' 'vaulter' 'victories'\n",
      " 'victory' 'way' 'went' 'white' 'win' 'withdrew' 'won' 'world' 'year'\n",
      " 'years' 'yelena' 'york' 'young'] \n",
      "\n"
     ]
    }
   ],
   "source": [
    "write_terms(feature_names, train_data['Text'], train_vector_data, 333)"
   ]
  },
  {
   "cell_type": "code",
   "execution_count": 18,
   "metadata": {},
   "outputs": [
    {
     "name": "stdout",
     "output_type": "stream",
     "text": [
      "Mensaje 100 : more power to the people says hp the digital revolution is focused on letting people tell and share their own stories  according to carly fiorina  chief of technology giant hewlett packard.  the job of firms such as hp now  she said in a speech at the consumer electronics show (ces)  was to ensure digital and physical worlds fully converged. she said the goal for 2005 was to make people the centre of technology. ces showcases 50 000 new gadgets that will be hitting the shelves in 2005. the tech-fest  the largest of its kind in the world  runs from 6 to 9 january.  the digital revolution is about the democratisation of technology and the experiences it makes possible   she told delegates.  revolution has always been about giving power to the people.  she added:  the real story of the digital revolution is not just new products  but the millions of experiences made possible and stories that millions can tell.  part of giving people more control has been about the freeing up of content  such as images  video and music. crucial to this has been the effort to make devices that speak to each other better so that content can be more easily transferred from one device  such as a digital camera  to others  such as portable media players. a lot of work still needs to be done  however  to sort out compatibility issues and standards within the technology industry so that gadgets just work seamlessly  she said.  ms fiorina s talk also touted the way technology is being designed to focus on lifestyle  fashion and personalisation  something she sees as key to what people want.  special guest  singer gwen stefani  joined her on-stage to promote her own range of hp digital cameras which ms stefani has helped design and which are heavily influenced by japanese youth culture. the digital cameras  which are due to go on sale in the us by the summer  are based on the hp 607 model. the emphasis on personalisation and lifestyle is a big theme at this year s ces  with tiny  wearable mp3 players at every turn and rainbow hues giving colour to everything. ms fiorina also announced that hp was working with nokia to launch a visual radio service for mobiles  which would launch in europe early this year. the service will let people listen to radio on their mobiles and download relevant content  like a track s ringtone  simultaneously. the service is designed to make mobile radio more interactive.  among the other new products she showcased was the digital media hub  a big upgrade to hp s digital entertainment centre. coming out in the autumn in the us  the box is a networked  high-definition tv  cable set-top box  digital video recorder and dvd recorder. it has a removable hard drive cartridge  memory card slots  and light scribe labelling software which lets people design and print customised dvd labels and covers. it is designed to contain all a household s digital media  such as pre-recorded tv shows  pictures  videos and music so it can all be managed in one place. the hub reflects the increasing move to re-box the pc so that it can work as part of other key centres of entertainment. research suggests that about 258 million images are saved and shared every day  equating to 94 billion a year. eighty per cent of those remain on cameras. media hubs are designed to encourage people to organise them on one box. ms fiorina was one of several keynote speakers  who also included microsoft chief bill gates  to set out what major technology companies think people will be doing with technologies and gadgets in the next 12 months. in a separate announcement during the keynote speech  ms fiorina said that hp would be partnering mtv to replace this year s mtv asia music award. mtv s asia aid will be held in bangkok on 3 february  and is aimed at helping to raise money for the asian tsunami disaster. \n",
      "\n",
      "Mensaje 100 vectorizado: ['000' '12' '2005' '258' '50' '607' '94' 'according' 'added' 'aid' 'aimed'\n",
      " 'announced' 'announcement' 'asia' 'asian' 'autumn' 'award' 'bangkok'\n",
      " 'based' 'better' 'big' 'billion' 'box' 'cable' 'camera' 'cameras' 'card'\n",
      " 'carly' 'cartridge' 'cent' 'centre' 'centres' 'ces' 'chief' 'colour'\n",
      " 'coming' 'companies' 'compatibility' 'consumer' 'contain' 'content'\n",
      " 'control' 'converged' 'covers' 'crucial' 'culture' 'customised' 'day'\n",
      " 'definition' 'delegates' 'democratisation' 'design' 'designed' 'device'\n",
      " 'devices' 'digital' 'disaster' 'doing' 'download' 'drive' 'dvd' 'early'\n",
      " 'easily' 'effort' 'eighty' 'electronics' 'emphasis' 'encourage' 'ensure'\n",
      " 'entertainment' 'equating' 'europe' 'experiences' 'fashion' 'february'\n",
      " 'fest' 'fiorina' 'firms' 'focus' 'focused' 'freeing' 'fully' 'gadgets'\n",
      " 'gates' 'giant' 'giving' 'goal' 'guest' 'gwen' 'hard' 'heavily' 'held'\n",
      " 'helped' 'helping' 'hewlett' 'high' 'hitting' 'household' 'hp' 'hub'\n",
      " 'hubs' 'hues' 'images' 'included' 'increasing' 'industry' 'influenced'\n",
      " 'interactive' 'issues' 'january' 'japanese' 'job' 'joined' 'just' 'key'\n",
      " 'keynote' 'kind' 'labelling' 'labels' 'largest' 'launch' 'let' 'lets'\n",
      " 'letting' 'lifestyle' 'light' 'like' 'listen' 'lot' 'major' 'make'\n",
      " 'makes' 'managed' 'media' 'memory' 'microsoft' 'million' 'millions'\n",
      " 'mobile' 'mobiles' 'model' 'money' 'months' 'mp3' 'ms' 'mtv' 'music'\n",
      " 'needs' 'networked' 'new' 'nokia' 'organise' 'packard' 'partnering' 'pc'\n",
      " 'people' 'personalisation' 'physical' 'pictures' 'place' 'players'\n",
      " 'portable' 'possible' 'power' 'pre' 'print' 'products' 'promote' 'radio'\n",
      " 'rainbow' 'raise' 'range' 'real' 'recorded' 'recorder' 'reflects'\n",
      " 'relevant' 'remain' 'removable' 'replace' 'research' 'revolution'\n",
      " 'ringtone' 'runs' 'said' 'sale' 'saved' 'says' 'scribe' 'seamlessly'\n",
      " 'sees' 'separate' 'service' 'set' 'share' 'shared' 'shelves' 'showcased'\n",
      " 'showcases' 'shows' 'simultaneously' 'singer' 'slots' 'software' 'sort'\n",
      " 'speak' 'speakers' 'special' 'speech' 'stage' 'standards' 'stefani'\n",
      " 'stories' 'story' 'suggests' 'summer' 'talk' 'tech' 'technologies'\n",
      " 'technology' 'tell' 'theme' 'think' 'tiny' 'told' 'touted' 'track'\n",
      " 'transferred' 'tsunami' 'turn' 'tv' 'upgrade' 'video' 'videos' 'visual'\n",
      " 'want' 'way' 'wearable' 'work' 'working' 'world' 'worlds' 'year' 'youth'] \n",
      "\n"
     ]
    }
   ],
   "source": [
    "write_terms(feature_names, train_data['Text'], train_vector_data, 100)"
   ]
  },
  {
   "cell_type": "markdown",
   "metadata": {},
   "source": [
    "#### ¿Qué palabras se han eliminado y por qué?"
   ]
  },
  {
   "cell_type": "markdown",
   "metadata": {},
   "source": [
    "Vemos que al tener el vocabulario palabras númericas, observamos ruido en la vectorización. También podemos ver que se eliminan palabras relevantes por no pertenecer al vocabulario con el que estamos entrenando, como puede ser \"honda\" o \"eminen\" y también se eliminan las palabras cuya frecuencia de aparición es baja, como los años o nombres de paises. Se observa que los \"stop_words\" tampoco aparecen, como hemos indicado en la vecotrización previamente."
   ]
  },
  {
   "cell_type": "markdown",
   "metadata": {},
   "source": [
    "### Clasificador Naive Bayes Multinomial"
   ]
  },
  {
   "cell_type": "code",
   "execution_count": 19,
   "metadata": {},
   "outputs": [],
   "source": [
    "from sklearn.naive_bayes import MultinomialNB\n",
    "from sklearn.feature_extraction.text import TfidfTransformer\n",
    "from sklearn.metrics import classification_report, confusion_matrix"
   ]
  },
  {
   "cell_type": "markdown",
   "metadata": {},
   "source": [
    "Ahora realizaremos lo mismo pero en vez de con las frecuencias las palabras, lo haremos con una bolsa de palabras con TF/IDF"
   ]
  },
  {
   "cell_type": "code",
   "execution_count": 20,
   "metadata": {},
   "outputs": [],
   "source": [
    "# Calculamos el valor TF-IDF \n",
    "tfidfer = TfidfTransformer()\n",
    "train_preprocessed = tfidfer.fit_transform(train_vector_data)\n",
    "\n",
    "# Tomamos los textos del conjunto de test y los transformamos en una matriz\n",
    "# de palabras. Al usar \"transform\" toma como referencia únicamente las palabras\n",
    "# encontradas en el conjunto de entrenamiento\n",
    "test_vector_data=vectorizer.transform(test_data['Text'])\n",
    "# Calculamos el valor TF-IDF \n",
    "# Al usar \"transform\" toma como IDF el del conjunto de entrenamiento \n",
    "test_preprocessed=tfidfer.transform(test_vector_data)"
   ]
  },
  {
   "cell_type": "markdown",
   "metadata": {},
   "source": [
    "Ya tenemos los conjuntos de entrenamiento y test preparados para ejecutar el clasificador"
   ]
  },
  {
   "cell_type": "code",
   "execution_count": 21,
   "metadata": {},
   "outputs": [
    {
     "name": "stdout",
     "output_type": "stream",
     "text": [
      "Multinomial Naive Bayes, porcentaje de aciertos en entrenamiento: 0.9941275167785235\n",
      "Multinomial Naive Bayes, porcentaje de aciertos en test: 0.9731543624161074\n"
     ]
    }
   ],
   "source": [
    "mnb_classifier = MultinomialNB()\n",
    "\n",
    "mnb_classifier.fit(train_preprocessed, train_data['Category'])\n",
    "\n",
    "mnb_train_predictions = mnb_classifier.predict(train_preprocessed)\n",
    "mnb_test_predictions = mnb_classifier.predict(test_preprocessed)\n",
    "\n",
    "print(\"Multinomial Naive Bayes, porcentaje de aciertos en entrenamiento:\", np.mean(mnb_train_predictions == train_data['Category']))\n",
    "print(\"Multinomial Naive Bayes, porcentaje de aciertos en test:\", np.mean(mnb_test_predictions == test_data['Category']))"
   ]
  },
  {
   "cell_type": "code",
   "execution_count": 22,
   "metadata": {},
   "outputs": [
    {
     "name": "stdout",
     "output_type": "stream",
     "text": [
      "               precision    recall  f1-score   support\n",
      "\n",
      "     business       0.97      1.00      0.98        56\n",
      "         tech       0.98      0.95      0.97        62\n",
      "     politics       0.93      1.00      0.96        52\n",
      "        sport       0.99      1.00      0.99        80\n",
      "entertainment       1.00      0.90      0.95        48\n",
      "\n",
      "     accuracy                           0.97       298\n",
      "    macro avg       0.97      0.97      0.97       298\n",
      " weighted avg       0.97      0.97      0.97       298\n",
      "\n"
     ]
    }
   ],
   "source": [
    "classifier = mnb_classifier\n",
    "predictions = mnb_test_predictions\n",
    "names =[\"business\",\"tech\",\"politics\",\"sport\",\"entertainment\"]\n",
    "\n",
    "print(classification_report(test_data['Category'], predictions, target_names=names))"
   ]
  },
  {
   "cell_type": "markdown",
   "metadata": {},
   "source": [
    "Observamos que para todas las categorias tiene una precisión muy elevada, y el porcentaje de clasificación para cada categoria es superior al 90% en todos los tipos de clases.\n",
    "\n",
    "Podemos suponer que de forma general, el clasificador distingue bien los diferentes tipos de textos y los clasifica de forma genérica de forma correcta."
   ]
  },
  {
   "cell_type": "markdown",
   "metadata": {},
   "source": [
    "#### Matriz de confusión"
   ]
  },
  {
   "cell_type": "code",
   "execution_count": 23,
   "metadata": {},
   "outputs": [],
   "source": [
    "%matplotlib inline\n",
    "import pandas as pd\n",
    "import seaborn as sn\n",
    "import matplotlib.pyplot as plt"
   ]
  },
  {
   "cell_type": "code",
   "execution_count": 24,
   "metadata": {},
   "outputs": [
    {
     "data": {
      "text/plain": [
       "(array([0.5, 1.5, 2.5, 3.5, 4.5]),\n",
       " [Text(0.5, 0, 'business'),\n",
       "  Text(1.5, 0, 'tech'),\n",
       "  Text(2.5, 0, 'politics'),\n",
       "  Text(3.5, 0, 'sport'),\n",
       "  Text(4.5, 0, 'entertainment')])"
      ]
     },
     "execution_count": 24,
     "metadata": {},
     "output_type": "execute_result"
    },
    {
     "data": {
      "image/png": "[encoded data removed]",
      "text/plain": [
       "<Figure size 1080x720 with 2 Axes>"
      ]
     },
     "metadata": {
      "needs_background": "light"
     },
     "output_type": "display_data"
    }
   ],
   "source": [
    "conf_matrix = confusion_matrix(test_data['Category'], predictions)\n",
    "conf_matrix_df = pd.DataFrame(conf_matrix, index=names, columns=names)\n",
    "\n",
    "plt.figure(figsize=(15, 10))\n",
    "sn.heatmap(conf_matrix_df, annot=True, vmin=0, vmax=conf_matrix.max(), fmt='d', cmap=\"YlGnBu\")\n",
    "plt.yticks(rotation=0)\n",
    "plt.xticks(rotation=90)"
   ]
  },
  {
   "cell_type": "markdown",
   "metadata": {},
   "source": [
    "Como podemos observar en la matriz de confusión, y de manera que corroboramos los datos de precisión y exhaustividad que hemos obtenido en el apartado anterior, el clasificador acierta casi en su totalidad a la hora de catalogar el texto. Donde vemos un mayor número de fallos, pero insignificante en comparación con el cómputo global, es a la hora de clasificar textos de tecnología y política (3 fallos de clasificación), y en los textos de negocios y entretenimiento (2 fallos de clasificación). También podemos obervar, que de forma general los textos pueden dar algun fallo en relación a la categoria de entretenimiento, pudiendo decir que es una categoria un poco más ambigua que el resto."
   ]
  },
  {
   "cell_type": "markdown",
   "metadata": {},
   "source": [
    "### Clasificador k-NN"
   ]
  },
  {
   "cell_type": "code",
   "execution_count": 25,
   "metadata": {},
   "outputs": [],
   "source": [
    "from sklearn import neighbors"
   ]
  },
  {
   "cell_type": "code",
   "execution_count": 26,
   "metadata": {},
   "outputs": [
    {
     "name": "stdout",
     "output_type": "stream",
     "text": [
      "k-NN, porcentaje de aciertos en entrenamiento: 0.9563758389261745\n",
      "k-NN, porcentaje de aciertos en test: 0.9194630872483222\n"
     ]
    }
   ],
   "source": [
    "#usamos la distancia euclídea (por defecto)\n",
    "knn_classifier = neighbors.KNeighborsClassifier()\n",
    "knn_classifier.fit(train_preprocessed, train_data['Category'])\n",
    "\n",
    "knn_train_predictions = knn_classifier.predict(train_preprocessed)\n",
    "knn_test_predictions = knn_classifier.predict(test_preprocessed)\n",
    "\n",
    "print(\"k-NN, porcentaje de aciertos en entrenamiento:\", np.mean(knn_train_predictions == train_data['Category']))\n",
    "print(\"k-NN, porcentaje de aciertos en test:\", np.mean(knn_test_predictions == test_data['Category']))"
   ]
  },
  {
   "cell_type": "markdown",
   "metadata": {},
   "source": [
    "Observamos una tasa de aciertos muy elevada, parecida a los datos obtenidos en el anterior clasificador, por lo que podemos suponer que para este ejemplo de entrenamiento, se ha escogido valores justos de entrenamiento y test, y un vocabulario adecuado para valorar la aparición de las palabras en cada texto.\n",
    "\n",
    "Este valor tan positivo puede ser debido a que el corpus no esta formado por excesivas palabras y no hay demasiadas clasificaciones como para que un texto sea ambiguo entre ambos, existe gran diferenciación entre clasificaciones de texto."
   ]
  },
  {
   "cell_type": "markdown",
   "metadata": {},
   "source": [
    "## 3) Representación basada en word-embeddings\n",
    "\n",
    "La segunda vectorización que vamos a usar representará los mensajes usando word-embeddings. Cada documento se representará como el vector que resulta de promediar los embeddings de cada una de sus palabras. Al igual que en el apartado anterior, usaremos monogramas y las _stop words_ que vienen configuradas por defecto para el inglés. Recuerda usar como vocabulario para vectorizar el vocabulario del fichero con las word-embeddings. \n",
    "\n",
    "Entrena un clasificador Naive Bayes Gaussiano (el Multinomial no admite valores negativos que sí aparecen en los embeddings). Analiza el error por clase y dibuja la matriz de confusión.\n",
    "\n",
    "Entrena otro clasificador kNN con la nueva vectorización y la configuración por defecto y analiza su error."
   ]
  },
  {
   "cell_type": "markdown",
   "metadata": {},
   "source": [
    "### Vectorización usando word-embeddings"
   ]
  },
  {
   "cell_type": "markdown",
   "metadata": {},
   "source": [
    "Previamente, deberemos instalar el modulo gensim desde la consola Anaconda, ya que por defecto no viene instalado. Tendremos que escribir la siguiente linea: \"pip install -U gensim\""
   ]
  },
  {
   "cell_type": "code",
   "execution_count": 27,
   "metadata": {},
   "outputs": [],
   "source": [
    "from gensim.scripts.glove2word2vec import glove2word2vec\n",
    "from gensim.models import KeyedVectors"
   ]
  },
  {
   "cell_type": "markdown",
   "metadata": {},
   "source": [
    "Es necesario traducir el fichero al formato word2vec, que reconoce Gensim"
   ]
  },
  {
   "cell_type": "code",
   "execution_count": 28,
   "metadata": {},
   "outputs": [],
   "source": [
    "glove_file = 'glove.6B.50d.txt'\n",
    "\n",
    "# Gensim 4 puede transformar de glove a word2vec directamente\n",
    "model = KeyedVectors.load_word2vec_format(glove_file, binary=False, no_header=True)\n"
   ]
  },
  {
   "cell_type": "code",
   "execution_count": 29,
   "metadata": {},
   "outputs": [],
   "source": [
    "# En Gensim 3 se pueden obtener de la siguiente manera\n",
    "# words = list(model.vocab.keys())\n",
    "\n",
    "# En Gensim 4 se pueden obtener de la siguiente manera\n",
    "# we_vocabulary = sorted(model.key_to_index.keys(), key=lambda word: model.get_vecattr(word, \"count\"), reverse=True)\n",
    "we_vocabulary = list(model.key_to_index.keys())\n",
    "\n",
    "# En vocabulary le pasamos el de la word-embedding, ponemos que pase los tokens a minusculas \n",
    "# Si ponemos binary a False coge frecuencias y si está en true presencia en modo binario\n",
    "#vectorizer = CountVectorizer(vocabulary = we_vocabulary, binary = False)\n",
    "\n",
    "# Si usamos la lista de palabras vacías del inglés de sklearn quitamos artículos, preposiciones, etc \n",
    "vectorizer = CountVectorizer(vocabulary = we_vocabulary, stop_words='english', binary = False)\n",
    "\n",
    "train_vector_data = vectorizer.fit_transform(train_data['Text'])"
   ]
  },
  {
   "cell_type": "code",
   "execution_count": 30,
   "metadata": {},
   "outputs": [],
   "source": [
    "feature_names = vectorizer.get_feature_names ()"
   ]
  },
  {
   "cell_type": "code",
   "execution_count": 31,
   "metadata": {},
   "outputs": [
    {
     "name": "stdout",
     "output_type": "stream",
     "text": [
      "Mensaje 333 : britain boosted by holmes double athletics fans endured a year of mixed emotions in 2004 as stunning victories went hand-in-hand with disappointing defeats and more drugs scandals.  kelly holmes finally fulfilled her potential by storming to double gold on the track at the olympic games. holmes helped erase the gloom hanging over team gb after their biggest medal hope  paula radcliffe  dropped out of the marathon and then the 10 000m. britain s men s 4x100m relay team also did their bit by taking a shock gold. holmes had started the year in disappointing style  falling over in the final of 1500m at the world indoor championships where she was favourite. her olympic build-up was clouded by self doubt but that proved unfounded as she overhauled rival maria mutola to win the 800m - her first global title. just five days later  the 34-year-old made it double gold in the 1500m. it was the first time in 84 years a briton has achieved the olympic middle-distance double. while holmes left athens as the star of team gb  it was radcliffe who carried expectations before the august games.  the 30-year-old marathon world record holder went into the athens event as favourite but an exhausted radcliffe dropped out after 23 miles in tears. her decision to enter the 10 000m five days later also backfired as she again pulled out with eight laps remaining.  but radcliffe helped put her olympic trauma behind her with a thrilling win in november s new york marathon. the 4x100m team grabbed some last-gasp glory for the british men s olympic squad after a poor start to the games.  it seemed as though athens would be the first games where the men would fail to win a medal with michael east the only individual track finalist in the 1500m. but darren campell  jason gardener  marlon devonish and mark lewis-francis made amends in the sprint relay. the quartet held off favourites the usa to win britain s first relay medal since 1912 in 38.07 seconds. gardener added the olympic relay crown to his world indoor title over 60m and  just like holmes  finally lived up to his promise in 2004. kelly sotherton completed team gb s athletics medal haul in athens with a surprise bronze in the heptathlon. the 28-year-old won her first championship medal since becoming a full-time athlete in 2003.  but it was a different story for britain s defending champion denise lewis  who withdrew on day two of the competition after some poor results. lewis  who was troubled by injury  has ruled out retiring while sotherton is tipped to build on her success. the athens olympics proved to be a landmark occasion for steve backley  who retired from competition after finishing fourth in the javelin. the battling 35-year-old leaves the sport with a vast medal haul including two silvers and one olympic bronze.  and backley s departure was balanced by the return of injury-hit decathlete dean macey  who came fourth in athens.  the continued improvement of sprinter abi oyepitan and long jumper chris tomlinson also boosted team gb. sadly  the 2004 olympics did not escape the problems of drugs misuse. on the eve of the games  greek sprinters kostas kenteris and katerina thanou missed a drugs test and claimed to have been involved in a road crash.  kenteris  the 200m champion in 2000  and thanou have since been charged by the greek authorities and await trial. at the games  adrian annus (hammer)  robert fazelas (discus) and irina korzhanenko (shot) were all stripped of their titles because of doping issues. hungarian compatriots annus and fazelas both refused to give urine samples while russian korzhanenko tested positive for the steroid stanozolol.  the fallout from the thg scandal  which rocked the sport in 2003  continued to impact in olympic year. britain s 4x100m team took gold without the services of dwain chambers  who was handed a two-year ban in february after testing positive for steroid thg.  american kelli white was suspended and stripped of her world 100m and 200m titles after failing a drugs test. and world 400m champion jerome young landed a life ban from us chiefs after a second doping offence. russian pole vaulter yelena isinbayeva provided some light relief by smashing the world record seven times on her way to the world indoor and olympic titles. her rivalry with compatriot svetlana feofanova livened up the field events. morocco s hicham el guerrouj also delighted fans by racing to a historic olympic double in the 1500m and 5 000m.  and though there was no paula radcliffe in the london marathon  there was plenty of drama as kenyans evans rutto and margaret okayo took the titles. rutto held on to win despite slipping on some cobblestones and tumbling into a barrier. okayo also had to battle back after mistiming her tactics but clinched victory on her debut. \n",
      "\n",
      "Mensaje 333 vectorizado: ['new' 'year' 'time' 'years' 'world' 'like' 'did' 'just' 'day' 'second'\n",
      " 'american' 'including' 'team' 'old' 'later' 'long' 'way' 'york' '10'\n",
      " 'life' 'left' 'won' 'times' 'took' 'days' 'held' 'came' 'games' 'final'\n",
      " 'added' 'british' 'white' 'men' 'win' 'east' 'record' 'went' '30' 'hit'\n",
      " 'seven' 'decision' 'young' 'start' 'russian' 'november' 'different'\n",
      " 'return' 'despite' 'august' 'london' 'services' 'story' 'started'\n",
      " 'authorities' 'taking' 'road' 'results' 'field' 'issues' 'february'\n",
      " 'shot' 'victory' '2000' 'problems' 'miles' 'fourth' 'britain' 'title'\n",
      " 'middle' 'global' '2004' 'test' 'star' 'continued' 'gold' 'event' '2003'\n",
      " 'michael' 'involved' 'mark' 'trial' 'hand' 'hope' 'championship'\n",
      " 'biggest' 'robert' 'light' 'battle' 'events' 'helped' 'competition'\n",
      " 'poor' 'track' '23' 'success' 'olympic' 'champion' '28' 'claimed' 'style'\n",
      " 'potential' 'build' 'fans' 'provided' 'dropped' 'finally' 'carried'\n",
      " 'charged' 'double' 'refused' 'completed' 'positive' 'ban' 'individual'\n",
      " 'impact' 'el' 'olympics' 'self' 'remaining' 'injury' 'lived' 'historic'\n",
      " 'bit' 'drugs' 'debut' 'championships' 'greek' 'medal' 'retired' '35'\n",
      " 'seconds' 'ruled' 'rival' 'relief' 'steve' 'sport' 'crash' 'chris'\n",
      " 'missed' 'mixed' 'leaves' 'pulled' 'suspended' 'racing' 'distance'\n",
      " 'enter' 'squad' 'falling' 'usa' 'expectations' 'handed' 'doubt' 'testing'\n",
      " 'titles' 'lewis' 'surprise' 'scandal' 'drama' 'defending' 'proved' '34'\n",
      " '38' 'escape' 'achieved' 'bronze' 'vast' 'crown' 'dean' 'athens'\n",
      " 'failing' 'maria' 'promise' 'tested' 'improvement' 'troubled' 'finishing'\n",
      " 'departure' 'jason' 'kelly' 'landed' 'plenty' 'shock' 'chiefs' 'eve'\n",
      " 'victories' 'athletics' 'francis' 'fail' 'landmark' 'withdrew' 'pole'\n",
      " 'occasion' 'marathon' 'tactics' 'evans' 'samples' 'morocco' 'hungarian'\n",
      " 'disappointing' 'margaret' 'sprint' 'relay' 'tears' 'hanging' 'doping'\n",
      " 'boosted' 'barrier' 'athlete' 'balanced' 'indoor' 'holder' '84'\n",
      " 'battling' '1912' 'retiring' 'chambers' 'glory' 'grabbed' 'stunning'\n",
      " 'stripped' 'scandals' 'holmes' 'quartet' 'emotions' 'hammer' 'rivalry'\n",
      " 'haul' 'laps' 'rocked' 'adrian' 'favourite' 'delighted' 'darren'\n",
      " 'defeats' 'tipped' 'exhausted' 'clinched' 'jerome' 'trauma' 'fallout'\n",
      " 'endured' 'finalist' 'paula' 'compatriot' 'slipping' 'fulfilled' 'await'\n",
      " 'jumper' 'briton' '100m' 'urine' 'steroid' 'offence' '200m' 'sadly'\n",
      " 'favourites' 'sprinter' 'gb' 'smashing' 'compatriots' 'tumbling'\n",
      " 'thrilling' 'denise' 'erase' 'kenyans' 'svetlana' '07' 'misuse'\n",
      " 'unfounded' 'gloom' 'irina' '400m' 'gardener' 'radcliffe' 'marlon'\n",
      " 'storming' 'clouded' 'javelin' 'tomlinson' 'amends' 'discus' 'gasp'\n",
      " 'overhauled' 'silvers' 'backfired' 'sprinters' 'yelena' '800m' '4x100m'\n",
      " 'heptathlon' 'abi' '1500m' 'hicham' 'kelli' 'guerrouj' 'thg' 'katerina'\n",
      " 'mutola' 'isinbayeva' 'thanou' 'kostas' 'kenteris' 'vaulter'\n",
      " 'cobblestones' 'dwain' '60m' 'annus' 'macey' 'stanozolol' 'decathlete'\n",
      " 'feofanova' 'okayo' 'sotherton' 'livened' 'devonish' 'backley' 'rutto'\n",
      " 'korzhanenko' 'mistiming' '000m' 'campell' 'oyepitan'] \n",
      "\n"
     ]
    }
   ],
   "source": [
    "write_terms(feature_names, train_data['Text'], train_vector_data, 333)"
   ]
  },
  {
   "cell_type": "markdown",
   "metadata": {},
   "source": [
    "### Clasificador Naive Bayes Gaussiano"
   ]
  },
  {
   "cell_type": "code",
   "execution_count": 32,
   "metadata": {},
   "outputs": [],
   "source": [
    "from sklearn.naive_bayes import GaussianNB"
   ]
  },
  {
   "cell_type": "code",
   "execution_count": 33,
   "metadata": {},
   "outputs": [],
   "source": [
    "# Calculamos el valor TF-IDF \n",
    "tfidfer = TfidfTransformer()\n",
    "train_preprocessed = tfidfer.fit_transform(train_vector_data)\n",
    "\n",
    "# Tomamos los textos del conjunto de test y los transformamos en una matriz\n",
    "# de palabras. Al usar \"transform\" toma como referencia únicamente las palabras\n",
    "# encontradas en el conjunto de entrenamiento\n",
    "test_vector_data=vectorizer.transform(test_data['Text'])\n",
    "# Calculamos el valor TF-IDF \n",
    "# Al usar \"transform\" toma como IDF el del conjunto de entrenamiento \n",
    "test_preprocessed=tfidfer.transform(test_vector_data)"
   ]
  },
  {
   "cell_type": "code",
   "execution_count": 34,
   "metadata": {},
   "outputs": [],
   "source": [
    "#usamos la opción de partial_fit que permite ajustar el Naive Bayes incrementalmente pasándole distintos fragmentos de la matriz de datos.\n",
    "gnb_classifier = GaussianNB()\n",
    "\n",
    "chunk_size=100\n",
    "num_rows=len(test_data['Category'])\n",
    "\n",
    "for i in range(0, (num_rows//chunk_size)):\n",
    "    train_chunk = train_preprocessed[i*chunk_size : (i+1)*chunk_size,:].toarray()\n",
    "    target_chunk = train_data['Category'][i*chunk_size : (i+1)*chunk_size]\n",
    "    gnb_classifier.partial_fit(train_chunk, target_chunk, classes=np.unique(train_data['Category']))"
   ]
  },
  {
   "cell_type": "code",
   "execution_count": 35,
   "metadata": {
    "scrolled": true
   },
   "outputs": [
    {
     "name": "stdout",
     "output_type": "stream",
     "text": [
      "Gaussian Naive Bayes, porcentaje de aciertos en entrenamiento: 0.16778523489932887\n",
      "Gaussian Naive Bayes, porcentaje de aciertos en test: 0.6073825503355704\n"
     ]
    }
   ],
   "source": [
    "# Creamos los arrays antes para ser más eficiente (crea el array grande y luego lo rellena)\n",
    "gnb_train_predictions=np.zeros_like(train_data['Category'])\n",
    "gnb_test_predictions=np.zeros_like(test_data['Category'])\n",
    "\n",
    "for i in range(0, (num_rows//chunk_size)):\n",
    "    train_chunk = train_preprocessed[i*chunk_size : (i+1)*chunk_size,:].toarray()\n",
    "    gnb_train_predictions[i*chunk_size : (i+1)*chunk_size] = gnb_classifier.predict(train_chunk)\n",
    "    \n",
    "num_rows=len(test_data['Category'])\n",
    "for i in range(0, (num_rows//chunk_size)):\n",
    "    test_chunk = test_preprocessed[i*chunk_size : (i+1)*chunk_size,:].toarray()\n",
    "    gnb_test_predictions[i*chunk_size : (i+1)*chunk_size] = gnb_classifier.predict(test_chunk)\n",
    "\n",
    "print(\"Gaussian Naive Bayes, porcentaje de aciertos en entrenamiento:\", np.mean(gnb_train_predictions == train_data['Category']))\n",
    "print(\"Gaussian Naive Bayes, porcentaje de aciertos en test:\", np.mean(gnb_test_predictions == test_data['Category']))"
   ]
  },
  {
   "cell_type": "markdown",
   "metadata": {},
   "source": [
    "Podemos observar que no clasifica muy bien para el conjunto de test, con un porcentaje del 60%, mientras que para el conjunto de entrenamiento tiene una tasa de acierto de 0.17, con lo cual podemos decir que el clasificador aprende muy despacio, se degrada mucho en entrenamiento."
   ]
  },
  {
   "cell_type": "code",
   "execution_count": 44,
   "metadata": {},
   "outputs": [
    {
     "data": {
      "text/plain": [
       "array(['sport', 'sport', 'business', 'entertainment', 'entertainment',\n",
       "       'tech', 'politics', 'sport', 'tech', 'politics', 'sport',\n",
       "       'entertainment', 'business', 'entertainment', 'business', 'sport',\n",
       "       'tech', 'business', 'business', 'entertainment', 'sport', 'sport',\n",
       "       'entertainment', 'business', 'entertainment', 'tech',\n",
       "       'entertainment', 'sport', 'politics', 'politics', 'sport', 'sport',\n",
       "       'sport', 'entertainment', 'politics', 'politics', 'sport',\n",
       "       'entertainment', 'tech', 'entertainment', 'sport', 'politics',\n",
       "       'sport', 'entertainment', 'tech', 'tech', 'sport', 'sport',\n",
       "       'sport', 'politics', 'sport', 'business', 'entertainment',\n",
       "       'entertainment', 'sport', 'entertainment', 'entertainment',\n",
       "       'entertainment', 'politics', 'sport', 'sport', 'tech', 'business',\n",
       "       'sport', 'entertainment', 'politics', 'politics', 'sport',\n",
       "       'entertainment', 'sport', 'entertainment', 'entertainment',\n",
       "       'business', 'tech', 'politics', 'business', 'tech', 'business',\n",
       "       'politics', 'sport', 'sport', 'sport', 'politics', 'sport',\n",
       "       'sport', 'entertainment', 'politics', 'politics', 'tech', 'tech',\n",
       "       'business', 'tech', 'business', 'business', 'entertainment',\n",
       "       'sport', 'tech', 'tech', 'tech', 'sport', 'sport', 'politics',\n",
       "       'entertainment', 'business', 'sport', 'politics', 'politics',\n",
       "       'tech', 'tech', 'sport', 'entertainment', 'entertainment', 'sport',\n",
       "       'sport', 'tech', 'sport', 'sport', 'tech', 'business', 'sport',\n",
       "       'tech', 'sport', 'sport', 'entertainment', 'tech', 'entertainment',\n",
       "       'sport', 'tech', 'business', 'politics', 'tech', 'entertainment',\n",
       "       'entertainment', 'tech', 'sport', 'politics', 'business',\n",
       "       'business', 'tech', 'entertainment', 'business', 'entertainment',\n",
       "       'politics', 'politics', 'tech', 'sport', 'politics', 'sport',\n",
       "       'politics', 'tech', 'tech', 'business', 'entertainment',\n",
       "       'business', 'tech', 'business', 'business', 'sport', 'business',\n",
       "       'sport', 'entertainment', 'entertainment', 'entertainment',\n",
       "       'entertainment', 'politics', 'politics', 'sport', 'politics',\n",
       "       'business', 'politics', 'sport', 'politics', 'tech', 'politics',\n",
       "       'tech', 'tech', 'business', 'business', 'sport', 'politics',\n",
       "       'entertainment', 'tech', 'politics', 'politics', 'politics',\n",
       "       'business', 'sport', 'business', 'politics', 'sport',\n",
       "       'entertainment', 'business', 'politics', 'sport', 'politics',\n",
       "       'entertainment', 'politics', 'entertainment', 'tech',\n",
       "       'entertainment', 0, 0, 0, 0, 0, 0, 0, 0, 0, 0, 0, 0, 0, 0, 0, 0, 0,\n",
       "       0, 0, 0, 0, 0, 0, 0, 0, 0, 0, 0, 0, 0, 0, 0, 0, 0, 0, 0, 0, 0, 0,\n",
       "       0, 0, 0, 0, 0, 0, 0, 0, 0, 0, 0, 0, 0, 0, 0, 0, 0, 0, 0, 0, 0, 0,\n",
       "       0, 0, 0, 0, 0, 0, 0, 0, 0, 0, 0, 0, 0, 0, 0, 0, 0, 0, 0, 0, 0, 0,\n",
       "       0, 0, 0, 0, 0, 0, 0, 0, 0, 0, 0, 0, 0, 0, 0], dtype=object)"
      ]
     },
     "execution_count": 44,
     "metadata": {},
     "output_type": "execute_result"
    }
   ],
   "source": [
    "gnb_test_predictions"
   ]
  },
  {
   "cell_type": "markdown",
   "metadata": {},
   "source": [
    "Observamos que hay predicciones que no se llegan a producir. No sabemos si es por falta de datos o por nivel de cómputo de la maquina donde se esta  ejecutando o porque no admite valores negativos. Por ello añadimos una nueva categoria (categoria 0 para que se identifique en la predicciones), que indica lo explicado anteriormente."
   ]
  },
  {
   "cell_type": "code",
   "execution_count": 47,
   "metadata": {},
   "outputs": [
    {
     "name": "stdout",
     "output_type": "stream",
     "text": [
      "               precision    recall  f1-score   support\n",
      "\n",
      "     business       0.94      0.52      0.67        56\n",
      "         tech       0.77      0.56      0.65        48\n",
      "     politics       0.90      0.67      0.77        52\n",
      "        sport       0.96      0.64      0.77        80\n",
      "entertainment       0.93      0.63      0.75        62\n",
      "\n",
      "    micro avg       0.91      0.61      0.73       298\n",
      "    macro avg       0.90      0.60      0.72       298\n",
      " weighted avg       0.91      0.61      0.73       298\n",
      "\n"
     ]
    }
   ],
   "source": [
    "#utilizamos astype porque la matriz contiene elementos de tipos diferentes\n",
    "classifier = gnb_classifier\n",
    "predictions = gnb_test_predictions.astype(str)\n",
    "names =[\"business\",\"tech\",\"politics\",\"sport\",\"entertainment\"]\n",
    "\n",
    "print(classification_report(test_data['Category'], predictions, labels=names))"
   ]
  },
  {
   "cell_type": "markdown",
   "metadata": {},
   "source": [
    "El mal funcionamiento de este clasificador tiene que ver con que la distribución de los valores que tienen los términos en un documento no siguen una distribución normal. Para empezar no es simétrica, sino asimétrica a la derecha."
   ]
  },
  {
   "cell_type": "code",
   "execution_count": 48,
   "metadata": {},
   "outputs": [
    {
     "data": {
      "text/plain": [
       "<AxesSubplot:ylabel='Density'>"
      ]
     },
     "execution_count": 48,
     "metadata": {},
     "output_type": "execute_result"
    },
    {
     "data": {
      "image/png": "[encoded data removed]",
      "text/plain": [
       "<Figure size 432x288 with 1 Axes>"
      ]
     },
     "metadata": {
      "needs_background": "light"
     },
     "output_type": "display_data"
    },
    {
     "data": {
      "image/png": "[encoded data removed]",
      "text/plain": [
       "<Figure size 432x288 with 1 Axes>"
      ]
     },
     "metadata": {
      "needs_background": "light"
     },
     "output_type": "display_data"
    },
    {
     "data": {
      "image/png": "[encoded data removed]",
      "text/plain": [
       "<Figure size 432x288 with 1 Axes>"
      ]
     },
     "metadata": {
      "needs_background": "light"
     },
     "output_type": "display_data"
    }
   ],
   "source": [
    "term=pd.DataFrame(data= train_preprocessed[:,2500].toarray(), columns=[feature_names[2500]])\n",
    "term.plot.density()\n",
    "\n",
    "term=pd.DataFrame(data= train_preprocessed[:,5000].toarray(), columns=[feature_names[5000]])\n",
    "term.plot.density()\n",
    "\n",
    "term=pd.DataFrame(data= train_preprocessed[:,11000].toarray(), columns=[feature_names[11000]])\n",
    "term.plot.density()"
   ]
  },
  {
   "cell_type": "markdown",
   "metadata": {},
   "source": [
    "#### Matriz de confusion"
   ]
  },
  {
   "cell_type": "code",
   "execution_count": 50,
   "metadata": {},
   "outputs": [
    {
     "data": {
      "text/plain": [
       "(array([0.5, 1.5, 2.5, 3.5, 4.5, 5.5]),\n",
       " [Text(0.5, 0, 'business'),\n",
       "  Text(1.5, 0, 'tech'),\n",
       "  Text(2.5, 0, 'politics'),\n",
       "  Text(3.5, 0, 'sport'),\n",
       "  Text(4.5, 0, 'entertainment'),\n",
       "  Text(5.5, 0, '0')])"
      ]
     },
     "execution_count": 50,
     "metadata": {},
     "output_type": "execute_result"
    },
    {
     "data": {
      "image/png": "[encoded data removed]",
      "text/plain": [
       "<Figure size 1080x720 with 2 Axes>"
      ]
     },
     "metadata": {
      "needs_background": "light"
     },
     "output_type": "display_data"
    }
   ],
   "source": [
    "#Añadimos una columna extra que indica los textos que no se han llegado a clasificar\n",
    "names =[\"business\",\"tech\",\"politics\",\"sport\",\"entertainment\",\"0\"]\n",
    "\n",
    "conf_matrix = confusion_matrix(test_data['Category'], predictions)\n",
    "conf_matrix_df = pd.DataFrame(conf_matrix, index=names, columns=names)\n",
    "\n",
    "plt.figure(figsize=(15, 10))\n",
    "sn.heatmap(conf_matrix_df, annot=True, vmin=0, vmax=conf_matrix.max(), fmt='d', cmap=\"YlGnBu\")\n",
    "plt.yticks(rotation=0)\n",
    "plt.xticks(rotation=90)"
   ]
  },
  {
   "cell_type": "markdown",
   "metadata": {},
   "source": [
    "Observamos que para todos las clases de textos queestamos predcciendo, el clasificador falla mucho con respecto a la categoria de business. A demás, como hemos comentado antes, se dan casos en los que el clasificador no es capaz de asignar una clase al texto, cosa que con los anteriores clasificadores no ocurría."
   ]
  },
  {
   "cell_type": "markdown",
   "metadata": {},
   "source": [
    "### Clasificador kNN"
   ]
  },
  {
   "cell_type": "code",
   "execution_count": 62,
   "metadata": {
    "scrolled": true
   },
   "outputs": [
    {
     "name": "stdout",
     "output_type": "stream",
     "text": [
      "k-NN, porcentaje de aciertos en entrenamiento: 0.9563758389261745\n",
      "k-NN, porcentaje de aciertos en test: 0.9194630872483222\n"
     ]
    }
   ],
   "source": [
    "#usamos la distancia euclídea (por defecto)\n",
    "knn_classifier = neighbors.KNeighborsClassifier()\n",
    "knn_classifier.fit(train_preprocessed, train_data['Category'])\n",
    "\n",
    "knn_train_predictions = knn_classifier.predict(train_preprocessed)\n",
    "knn_test_predictions = knn_classifier.predict(test_preprocessed)\n",
    "\n",
    "print(\"k-NN, porcentaje de aciertos en entrenamiento:\", np.mean(knn_train_predictions == train_data['Category']))\n",
    "print(\"k-NN, porcentaje de aciertos en test:\", np.mean(knn_test_predictions == test_data['Category']))"
   ]
  },
  {
   "cell_type": "code",
   "execution_count": 63,
   "metadata": {},
   "outputs": [
    {
     "data": {
      "text/plain": [
       "(array([0.5, 1.5, 2.5, 3.5, 4.5]),\n",
       " [Text(0.5, 0, 'business'),\n",
       "  Text(1.5, 0, 'tech'),\n",
       "  Text(2.5, 0, 'politics'),\n",
       "  Text(3.5, 0, 'sport'),\n",
       "  Text(4.5, 0, 'entertainment')])"
      ]
     },
     "execution_count": 63,
     "metadata": {},
     "output_type": "execute_result"
    },
    {
     "data": {
      "image/png": "[encoded data removed]",
      "text/plain": [
       "<Figure size 1080x720 with 2 Axes>"
      ]
     },
     "metadata": {
      "needs_background": "light"
     },
     "output_type": "display_data"
    }
   ],
   "source": [
    "#Añadimos una columna extra que indica los textos que no se han llegado a clasificar\n",
    "names =[\"business\",\"tech\",\"politics\",\"sport\",\"entertainment\"]\n",
    "\n",
    "conf_matrix = confusion_matrix(test_data['Category'], knn_test_predictions)\n",
    "conf_matrix_df = pd.DataFrame(conf_matrix, index=names, columns=names)\n",
    "\n",
    "plt.figure(figsize=(15, 10))\n",
    "sn.heatmap(conf_matrix_df, annot=True, vmin=0, vmax=conf_matrix.max(), fmt='d', cmap=\"YlGnBu\")\n",
    "plt.yticks(rotation=0)\n",
    "plt.xticks(rotation=90)"
   ]
  },
  {
   "cell_type": "markdown",
   "metadata": {},
   "source": [
    "Podemos ver que para el modelo kNN, aprende bastante bien, teniendo porcentajes bastante similare de acierto, con lo cual podemos decir que el clasisificador esta aprendiendo de forma correcta.\n",
    "\n",
    "La matriz de confusión nos desglosa los fallos del clasificador, y vemos que donde más fallos se producen son entre las clases politics y business, con un total de 5 fallos sobre 102 casos."
   ]
  },
  {
   "cell_type": "markdown",
   "metadata": {},
   "source": [
    "## 4) Análisis comparativo final\n",
    "\n",
    "Hemos entrenado dos clasificadores usando dos vectorizaciones diferentes de los datos. Compara la tasa de acierto de todos ellos y explica a qué crees que se deben las diferencias.\n",
    "\n",
    "Busca un mensaje mal clasificado por el Naive Bayes con vectorización de frecuencias y otro mal clasificado por el k-NN con Word-embeddings. Analiza los vectores de términos de dichos mensajes e intenta razonar por qué ha sido clasificado erróneamente.\n",
    "\n",
    "Para el Naive Bayes con vectorización de frecuencias, elige dos clases donde el clasificador no haya funcionado bien y analiza las palabras más relevantes para clasificar una noticia como de dichas clases. Razona si lo que ves crees que influye en la posible confusión a la hora de clasificar entre dichas clases."
   ]
  },
  {
   "cell_type": "markdown",
   "metadata": {},
   "source": [
    "#### Comparativa de tasas de acierto"
   ]
  },
  {
   "cell_type": "markdown",
   "metadata": {},
   "source": [
    "Vectorización usando el modelo de bolsa de palabras\n",
    "\n",
    "    Clasificador Naive Bayes Multinomial\n",
    "        porcentaje de aciertos en entrenamiento: 0.9941275167785235\n",
    "        porcentaje de aciertos en test: 0.9731543624161074\n",
    "\n",
    "    Clasificador k-NN\n",
    "        porcentaje de aciertos en entrenamiento: 0.9563758389261745\n",
    "        porcentaje de aciertos en test: 0.9194630872483222\n",
    "        \n",
    "Vectorización usando word-embeddings\n",
    "\n",
    "    Clasificador Naive Bayes Gaussiano\n",
    "        porcentaje de aciertos en entrenamiento: 0.16778523489932887\n",
    "        porcentaje de aciertos en test: 0.6073825503355704\n",
    "        \n",
    "    Clasificador kNN\n",
    "        porcentaje de aciertos en entrenamiento: 0.9563758389261745\n",
    "        porcentaje de aciertos en test: 0.9228187919463087"
   ]
  },
  {
   "cell_type": "markdown",
   "metadata": {},
   "source": [
    "Como podemos observar, salvo el clasificador Gaussiano con vectorización usando word-embeddings cuyas tasas de aciertos son muy inferiores al resto, los demás clasificadores alcanzan una tasa de aciertos, tanto en test como en entrenamiento, similar y muy elevada entre ellos.\n",
    "\n",
    "Para el clasificador Naive Bayes Gaussiano, y como hemos visto antes, el mal funcionamiento tiene que ver con que la distribución de los valores que tienen los términos en un documento no siguen una distribución normal"
   ]
  },
  {
   "cell_type": "markdown",
   "metadata": {},
   "source": [
    "En los clasificadores Naive Bayes, las variables predictoras son independientes entre sí, echo que puede afectar negativamente en la clasificación de textos de este ejercicio. A demás, estos algorítmos asignan una probabilidad de cero cuando en el conjunto de datos se tiene una característica no observada, lo que puede hacer que no sean tan eficaces para ciertos casos o incluso como hemos visto, que no sean capaces de determinar una clasificación.\n",
    "Sin embargo, tienen en cuenta desde las variables más frecuentes hasta las que no llegan a aparecer y al proporcionarle bigramas o el valor TF/IDF de una bolsa de palabras con respecto a su corpus, permiten ponderar mejor al clasificador la relevancia de las variables dentro de cada clase. "
   ]
  },
  {
   "cell_type": "markdown",
   "metadata": {},
   "source": [
    "Por otro lado, y en comparación con el clasificador Naive Bayes, el clasificador KNN es más simple pero más seguro, dado que siempre asocia una solución de predicción en funcion del valor K que determinemos, aunque no sea óptima. Sin embargo, está muy ligado al almacenamiento de los datos de entrenamiento para dar una predicción, lo que computacionalmente es contraproducente pero no afecta a la efectividad de la predicción del mismo."
   ]
  },
  {
   "cell_type": "markdown",
   "metadata": {},
   "source": [
    "#### Mensaje mal clasificado por el Naive Bayes con vectorización de frecuencias"
   ]
  },
  {
   "cell_type": "markdown",
   "metadata": {},
   "source": [
    "Para este caso, observando la matriz de confusión y la tasa de aciertos, vemos que apenas hay errores en la clasificación y los más frecuentes se producen entre las clases politics y tech, donde el clasificador falla 3 veces de un total de 111."
   ]
  },
  {
   "cell_type": "code",
   "execution_count": 53,
   "metadata": {},
   "outputs": [],
   "source": [
    "vectorizer = CountVectorizer(stop_words='english', binary=False,ngram_range=(1,1))\n",
    "train_vector_data=vectorizer.fit_transform(train_data['Text'])\n",
    "\n",
    "# Calculamos el valor TF-IDF \n",
    "tfidfer = TfidfTransformer()\n",
    "train_preprocessed = tfidfer.fit_transform(train_vector_data)\n",
    "\n",
    "# Tomamos los textos del conjunto de test y los transformamos en una matriz\n",
    "# de palabras. Al usar \"transform\" toma como referencia únicamente las palabras\n",
    "# encontradas en el conjunto de entrenamiento\n",
    "test_vector_data=vectorizer.transform(test_data['Text'])\n",
    "# Calculamos el valor TF-IDF \n",
    "# Al usar \"transform\" toma como IDF el del conjunto de entrenamiento \n",
    "test_preprocessed=tfidfer.transform(test_vector_data)\n",
    "mnb_classifier = MultinomialNB()\n",
    "\n",
    "mnb_classifier.fit(train_preprocessed, train_data['Category'])\n",
    "\n",
    "mnb_train_predictions = mnb_classifier.predict(train_preprocessed)\n",
    "mnb_test_predictions = mnb_classifier.predict(test_preprocessed)\n"
   ]
  },
  {
   "cell_type": "code",
   "execution_count": 55,
   "metadata": {},
   "outputs": [],
   "source": [
    "def print_top25_features_per_class_in_NB(vectorizerF2, clf, target_names):\n",
    "    \"\"\"Prints features with the highest coefficient values, per class\"\"\"\n",
    "    feature_namesF2 = vectorizerF2.get_feature_names()\n",
    "    print(\"Top 25 features per class\\n\")\n",
    "    for i, target_names in enumerate(target_names):\n",
    "        top25 = np.argsort(clf.feature_log_prob_[i])[-25:]\n",
    "        reversed_top = top25[::-1]\n",
    "        \n",
    "        print(\"%s: %s\" % (target_names,\n",
    "              \" / \".join(feature_namesF2[j] for j in reversed_top)),'\\n')\n",
    "        \n",
    "        #Descomentar para ver el índice de los términos en el diccionario\n",
    "        #print(\"%s \" % (\" / \".join(str(j) for j in reversed_top)),'\\n')"
   ]
  },
  {
   "cell_type": "code",
   "execution_count": 58,
   "metadata": {},
   "outputs": [
    {
     "name": "stdout",
     "output_type": "stream",
     "text": [
      "Top 25 features per class\n",
      "\n",
      "business: said / growth / market / year / economy / bank / firm / company / economic / oil / mr / sales / dollar / shares / 2004 / china / prices / government / new / india / profits / yukos / rates / deal / analysts \n",
      "\n",
      "tech: film / best / music / band / said / awards / award / album / actor / chart / star / year / number / tv / films / oscar / festival / singer / won / comedy / new / actress / director / uk / song \n",
      "\n",
      "politics: mr / labour / said / blair / election / party / government / brown / minister / howard / prime / tax / people / plans / tory / chancellor / tories / lord / secretary / lib / leader / uk / britain / eu / campaign \n",
      "\n",
      "sport: england / game / win / said / chelsea / cup / match / players / ireland / team / final / season / play / club / world / wales / time / half / injury / year / france / coach / rugby / arsenal / champion \n",
      "\n",
      "entertainment: people / mobile / said / software / technology / users / digital / net / phone / broadband / music / microsoft / games / computer / use / online / phones / video / virus / service / mr / million / new / data / tv \n",
      "\n"
     ]
    }
   ],
   "source": [
    "names=[\"business\",\"tech\",\"politics\",\"sport\",\"entertainment\"]\n",
    "print_top25_features_per_class_in_NB(vectorizer,mnb_classifier,names) "
   ]
  },
  {
   "cell_type": "markdown",
   "metadata": {},
   "source": [
    "Vemos cuales son las palabras más frecuentes para cada clase, dado que para encontrar un mensaje mal clasificado por este clasificador, deberiamos de buscar 3 de los 114 mensajes donde se encuentran los mal clasificados."
   ]
  },
  {
   "cell_type": "markdown",
   "metadata": {},
   "source": [
    "Vemos que las clases politics y tech, las cuales hemos visto en la matriz de confusión que son las clases donde el clasificador comete más fallos, comparten palabras como \"said\" y \"uk\", por lo que, viendo el numero de casos donde falla el casificador, podemos suponer que un motivo de sea la compartición de palabras."
   ]
  },
  {
   "cell_type": "markdown",
   "metadata": {},
   "source": [
    "#### Mensaje mal clasificado por el k-NN con Word-embeddings"
   ]
  },
  {
   "cell_type": "markdown",
   "metadata": {},
   "source": [
    "Para este caso, observando la matriz de confusión y la tasa de aciertos, vemos que apenas hay errores en la clasificación y los más frecuentes se producen entre las clases politics y business, donde el clasificador falla 5 veces de un total de 102."
   ]
  }
 ],
 "metadata": {
  "kernelspec": {
   "display_name": "Python 3 (ipykernel)",
   "language": "python",
   "name": "python3"
  },
  "language_info": {
   "codemirror_mode": {
    "name": "ipython",
    "version": 3
   },
   "file_extension": ".py",
   "mimetype": "text/x-python",
   "name": "python",
   "nbconvert_exporter": "python",
   "pygments_lexer": "ipython3",
   "version": "3.9.7"
  }
 },
 "nbformat": 4,
 "nbformat_minor": 2
}
