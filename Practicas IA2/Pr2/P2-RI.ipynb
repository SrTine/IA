{
 "cells": [
  {
   "cell_type": "markdown",
   "metadata": {
    "id": "jpd0gkGnpzXT"
   },
   "source": [
    "# Práctica 2: Procesamiento del Lenguaje Natural\n",
    "\n",
    "__Fecha de entrega: 17 de abril de 2022__\n",
    "\n",
    "El objetivo de esta práctica es aplicar los conceptos teóricos vistos en clase en el módulo de PLN. La práctica consta de 2 notebooks que se entregarán simultáneamente en la tarea de entrega habilitada en el Campus  Virtual.\n",
    "\n",
    "Lo más importante en esta práctica no es el código Python, sino el análisis de los datos y modelos que construyas y las explicaciones razonadas de cada una de las decisiones que tomes. __No se valorarán trozos de código o gráficas sin ningún tipo de contexto o explicación__.\n",
    "\n",
    "Finalmente, recuerda establecer el parámetro `random_state` en todas las funciones que tomen decisiones aleatorias para que los resultados sean reproducibles (los resultados no varíen entre ejecuciones)."
   ]
  },
  {
   "cell_type": "code",
   "execution_count": 1,
   "metadata": {
    "id": "IBx1oG6bpzXY"
   },
   "outputs": [],
   "source": [
    "RANDOM_STATE = 10"
   ]
  },
  {
   "cell_type": "markdown",
   "metadata": {
    "id": "TkJPtLPRpzXa"
   },
   "source": [
    "# Apartado 2: Recuperación de información"
   ]
  },
  {
   "cell_type": "markdown",
   "metadata": {
    "id": "RWQ9sB-ApzXc"
   },
   "source": [
    "__Número de grupo: 5__\n",
    "\n",
    "__Nombres de los estudiantes: Jorge Villacorta y Pablo Martinez__"
   ]
  },
  {
   "cell_type": "markdown",
   "metadata": {
    "id": "W1iFIS_EpzXc"
   },
   "source": [
    "## 1) Carga del conjunto de datos\n",
    "\n",
    "El fichero `BBC News.csv` contiene noticias clasificadas en 5 categorías diferentes. \n",
    "\n",
    "Carga los datos en un dataframe teniendo en cuenta que la columna `ArticleId` es un identificador de la noticia y por lo tanto no lo vamos a usar. \n",
    "\n",
    "Estudia el tamaño del conjunto de datos y la proporción de noticias que pertenecen a cada una de las categorías.\n",
    "\n",
    "Crea una partición estratificada de los datos dejando el 80% para entrenamiento y el 20% restante para test usando la función `train_test_split` de sklearn. "
   ]
  },
  {
   "cell_type": "code",
   "execution_count": 2,
   "metadata": {
    "id": "ufbBvGcnpzXe"
   },
   "outputs": [
    {
     "data": {
      "text/html": [
       "<div>\n",
       "<style scoped>\n",
       "    .dataframe tbody tr th:only-of-type {\n",
       "        vertical-align: middle;\n",
       "    }\n",
       "\n",
       "    .dataframe tbody tr th {\n",
       "        vertical-align: top;\n",
       "    }\n",
       "\n",
       "    .dataframe thead th {\n",
       "        text-align: right;\n",
       "    }\n",
       "</style>\n",
       "<table border=\"1\" class=\"dataframe\">\n",
       "  <thead>\n",
       "    <tr style=\"text-align: right;\">\n",
       "      <th></th>\n",
       "      <th>Text</th>\n",
       "      <th>Category</th>\n",
       "    </tr>\n",
       "  </thead>\n",
       "  <tbody>\n",
       "    <tr>\n",
       "      <th>0</th>\n",
       "      <td>worldcom ex-boss launches defence lawyers defe...</td>\n",
       "      <td>business</td>\n",
       "    </tr>\n",
       "    <tr>\n",
       "      <th>1</th>\n",
       "      <td>german business confidence slides german busin...</td>\n",
       "      <td>business</td>\n",
       "    </tr>\n",
       "    <tr>\n",
       "      <th>2</th>\n",
       "      <td>bbc poll indicates economic gloom citizens in ...</td>\n",
       "      <td>business</td>\n",
       "    </tr>\n",
       "    <tr>\n",
       "      <th>3</th>\n",
       "      <td>lifestyle  governs mobile choice  faster  bett...</td>\n",
       "      <td>tech</td>\n",
       "    </tr>\n",
       "    <tr>\n",
       "      <th>4</th>\n",
       "      <td>enron bosses in $168m payout eighteen former e...</td>\n",
       "      <td>business</td>\n",
       "    </tr>\n",
       "    <tr>\n",
       "      <th>...</th>\n",
       "      <td>...</td>\n",
       "      <td>...</td>\n",
       "    </tr>\n",
       "    <tr>\n",
       "      <th>1485</th>\n",
       "      <td>double eviction from big brother model caprice...</td>\n",
       "      <td>entertainment</td>\n",
       "    </tr>\n",
       "    <tr>\n",
       "      <th>1486</th>\n",
       "      <td>dj double act revamp chart show dj duo jk and ...</td>\n",
       "      <td>entertainment</td>\n",
       "    </tr>\n",
       "    <tr>\n",
       "      <th>1487</th>\n",
       "      <td>weak dollar hits reuters revenues at media gro...</td>\n",
       "      <td>business</td>\n",
       "    </tr>\n",
       "    <tr>\n",
       "      <th>1488</th>\n",
       "      <td>apple ipod family expands market apple has exp...</td>\n",
       "      <td>tech</td>\n",
       "    </tr>\n",
       "    <tr>\n",
       "      <th>1489</th>\n",
       "      <td>santy worm makes unwelcome visit thousands of ...</td>\n",
       "      <td>tech</td>\n",
       "    </tr>\n",
       "  </tbody>\n",
       "</table>\n",
       "<p>1490 rows × 2 columns</p>\n",
       "</div>"
      ],
      "text/plain": [
       "                                                   Text       Category\n",
       "0     worldcom ex-boss launches defence lawyers defe...       business\n",
       "1     german business confidence slides german busin...       business\n",
       "2     bbc poll indicates economic gloom citizens in ...       business\n",
       "3     lifestyle  governs mobile choice  faster  bett...           tech\n",
       "4     enron bosses in $168m payout eighteen former e...       business\n",
       "...                                                 ...            ...\n",
       "1485  double eviction from big brother model caprice...  entertainment\n",
       "1486  dj double act revamp chart show dj duo jk and ...  entertainment\n",
       "1487  weak dollar hits reuters revenues at media gro...       business\n",
       "1488  apple ipod family expands market apple has exp...           tech\n",
       "1489  santy worm makes unwelcome visit thousands of ...           tech\n",
       "\n",
       "[1490 rows x 2 columns]"
      ]
     },
     "execution_count": 2,
     "metadata": {},
     "output_type": "execute_result"
    }
   ],
   "source": [
    "import matplotlib.pyplot as plt\n",
    "import pandas as pd\n",
    "import numpy as np\n",
    "\n",
    "df = pd.read_csv('BBC News.csv')\n",
    "df = pd.DataFrame(df, columns= ['Text','Category'])\n",
    "\n",
    "df"
   ]
  },
  {
   "cell_type": "code",
   "execution_count": 27,
   "metadata": {
    "scrolled": true
   },
   "outputs": [
    {
     "name": "stdout",
     "output_type": "stream",
     "text": [
      "1192\n",
      "298\n"
     ]
    }
   ],
   "source": [
    "from sklearn.model_selection import train_test_split\n",
    "\n",
    "train_data, test_data = train_test_split(df, test_size=0.2, random_state=10)\n",
    "\n",
    "aux= {'Text' : train_data.Text.tolist(),\n",
    "     'Category' : train_data.Category.tolist()}\n",
    "\n",
    "train_data = pd.DataFrame(aux, columns = ['Text', 'Category'])\n",
    "\n",
    "aux= {'Text' : test_data.Text.tolist(),\n",
    "     'Category' : test_data.Category.tolist()}\n",
    "\n",
    "test_data = pd.DataFrame(aux, columns = ['Text', 'Category'])\n",
    "\n",
    "print(len(train_data))\n",
    "print(len(test_data))"
   ]
  },
  {
   "cell_type": "markdown",
   "metadata": {},
   "source": [
    "Hasta aqui, realizamos los mismo pasos que hemos realizado en la parte 1, con lo cual no hay nada destacable que comentar en esta seccion de la practica."
   ]
  },
  {
   "cell_type": "markdown",
   "metadata": {
    "id": "3Fx5hJC7pzXf"
   },
   "source": [
    "## 2) Representación basada en bolsa de palabras y tf-idf\n",
    "\n",
    "La primera vectorización que vamos a usar representará los mensajes usando el modelo de bolsa de palabras, monogramas y el valor tf-idf de cada palabra. Usa como _stop words_ las que vienen configuradas por defecto para el inglés.\n",
    "\n",
    "Aplica la vectorización a los conjuntos de mensajes de entrenamiento y test. Muestra algún mensaje tanto en su formato de texto original como en la versión vectorizada. ¿Qué palabras se han eliminado y por qué?\n",
    "\n",
    "Calcula la precisión@5 de cada una de las clases usando como consultas los documentos de la partición de test y la similitud del coseno. Vamos a considerar que un documento recuperado es relevante cuando pertenezca a la misma clase que la consulta.\n",
    "\n",
    "Dibuja los resultados en un diagrama de barras y comenta las clases en las que se comporta mejor y peor. ¿Crees que los resultados son buenos?"
   ]
  },
  {
   "cell_type": "code",
   "execution_count": 4,
   "metadata": {},
   "outputs": [],
   "source": [
    "from sklearn.feature_extraction.text import CountVectorizer\n",
    "from sklearn.feature_extraction.text import TfidfTransformer\n",
    "from sklearn.metrics import classification_report, confusion_matrix"
   ]
  },
  {
   "cell_type": "code",
   "execution_count": 46,
   "metadata": {
    "id": "wKdL2-VSpzXg",
    "scrolled": true
   },
   "outputs": [
    {
     "name": "stdout",
     "output_type": "stream",
     "text": [
      "11481\n"
     ]
    }
   ],
   "source": [
    "# Utilizamos como stop_words las que vienen configuradas por defecto para el inglés\n",
    "vectorizer = CountVectorizer(stop_words='english', binary=False,ngram_range=(1,1))\n",
    "\n",
    "train_vector_data=vectorizer.fit_transform(train_data.Text)\n",
    "test_vector_data = vectorizer.fit_transform(test_data.Text)\n",
    "\n",
    "feature_names = vectorizer.get_feature_names ()\n",
    "print(len(feature_names))"
   ]
  },
  {
   "cell_type": "code",
   "execution_count": 47,
   "metadata": {
    "scrolled": true
   },
   "outputs": [
    {
     "name": "stdout",
     "output_type": "stream",
     "text": [
      "['000', '000m', '000th', '0130', '028', '033', '04', '0400', '04secs', '05', '05m', '06', '070', '0800', '0845', '10', '100', '100bn', '100m', '101', '102', '1080', '109', '109m', '10bn', '10m', '10th', '11', '110m', '111']\n",
      "['advanced', 'advancing', 'advantage', 'adventure', 'adversely', 'adversity', 'advertisements', 'advertising', 'adverts', 'advice', 'advise', 'advised', 'adviser', 'advising', 'advisory', 'advocate', 'aero', 'aeronautics', 'aeroplane', 'aerosmith', 'aerospace', 'aesthetic', 'aesthetically', 'aesthetics', 'affable', 'affair', 'affairs', 'affect', 'affected', 'affectionately']\n",
      "['youzhny', 'yuan', 'yugansk', 'yuganskneftegaz', 'yugoslavian', 'yukos', 'yusuf', 'zach', 'zajec', 'zar', 'zara', 'zealand', 'zealander', 'zealous', 'zed', 'zeeuw', 'zenden', 'zenith', 'zero', 'zeta', 'zhang', 'ziers', 'ziyi', 'zoellick', 'zone', 'zooms', 'zooropa', 'zuluaga', 'zurich', 'zvonareva']\n"
     ]
    }
   ],
   "source": [
    "print(feature_names[:30])\n",
    "print(feature_names[600:630])\n",
    "print(feature_names[-30:])"
   ]
  },
  {
   "cell_type": "markdown",
   "metadata": {},
   "source": [
    "Podemos observar que hay bastante terminos alfanumericos que no tienen mucho sentido, con lo cual vamos a solucionar esto haciendo uso del parametro token_pattern de CountVectorizer para eliminar estos terminos aparentemente irrelevantes."
   ]
  },
  {
   "cell_type": "code",
   "execution_count": 48,
   "metadata": {},
   "outputs": [
    {
     "name": "stdout",
     "output_type": "stream",
     "text": [
      "21075\n"
     ]
    }
   ],
   "source": [
    "vectorizer = CountVectorizer(stop_words='english', binary=False, ngram_range=(1,1), token_pattern=r'(?u)\\b[A-Za-z]+\\b') \n",
    "\n",
    "train_vector_data=vectorizer.fit_transform(train_data.Text)\n",
    "\n",
    "feature_names = vectorizer.get_feature_names ()\n",
    "print(len(feature_names))\n"
   ]
  },
  {
   "cell_type": "markdown",
   "metadata": {},
   "source": [
    "Podemos observar que se han eliminado 105 entradas, con lo cual al final no habia tanto \"ruido\" en el diccionario, apenas un 0.4% del conjunto total de terminos, pero sigue siendo bueno poder quitar ese ruido existente"
   ]
  },
  {
   "cell_type": "markdown",
   "metadata": {},
   "source": [
    "Ahora procederemos a printear algunos mensajes, y ver que palabras se han eliminado en su forma vectorizada, para asi poder determinar que peso se le da a los distintos terminos que tenemos en el diccionario."
   ]
  },
  {
   "cell_type": "code",
   "execution_count": 49,
   "metadata": {},
   "outputs": [],
   "source": [
    "import numpy.ma as ma\n",
    "\n",
    "def write_terms (feature_names, data, vector_data, index):\n",
    "    '''\n",
    "    Escribe los términos presentes en un mensaje representado como bolsa de palabras.\n",
    "    \n",
    "    - feature_names: terminos usados para vectorizar\n",
    "    - data: lista de mensajes original (si data==None no se muestra el mensaje original)\n",
    "    - vector_data: matriz (dispersa) de mensaje vectorizados\n",
    "    - index: posición del mensaje a mostrar\n",
    "    '''\n",
    "    # máscara para seleccionar sólo el mensaje en posición index\n",
    "    mask=vector_data[index,:]>0\n",
    "    \n",
    "    # términos que aparecen en ese mensaje vectorizado\n",
    "    terminos = ma.array(feature_names, mask = ~(mask[0].toarray()))\n",
    "    \n",
    "    # mostrar mensaje original\n",
    "    if data is not None:\n",
    "        print('Mensaje', index, ':', data[index],'\\n')\n",
    "    \n",
    "    # mostrar términos que aparecen en el mensaje vectorizado\n",
    "    print('Mensaje', index, 'vectorizado:', terminos.compressed(),'\\n')"
   ]
  },
  {
   "cell_type": "code",
   "execution_count": 50,
   "metadata": {},
   "outputs": [],
   "source": [
    "from sklearn.feature_extraction.text import TfidfTransformer \n",
    "\n",
    "tfidftrans = TfidfTransformer()\n",
    "train_preprocessed = tfidftrans.fit_transform(train_vector_data)"
   ]
  },
  {
   "cell_type": "code",
   "execution_count": 51,
   "metadata": {
    "scrolled": true
   },
   "outputs": [
    {
     "name": "stdout",
     "output_type": "stream",
     "text": [
      "Mensaje 100 : more power to the people says hp the digital revolution is focused on letting people tell and share their own stories  according to carly fiorina  chief of technology giant hewlett packard.  the job of firms such as hp now  she said in a speech at the consumer electronics show (ces)  was to ensure digital and physical worlds fully converged. she said the goal for 2005 was to make people the centre of technology. ces showcases 50 000 new gadgets that will be hitting the shelves in 2005. the tech-fest  the largest of its kind in the world  runs from 6 to 9 january.  the digital revolution is about the democratisation of technology and the experiences it makes possible   she told delegates.  revolution has always been about giving power to the people.  she added:  the real story of the digital revolution is not just new products  but the millions of experiences made possible and stories that millions can tell.  part of giving people more control has been about the freeing up of content  such as images  video and music. crucial to this has been the effort to make devices that speak to each other better so that content can be more easily transferred from one device  such as a digital camera  to others  such as portable media players. a lot of work still needs to be done  however  to sort out compatibility issues and standards within the technology industry so that gadgets just work seamlessly  she said.  ms fiorina s talk also touted the way technology is being designed to focus on lifestyle  fashion and personalisation  something she sees as key to what people want.  special guest  singer gwen stefani  joined her on-stage to promote her own range of hp digital cameras which ms stefani has helped design and which are heavily influenced by japanese youth culture. the digital cameras  which are due to go on sale in the us by the summer  are based on the hp 607 model. the emphasis on personalisation and lifestyle is a big theme at this year s ces  with tiny  wearable mp3 players at every turn and rainbow hues giving colour to everything. ms fiorina also announced that hp was working with nokia to launch a visual radio service for mobiles  which would launch in europe early this year. the service will let people listen to radio on their mobiles and download relevant content  like a track s ringtone  simultaneously. the service is designed to make mobile radio more interactive.  among the other new products she showcased was the digital media hub  a big upgrade to hp s digital entertainment centre. coming out in the autumn in the us  the box is a networked  high-definition tv  cable set-top box  digital video recorder and dvd recorder. it has a removable hard drive cartridge  memory card slots  and light scribe labelling software which lets people design and print customised dvd labels and covers. it is designed to contain all a household s digital media  such as pre-recorded tv shows  pictures  videos and music so it can all be managed in one place. the hub reflects the increasing move to re-box the pc so that it can work as part of other key centres of entertainment. research suggests that about 258 million images are saved and shared every day  equating to 94 billion a year. eighty per cent of those remain on cameras. media hubs are designed to encourage people to organise them on one box. ms fiorina was one of several keynote speakers  who also included microsoft chief bill gates  to set out what major technology companies think people will be doing with technologies and gadgets in the next 12 months. in a separate announcement during the keynote speech  ms fiorina said that hp would be partnering mtv to replace this year s mtv asia music award. mtv s asia aid will be held in bangkok on 3 february  and is aimed at helping to raise money for the asian tsunami disaster. \n",
      "\n",
      "Mensaje 100 vectorizado: ['according' 'added' 'aid' 'aimed' 'announced' 'announcement' 'asia'\n",
      " 'asian' 'autumn' 'award' 'bangkok' 'based' 'better' 'big' 'billion' 'box'\n",
      " 'cable' 'camera' 'cameras' 'card' 'carly' 'cartridge' 'cent' 'centre'\n",
      " 'centres' 'ces' 'chief' 'colour' 'coming' 'companies' 'compatibility'\n",
      " 'consumer' 'contain' 'content' 'control' 'converged' 'covers' 'crucial'\n",
      " 'culture' 'customised' 'day' 'definition' 'delegates' 'democratisation'\n",
      " 'design' 'designed' 'device' 'devices' 'digital' 'disaster' 'doing'\n",
      " 'download' 'drive' 'dvd' 'early' 'easily' 'effort' 'eighty' 'electronics'\n",
      " 'emphasis' 'encourage' 'ensure' 'entertainment' 'equating' 'europe'\n",
      " 'experiences' 'fashion' 'february' 'fest' 'fiorina' 'firms' 'focus'\n",
      " 'focused' 'freeing' 'fully' 'gadgets' 'gates' 'giant' 'giving' 'goal'\n",
      " 'guest' 'gwen' 'hard' 'heavily' 'held' 'helped' 'helping' 'hewlett'\n",
      " 'high' 'hitting' 'household' 'hp' 'hub' 'hubs' 'hues' 'images' 'included'\n",
      " 'increasing' 'industry' 'influenced' 'interactive' 'issues' 'january'\n",
      " 'japanese' 'job' 'joined' 'just' 'key' 'keynote' 'kind' 'labelling'\n",
      " 'labels' 'largest' 'launch' 'let' 'lets' 'letting' 'lifestyle' 'light'\n",
      " 'like' 'listen' 'lot' 'major' 'make' 'makes' 'managed' 'media' 'memory'\n",
      " 'microsoft' 'million' 'millions' 'mobile' 'mobiles' 'model' 'money'\n",
      " 'months' 'ms' 'mtv' 'music' 'needs' 'networked' 'new' 'nokia' 'organise'\n",
      " 'packard' 'partnering' 'pc' 'people' 'personalisation' 'physical'\n",
      " 'pictures' 'place' 'players' 'portable' 'possible' 'power' 'pre' 'print'\n",
      " 'products' 'promote' 'radio' 'rainbow' 'raise' 'range' 'real' 'recorded'\n",
      " 'recorder' 'reflects' 'relevant' 'remain' 'removable' 'replace'\n",
      " 'research' 'revolution' 'ringtone' 'runs' 's' 'said' 'sale' 'saved'\n",
      " 'says' 'scribe' 'seamlessly' 'sees' 'separate' 'service' 'set' 'share'\n",
      " 'shared' 'shelves' 'showcased' 'showcases' 'shows' 'simultaneously'\n",
      " 'singer' 'slots' 'software' 'sort' 'speak' 'speakers' 'special' 'speech'\n",
      " 'stage' 'standards' 'stefani' 'stories' 'story' 'suggests' 'summer'\n",
      " 'talk' 'tech' 'technologies' 'technology' 'tell' 'theme' 'think' 'tiny'\n",
      " 'told' 'touted' 'track' 'transferred' 'tsunami' 'turn' 'tv' 'upgrade'\n",
      " 'video' 'videos' 'visual' 'want' 'way' 'wearable' 'work' 'working'\n",
      " 'world' 'worlds' 'year' 'youth'] \n",
      "\n"
     ]
    }
   ],
   "source": [
    "\n",
    "write_terms(feature_names, train_data.Text, train_preprocessed,100)"
   ]
  },
  {
   "cell_type": "markdown",
   "metadata": {},
   "source": [
    "Podemos observar en el texto vectorizado que se han eliminado números, \"stop-words\", pero podemos observar que practicamente todas las palabras que aparecen en el texto, tambien aparecen en la bolsa de palabras."
   ]
  },
  {
   "cell_type": "code",
   "execution_count": 37,
   "metadata": {},
   "outputs": [],
   "source": [
    "from sklearn.metrics.pairwise import cosine_similarity\n",
    "\n",
    "def knn(query, X_train, k):\n",
    "    '''Devuelve los índices de los k documentos de entrenamiento más similares a la consulta usando \n",
    "    la similitud del coseno.\n",
    "    \n",
    "    Parámetros:\n",
    "    - query: documento consulta vectorizado\n",
    "    - X_train: documentos de entrenamiento vectorizados\n",
    "    - k: número de documentos a recuperar\n",
    "    \n",
    "    Devuelve:\n",
    "    - índices de los k documentos más similares a la consulta.\n",
    "    '''\n",
    "    \n",
    "    # Necesitamos un vector de dimensión (1, X). Si se pasa un vector de dimensión X, transformarlo\n",
    "    if len(query.shape) == 1:\n",
    "        query = query.reshape(1, -1)\n",
    "\n",
    "    simil = cosine_similarity(query, X_train)\n",
    "    simil_idx = np.argsort(simil.flatten())\n",
    "    simil_idx = simil_idx[::-1]\n",
    "    return simil_idx[:k]"
   ]
  },
  {
   "cell_type": "code",
   "execution_count": 38,
   "metadata": {},
   "outputs": [],
   "source": [
    "def precision_at_k(y_selected, y_real, k):\n",
    "    '''Devuelve la precisión @k de los documentos seleccionados.\n",
    "    \n",
    "    Parametros:\n",
    "    - y_selected: etiquetas de los documentos seleccionados (se usan los k primeros)\n",
    "    - y_real: etiqueta de la categoría correcta\n",
    "    - k: número de documentos que se tienen en cuenta\n",
    "    \n",
    "    Devuelve:\n",
    "    - Precisión@k\n",
    "    '''\n",
    "    \n",
    "    return np.sum(y_selected[:k] == y_real) / k * 100"
   ]
  },
  {
   "cell_type": "code",
   "execution_count": 39,
   "metadata": {},
   "outputs": [],
   "source": [
    "def mean_precisions_per_class(X_train, y_train, X_test, y_test, k):\n",
    "    '''Devuelve las precision@k media para cada una de las classes.\n",
    "    \n",
    "    Parámetros:\n",
    "    - X_train: documentos de entrenamiento vectorizados.\n",
    "    - y_train: etiquetas de los documentos de entrenamiento.\n",
    "    - X_test: documentos vectorizados que se usan como consultas\n",
    "    - y_test: etiquetas de los documentos que se usan como consultas\n",
    "    - k: número de documentos considerados a recuperar por la consulta\n",
    "    \n",
    "    Devuelve:\n",
    "    - Diccionario clase -> precisión en tanto por ciento.\n",
    "    '''\n",
    "    \n",
    "    # diccionario categoría -> lista de precisiones\n",
    "    y_precisions = {y: [] for y in np.unique(y_test)}\n",
    "    \n",
    "    # Calcular precision@k para cada consulta\n",
    "    for x_query, y_query in zip(X_test, y_test):\n",
    "        idx = knn(x_query, X_train, k)\n",
    "        y_selected = np.take(y_train, idx)\n",
    "        precision = precision_at_k(y_selected, y_query, k)\n",
    "        y_precisions[y_query].append(precision)\n",
    "        \n",
    "    # Calcular medias\n",
    "    for y in y_precisions:\n",
    "        y_precisions[y] = np.mean(y_precisions[y])\n",
    "    \n",
    "    return y_precisions"
   ]
  },
  {
   "cell_type": "code",
   "execution_count": 52,
   "metadata": {},
   "outputs": [],
   "source": [
    "# Tomamos los textos del conjunto de test y los transformamos en una matriz\n",
    "# de palabras. Al usar \"transform\" toma como referencia únicamente las palabras\n",
    "# encontradas en el conjunto de entrenamiento\n",
    "test_vector_data = vectorizer.transform(test_data.Text)\n",
    "\n",
    "# Si sobre la consulta también realizamos la ponderación TF/IDF estamos amplificando\n",
    "# el efecto de la misma a la hora de recuperar ejemplos relevantes\n",
    "test_preprocessed = tfidftrans.transform(test_vector_data)"
   ]
  },
  {
   "cell_type": "code",
   "execution_count": 78,
   "metadata": {},
   "outputs": [
    {
     "name": "stdout",
     "output_type": "stream",
     "text": [
      "{'business': 75.42857142857143, 'entertainment': 80.45454545454545, 'politics': 88.0, 'sport': 97.6470588235294, 'tech': 96.0}\n"
     ]
    }
   ],
   "source": [
    "p5 = mean_precisions_per_class(train_preprocessed, train_data.Category, test_preprocessed[:200], test_data.Category[:200], 5)\n",
    "    \n",
    "print(p5)"
   ]
  },
  {
   "cell_type": "markdown",
   "metadata": {},
   "source": [
    "Podemos observar que se obtiene la mejor precisión@5 para los documentos de categoria deportes, lo que nos puede indicar que la categoria deportes tiene un vocabulario mas concreto que nos puede ayudar a clasificar mas facilmente los documentos de este tipo. La peor precisión seria para la categoría negocios, lo cual nos indica que va a ser mas dificil recuperar documentos de este tipo respecto a las demas categorias."
   ]
  },
  {
   "cell_type": "code",
   "execution_count": 18,
   "metadata": {},
   "outputs": [
    {
     "data": {
      "text/plain": [
       "<AxesSubplot:xlabel='target'>"
      ]
     },
     "execution_count": 18,
     "metadata": {},
     "output_type": "execute_result"
    },
    {
     "data": {
      "image/png": "[encoded data removed]",
      "text/plain": [
       "<Figure size 432x288 with 1 Axes>"
      ]
     },
     "metadata": {
      "needs_background": "light"
     },
     "output_type": "display_data"
    }
   ],
   "source": [
    "df_p5 = pd.DataFrame.from_dict(p5, orient='index', columns=['precision@10'])\n",
    "\n",
    "df_p5[\"target\"] =  [\"business\", \"politics\", \"entertaiment\", \"sports\", \"tech\"]\n",
    "\n",
    "d = df_p5.set_index(\"target\")\n",
    "\n",
    "d.plot.bar()\n"
   ]
  },
  {
   "cell_type": "markdown",
   "metadata": {},
   "source": [
    "Podemos observar que las precisiones se encuentran entre el 75% y el 95%, siendo la peor para  negocios y la mejor para deportes, conlo ual podemos decir que, en general, se recuperan los textos de manera bastante correcta. La categoria de deportes tiene un vocabulario mas concreto que el resto de categorias. Por ejemplo, la categoria entretenimiento puede tener terminos mas distantes entre si, mientras que el deporte tiene palabras mas cercanas entre si, \"ball, \"league\", \"player\", son palabras que facilmente se pueden reconocer como parte de un deporte, aunque no sepamos cual es."
   ]
  },
  {
   "cell_type": "markdown",
   "metadata": {
    "id": "lH7sldldpzXi"
   },
   "source": [
    "## 3) Representación basada en word-embeddings y tf-idf\n",
    "\n",
    "La segunda vectorización que vamos a usar representará los mensajes usando usando word-embeddings usando como los pesos tf-idf de cada palabra. Al igual que en el apartado anterior, usaremos monogramas y las _stop words_ que vienen configuradas por defecto para el inglés. Recuerda usar como vocabulario para vectorizar el vocabulario del fichero con las word-embeddings.\n",
    "\n",
    "Aplica la vectorización a los conjuntos de mensajes de entrenamiento y test.\n",
    "\n",
    "Calcula la precisión@5 de cada una de las clases usando como consultas los documentos de la partición de test y la similitud del coseno. Vamos a considerar que un documento recuperado es relevante cuando pertenezca a la misma clase que la consulta.\n",
    "\n",
    "Dibuja los resultados en un diagrama de barras y compara los resultados con los del apartado anterior."
   ]
  },
  {
   "cell_type": "code",
   "execution_count": 71,
   "metadata": {},
   "outputs": [],
   "source": [
    "from gensim.scripts.glove2word2vec import glove2word2vec\n",
    "from gensim.models import KeyedVectors"
   ]
  },
  {
   "cell_type": "code",
   "execution_count": 72,
   "metadata": {},
   "outputs": [],
   "source": [
    "glove_file = 'glove.6B.50d.txt'\n",
    "\n",
    "# Gensim 4 puede transformar de glove a word2vec directamente\n",
    "model = KeyedVectors.load_word2vec_format(glove_file, binary=False, no_header=True)"
   ]
  },
  {
   "cell_type": "code",
   "execution_count": 80,
   "metadata": {},
   "outputs": [],
   "source": [
    "# En Gensim 3 se pueden obtener de la siguiente manera\n",
    "# words = list(model.vocab.keys())\n",
    "\n",
    "# En Gensim 4 se pueden obtener de la siguiente manera\n",
    "# we_vocabulary = sorted(model.key_to_index.keys(), key=lambda word: model.get_vecattr(word, \"count\"), reverse=True)\n",
    "we_vocabulary = list(model.key_to_index.keys())\n",
    "\n",
    "# En vocabulary le pasamos el de la word-embedding, ponemos que pase los tokens a minusculas \n",
    "# Si ponemos binary a False coge frecuencias y si está en true presencia en modo binario\n",
    "#vectorizer = CountVectorizer(vocabulary = we_vocabulary, binary = False)\n",
    "\n",
    "# Si usamos la lista de palabras vacías del inglés de sklearn quitamos artículos, preposiciones, etc \n",
    "vectorizer = CountVectorizer(vocabulary = we_vocabulary, stop_words='english', binary = False)\n",
    "\n",
    "\n",
    "train_vector_dataWE = vectorizer.fit_transform(train_data.Text)\n",
    "test_vector_dataWE = vectorizer.fit_transform(test_data.Text)"
   ]
  },
  {
   "cell_type": "code",
   "execution_count": 81,
   "metadata": {},
   "outputs": [],
   "source": [
    "tfidftrans = TfidfTransformer()\n",
    "train_preprocessedWE = tfidftrans.fit_transform(train_vector_dataWE)\n",
    "test_preprocessedWE = tfidftrans.fit_transform(test_vector_dataWE)\n"
   ]
  },
  {
   "cell_type": "code",
   "execution_count": 84,
   "metadata": {},
   "outputs": [
    {
     "name": "stdout",
     "output_type": "stream",
     "text": [
      "{'business': 76.0, 'entertainment': 80.45454545454545, 'politics': 89.0, 'sport': 96.47058823529412, 'tech': 95.33333333333333}\n"
     ]
    }
   ],
   "source": [
    "p1 = mean_precisions_per_class(train_preprocessedWE, train_data.Category, test_preprocessedWE[:200], test_data.Category[:200], 5)\n",
    "\n",
    "print(p1)\n"
   ]
  },
  {
   "cell_type": "code",
   "execution_count": 87,
   "metadata": {
    "scrolled": true
   },
   "outputs": [
    {
     "data": {
      "text/plain": [
       "<AxesSubplot:xlabel='target'>"
      ]
     },
     "execution_count": 87,
     "metadata": {},
     "output_type": "execute_result"
    },
    {
     "data": {
      "image/png": "[encoded data removed]",
      "text/plain": [
       "<Figure size 432x288 with 1 Axes>"
      ]
     },
     "metadata": {
      "needs_background": "light"
     },
     "output_type": "display_data"
    }
   ],
   "source": [
    "df_p1 = pd.DataFrame.from_dict(p1, orient='index', columns=['precision@10'])\n",
    "\n",
    "df_p1[\"target\"] =  [\"business\", \"politics\", \"entertaiment\", \"sports\", \"tech\"]\n",
    "\n",
    "d = df_p1.set_index(\"target\")\n",
    "\n",
    "d.plot.bar()"
   ]
  },
  {
   "cell_type": "markdown",
   "metadata": {},
   "source": [
    "Podemos ver, que la categoria que mejor se clasifica sigue siendo deportes, mientras que la peor es otra vez negocios. Tampoco vemos que las precisiones mejoren ni empeoren respecto a la clasificación que hemos hecho en el punto 2, con lo cual nos da un poco igual en este caso cual de las dos formas podemos usar. Lo que si podemos decir, es que ambas recuperan los textos y los clasifican con una precisión bastante alta."
   ]
  },
  {
   "cell_type": "markdown",
   "metadata": {
    "id": "d-J6GYut4DGu"
   },
   "source": [
    "## 4) Análisis de errores\n",
    "\n",
    "Vamos a investigar los resultados para entender mejor dónde están fallando los procesos de recuperación. Sigue los siguientes pasos.\n",
    "\n",
    "\n",
    "1. Identifica la categoría de noticias donde la precisión media haya mejorado más al incorporar word-embeddings\n",
    "2. Para dicha categoría, identifica la consulta donde la precisión haya mejorado más al usar word-embeddings\n",
    "3. Muestra el texto original de la consulta y los términos que aparecen en las dos vectorizaciones tf-idf que usamos (recuerda que usamos diccionarios distintos para las vectorizaciones bolsa de palabras y word-embeddings).\n",
    "4. Identifica las noticias recuperadas para dicha consulta para las dos aproximaciones y sus categorías (TF-IDF puro y con word-embeddings)\n",
    "5. Muestra la intersección de términos entre la consulta y la primera noticia mal recuperada usando TF-IDF puro.\n",
    "6. Muestra la intersección de términos entre la consulta y la última noticia bien recuperada usando word-embeddings.\n",
    "7. A la luz de todo lo anterior, razona sobre por qué crees que el TF-IDF no fue capaz de clasificar bien la noticia y el word-embedding sí.\n",
    "\n",
    "\n",
    "Puedes usar el código que calcula la intersección de términos que ponemos a continuación"
   ]
  },
  {
   "cell_type": "code",
   "execution_count": 92,
   "metadata": {
    "id": "RUat8DCRLYs1"
   },
   "outputs": [],
   "source": [
    "def terms_in_message(feature_names,vector_data,index):\n",
    "    '''\n",
    "    Devuelve un conjunto los términos presentes en un mensaje representado como bolsa de palabras.\n",
    "    \n",
    "    - feature_names: terminos usados para vectorizar\n",
    "    - vector_data: matriz (dispersa) de mensaje vectorizados\n",
    "    - index: posición del mensaje a mostrar\n",
    "    '''\n",
    "    mensaje=vector_data[index,:]>0\n",
    "    terminos_presentes = ma.array(feature_names, mask = ~(mensaje[0].toarray()))\n",
    "\n",
    "    return set(terminos_presentes.compressed())"
   ]
  },
  {
   "cell_type": "markdown",
   "metadata": {},
   "source": [
    "1. Identifica la categoría de noticias donde la precisión media haya mejorado más al incorporar word-embeddings"
   ]
  },
  {
   "cell_type": "code",
   "execution_count": 93,
   "metadata": {
    "scrolled": true
   },
   "outputs": [
    {
     "name": "stdout",
     "output_type": "stream",
     "text": [
      "{'business': 75.42857142857143, 'entertainment': 80.45454545454545, 'politics': 88.0, 'sport': 97.6470588235294, 'tech': 96.0}\n",
      "{'business': 76.0, 'entertainment': 80.45454545454545, 'politics': 89.0, 'sport': 96.47058823529412, 'tech': 95.33333333333333}\n"
     ]
    }
   ],
   "source": [
    "print(p5)\n",
    "print(p1) ##Precision media con word-embbedings"
   ]
  },
  {
   "cell_type": "markdown",
   "metadata": {},
   "source": [
    "Podemos observar que con los word-embeddings, mejora la precision para negocios y politica, mientras que empeora para tecnologia y deportes. Las mejoras suponen <= 1% del total de la precisión, con lo cual tampoco podemos decir que la mejora sea muy notable. La categoria de politica es la que ha mejorado más."
   ]
  },
  {
   "cell_type": "code",
   "execution_count": null,
   "metadata": {},
   "outputs": [],
   "source": []
  }
 ],
 "metadata": {
  "colab": {
   "name": "P2_recuperacion_informacion_2122_enunciado.ipynb",
   "provenance": []
  },
  "kernelspec": {
   "display_name": "Python 3 (ipykernel)",
   "language": "python",
   "name": "python3"
  },
  "language_info": {
   "codemirror_mode": {
    "name": "ipython",
    "version": 3
   },
   "file_extension": ".py",
   "mimetype": "text/x-python",
   "name": "python",
   "nbconvert_exporter": "python",
   "pygments_lexer": "ipython3",
   "version": "3.9.7"
  }
 },
 "nbformat": 4,
 "nbformat_minor": 1
}
